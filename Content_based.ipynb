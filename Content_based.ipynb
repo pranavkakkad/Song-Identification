{
  "nbformat": 4,
  "nbformat_minor": 0,
  "metadata": {
    "colab": {
      "name": "SONG_LYRICS.ipynb",
      "provenance": [],
      "collapsed_sections": [],
      "authorship_tag": "ABX9TyOEwIu/eVvRf/gePXIU5E7+",
      "include_colab_link": true
    },
    "kernelspec": {
      "name": "python3",
      "display_name": "Python 3"
    },
    "language_info": {
      "name": "python"
    }
  },
  "cells": [
    {
      "cell_type": "markdown",
      "metadata": {
        "id": "view-in-github",
        "colab_type": "text"
      },
      "source": [
        "<a href=\"https://colab.research.google.com/github/pranavkakkad/Song-Identification/blob/master/Content_based.ipynb\" target=\"_parent\"><img src=\"https://colab.research.google.com/assets/colab-badge.svg\" alt=\"Open In Colab\"/></a>"
      ]
    },
    {
      "cell_type": "code",
      "metadata": {
        "colab": {
          "base_uri": "https://localhost:8080/"
        },
        "id": "ZAOl_nESllKo",
        "outputId": "b06ee148-9791-499a-8774-45edcdaa9e0f"
      },
      "source": [
        "from google.colab import drive\n",
        "drive.mount('/content/drive',force_remount=True)"
      ],
      "execution_count": 1,
      "outputs": [
        {
          "output_type": "stream",
          "text": [
            "Mounted at /content/drive\n"
          ],
          "name": "stdout"
        }
      ]
    },
    {
      "cell_type": "code",
      "metadata": {
        "id": "HJMaM7qmk6fm"
      },
      "source": [
        "import numpy as np\n",
        "import pandas as pd\n",
        "import sqlite3 as sql"
      ],
      "execution_count": 165,
      "outputs": []
    },
    {
      "cell_type": "code",
      "metadata": {
        "id": "q4vJBmiFjENf"
      },
      "source": [
        "triplets = pd.read_csv(\"/content/drive/MyDrive/song_Dataset/10000.txt\",sep=\"\\t\",names=[\"user_id\",\"song_id\",\"count\"],header=None)"
      ],
      "execution_count": 166,
      "outputs": []
    },
    {
      "cell_type": "code",
      "metadata": {
        "colab": {
          "base_uri": "https://localhost:8080/",
          "height": 204
        },
        "id": "AEeqAKPwpDwM",
        "outputId": "fd791ad1-def8-4f6b-a140-39be68f01721"
      },
      "source": [
        "triplets.head()"
      ],
      "execution_count": 167,
      "outputs": [
        {
          "output_type": "execute_result",
          "data": {
            "text/html": [
              "<div>\n",
              "<style scoped>\n",
              "    .dataframe tbody tr th:only-of-type {\n",
              "        vertical-align: middle;\n",
              "    }\n",
              "\n",
              "    .dataframe tbody tr th {\n",
              "        vertical-align: top;\n",
              "    }\n",
              "\n",
              "    .dataframe thead th {\n",
              "        text-align: right;\n",
              "    }\n",
              "</style>\n",
              "<table border=\"1\" class=\"dataframe\">\n",
              "  <thead>\n",
              "    <tr style=\"text-align: right;\">\n",
              "      <th></th>\n",
              "      <th>user_id</th>\n",
              "      <th>song_id</th>\n",
              "      <th>count</th>\n",
              "    </tr>\n",
              "  </thead>\n",
              "  <tbody>\n",
              "    <tr>\n",
              "      <th>0</th>\n",
              "      <td>b80344d063b5ccb3212f76538f3d9e43d87dca9e</td>\n",
              "      <td>SOAKIMP12A8C130995</td>\n",
              "      <td>1</td>\n",
              "    </tr>\n",
              "    <tr>\n",
              "      <th>1</th>\n",
              "      <td>b80344d063b5ccb3212f76538f3d9e43d87dca9e</td>\n",
              "      <td>SOBBMDR12A8C13253B</td>\n",
              "      <td>2</td>\n",
              "    </tr>\n",
              "    <tr>\n",
              "      <th>2</th>\n",
              "      <td>b80344d063b5ccb3212f76538f3d9e43d87dca9e</td>\n",
              "      <td>SOBXHDL12A81C204C0</td>\n",
              "      <td>1</td>\n",
              "    </tr>\n",
              "    <tr>\n",
              "      <th>3</th>\n",
              "      <td>b80344d063b5ccb3212f76538f3d9e43d87dca9e</td>\n",
              "      <td>SOBYHAJ12A6701BF1D</td>\n",
              "      <td>1</td>\n",
              "    </tr>\n",
              "    <tr>\n",
              "      <th>4</th>\n",
              "      <td>b80344d063b5ccb3212f76538f3d9e43d87dca9e</td>\n",
              "      <td>SODACBL12A8C13C273</td>\n",
              "      <td>1</td>\n",
              "    </tr>\n",
              "  </tbody>\n",
              "</table>\n",
              "</div>"
            ],
            "text/plain": [
              "                                    user_id             song_id  count\n",
              "0  b80344d063b5ccb3212f76538f3d9e43d87dca9e  SOAKIMP12A8C130995      1\n",
              "1  b80344d063b5ccb3212f76538f3d9e43d87dca9e  SOBBMDR12A8C13253B      2\n",
              "2  b80344d063b5ccb3212f76538f3d9e43d87dca9e  SOBXHDL12A81C204C0      1\n",
              "3  b80344d063b5ccb3212f76538f3d9e43d87dca9e  SOBYHAJ12A6701BF1D      1\n",
              "4  b80344d063b5ccb3212f76538f3d9e43d87dca9e  SODACBL12A8C13C273      1"
            ]
          },
          "metadata": {
            "tags": []
          },
          "execution_count": 167
        }
      ]
    },
    {
      "cell_type": "code",
      "metadata": {
        "colab": {
          "base_uri": "https://localhost:8080/"
        },
        "id": "Bp1jQ16srPem",
        "outputId": "5619d2c8-64ef-45d6-8037-f00a710f5db6"
      },
      "source": [
        "song_unique_list = triplets[\"song_id\"].unique()\n",
        "len(song_unique_list)"
      ],
      "execution_count": 168,
      "outputs": [
        {
          "output_type": "execute_result",
          "data": {
            "text/plain": [
              "10000"
            ]
          },
          "metadata": {
            "tags": []
          },
          "execution_count": 168
        }
      ]
    },
    {
      "cell_type": "code",
      "metadata": {
        "colab": {
          "base_uri": "https://localhost:8080/"
        },
        "id": "w2oDDlhArxFp",
        "outputId": "faae6128-d590-47ba-c3d4-02cf80c0ca27"
      },
      "source": [
        "len(triplets[\"song_id\"].to_numpy())"
      ],
      "execution_count": 169,
      "outputs": [
        {
          "output_type": "execute_result",
          "data": {
            "text/plain": [
              "2000000"
            ]
          },
          "metadata": {
            "tags": []
          },
          "execution_count": 169
        }
      ]
    },
    {
      "cell_type": "code",
      "metadata": {
        "colab": {
          "base_uri": "https://localhost:8080/"
        },
        "id": "z1ViNwLBpQ6h",
        "outputId": "a6718bf8-c3b0-4672-d303-15a0f43af7b8"
      },
      "source": [
        "unique_track = pd.read_csv(\"/content/drive/MyDrive/song_lyrics/unique_tracks.txt\",sep=\"<SEP>\",header=None,names=[\"track_id\",\"song_id\",\"artist_name\",\"title\"])"
      ],
      "execution_count": 170,
      "outputs": [
        {
          "output_type": "stream",
          "text": [
            "/usr/local/lib/python3.7/dist-packages/ipykernel_launcher.py:1: ParserWarning: Falling back to the 'python' engine because the 'c' engine does not support regex separators (separators > 1 char and different from '\\s+' are interpreted as regex); you can avoid this warning by specifying engine='python'.\n",
            "  \"\"\"Entry point for launching an IPython kernel.\n"
          ],
          "name": "stderr"
        }
      ]
    },
    {
      "cell_type": "code",
      "metadata": {
        "colab": {
          "base_uri": "https://localhost:8080/",
          "height": 204
        },
        "id": "hq37dugupi4a",
        "outputId": "12a9b1b7-c7dc-4b58-b192-7e72e41e2c3c"
      },
      "source": [
        "unique_track.head()"
      ],
      "execution_count": 171,
      "outputs": [
        {
          "output_type": "execute_result",
          "data": {
            "text/html": [
              "<div>\n",
              "<style scoped>\n",
              "    .dataframe tbody tr th:only-of-type {\n",
              "        vertical-align: middle;\n",
              "    }\n",
              "\n",
              "    .dataframe tbody tr th {\n",
              "        vertical-align: top;\n",
              "    }\n",
              "\n",
              "    .dataframe thead th {\n",
              "        text-align: right;\n",
              "    }\n",
              "</style>\n",
              "<table border=\"1\" class=\"dataframe\">\n",
              "  <thead>\n",
              "    <tr style=\"text-align: right;\">\n",
              "      <th></th>\n",
              "      <th>track_id</th>\n",
              "      <th>song_id</th>\n",
              "      <th>artist_name</th>\n",
              "      <th>title</th>\n",
              "    </tr>\n",
              "  </thead>\n",
              "  <tbody>\n",
              "    <tr>\n",
              "      <th>0</th>\n",
              "      <td>TRMMMYQ128F932D901</td>\n",
              "      <td>SOQMMHC12AB0180CB8</td>\n",
              "      <td>Faster Pussy cat</td>\n",
              "      <td>Silent Night</td>\n",
              "    </tr>\n",
              "    <tr>\n",
              "      <th>1</th>\n",
              "      <td>TRMMMKD128F425225D</td>\n",
              "      <td>SOVFVAK12A8C1350D9</td>\n",
              "      <td>Karkkiautomaatti</td>\n",
              "      <td>Tanssi vaan</td>\n",
              "    </tr>\n",
              "    <tr>\n",
              "      <th>2</th>\n",
              "      <td>TRMMMRX128F93187D9</td>\n",
              "      <td>SOGTUKN12AB017F4F1</td>\n",
              "      <td>Hudson Mohawke</td>\n",
              "      <td>No One Could Ever</td>\n",
              "    </tr>\n",
              "    <tr>\n",
              "      <th>3</th>\n",
              "      <td>TRMMMCH128F425532C</td>\n",
              "      <td>SOBNYVR12A8C13558C</td>\n",
              "      <td>Yerba Brava</td>\n",
              "      <td>Si Vos Querés</td>\n",
              "    </tr>\n",
              "    <tr>\n",
              "      <th>4</th>\n",
              "      <td>TRMMMWA128F426B589</td>\n",
              "      <td>SOHSBXH12A8C13B0DF</td>\n",
              "      <td>Der Mystic</td>\n",
              "      <td>Tangle Of Aspens</td>\n",
              "    </tr>\n",
              "  </tbody>\n",
              "</table>\n",
              "</div>"
            ],
            "text/plain": [
              "             track_id             song_id       artist_name              title\n",
              "0  TRMMMYQ128F932D901  SOQMMHC12AB0180CB8  Faster Pussy cat       Silent Night\n",
              "1  TRMMMKD128F425225D  SOVFVAK12A8C1350D9  Karkkiautomaatti        Tanssi vaan\n",
              "2  TRMMMRX128F93187D9  SOGTUKN12AB017F4F1    Hudson Mohawke  No One Could Ever\n",
              "3  TRMMMCH128F425532C  SOBNYVR12A8C13558C       Yerba Brava      Si Vos Querés\n",
              "4  TRMMMWA128F426B589  SOHSBXH12A8C13B0DF        Der Mystic   Tangle Of Aspens"
            ]
          },
          "metadata": {
            "tags": []
          },
          "execution_count": 171
        }
      ]
    },
    {
      "cell_type": "code",
      "metadata": {
        "id": "LoAWgkgUscfz"
      },
      "source": [
        "unique_track = unique_track[unique_track.song_id.isin(song_unique_list)]"
      ],
      "execution_count": 172,
      "outputs": []
    },
    {
      "cell_type": "code",
      "metadata": {
        "colab": {
          "base_uri": "https://localhost:8080/",
          "height": 204
        },
        "id": "bat2ADI6s98L",
        "outputId": "3299924e-a1f1-4b71-a356-809b46e9b176"
      },
      "source": [
        "unique_track.head()"
      ],
      "execution_count": 173,
      "outputs": [
        {
          "output_type": "execute_result",
          "data": {
            "text/html": [
              "<div>\n",
              "<style scoped>\n",
              "    .dataframe tbody tr th:only-of-type {\n",
              "        vertical-align: middle;\n",
              "    }\n",
              "\n",
              "    .dataframe tbody tr th {\n",
              "        vertical-align: top;\n",
              "    }\n",
              "\n",
              "    .dataframe thead th {\n",
              "        text-align: right;\n",
              "    }\n",
              "</style>\n",
              "<table border=\"1\" class=\"dataframe\">\n",
              "  <thead>\n",
              "    <tr style=\"text-align: right;\">\n",
              "      <th></th>\n",
              "      <th>track_id</th>\n",
              "      <th>song_id</th>\n",
              "      <th>artist_name</th>\n",
              "      <th>title</th>\n",
              "    </tr>\n",
              "  </thead>\n",
              "  <tbody>\n",
              "    <tr>\n",
              "      <th>245</th>\n",
              "      <td>TRMMCDR128F423AB03</td>\n",
              "      <td>SOSZNRJ12A8AE46E38</td>\n",
              "      <td>Michael Cera &amp; Ellen Page</td>\n",
              "      <td>Anyone Else But You</td>\n",
              "    </tr>\n",
              "    <tr>\n",
              "      <th>412</th>\n",
              "      <td>TRMMFSL128F4234583</td>\n",
              "      <td>SOGKGLB12A81C22AFA</td>\n",
              "      <td>Kanye West / Mos Def</td>\n",
              "      <td>Drunk and Hot Girls</td>\n",
              "    </tr>\n",
              "    <tr>\n",
              "      <th>464</th>\n",
              "      <td>TRMMQSP128F1486267</td>\n",
              "      <td>SOWZDNH12A6D4F7237</td>\n",
              "      <td>Story Of The Year</td>\n",
              "      <td>Until The Day I Die (Album Version)</td>\n",
              "    </tr>\n",
              "    <tr>\n",
              "      <th>484</th>\n",
              "      <td>TRMMQOL128F9340687</td>\n",
              "      <td>SOQBGZD12AB0184341</td>\n",
              "      <td>Paramore</td>\n",
              "      <td>Rewind (Demo)</td>\n",
              "    </tr>\n",
              "    <tr>\n",
              "      <th>548</th>\n",
              "      <td>TRMMZKU128F4296801</td>\n",
              "      <td>SOTPWHK12A8AE46DC8</td>\n",
              "      <td>Rick Astley</td>\n",
              "      <td>Never Knew Love</td>\n",
              "    </tr>\n",
              "  </tbody>\n",
              "</table>\n",
              "</div>"
            ],
            "text/plain": [
              "               track_id  ...                                title\n",
              "245  TRMMCDR128F423AB03  ...                  Anyone Else But You\n",
              "412  TRMMFSL128F4234583  ...                  Drunk and Hot Girls\n",
              "464  TRMMQSP128F1486267  ...  Until The Day I Die (Album Version)\n",
              "484  TRMMQOL128F9340687  ...                        Rewind (Demo)\n",
              "548  TRMMZKU128F4296801  ...                      Never Knew Love\n",
              "\n",
              "[5 rows x 4 columns]"
            ]
          },
          "metadata": {
            "tags": []
          },
          "execution_count": 173
        }
      ]
    },
    {
      "cell_type": "code",
      "metadata": {
        "colab": {
          "base_uri": "https://localhost:8080/"
        },
        "id": "SAXMo1JIsLbj",
        "outputId": "4d88cdd5-bacd-49b6-f398-6a5157326910"
      },
      "source": [
        "unique_track[\"song_id\"].nunique()"
      ],
      "execution_count": 174,
      "outputs": [
        {
          "output_type": "execute_result",
          "data": {
            "text/plain": [
              "10000"
            ]
          },
          "metadata": {
            "tags": []
          },
          "execution_count": 174
        }
      ]
    },
    {
      "cell_type": "code",
      "metadata": {
        "id": "7JjY_D-Vpkbn"
      },
      "source": [
        "merge_df = triplets.merge(unique_track,how=\"inner\",on=\"song_id\")"
      ],
      "execution_count": 175,
      "outputs": []
    },
    {
      "cell_type": "code",
      "metadata": {
        "colab": {
          "base_uri": "https://localhost:8080/",
          "height": 204
        },
        "id": "ZnWPP2vnp_Vg",
        "outputId": "d8f6061f-51bb-41ae-c840-add4a29784a3"
      },
      "source": [
        "merge_df.head()"
      ],
      "execution_count": 176,
      "outputs": [
        {
          "output_type": "execute_result",
          "data": {
            "text/html": [
              "<div>\n",
              "<style scoped>\n",
              "    .dataframe tbody tr th:only-of-type {\n",
              "        vertical-align: middle;\n",
              "    }\n",
              "\n",
              "    .dataframe tbody tr th {\n",
              "        vertical-align: top;\n",
              "    }\n",
              "\n",
              "    .dataframe thead th {\n",
              "        text-align: right;\n",
              "    }\n",
              "</style>\n",
              "<table border=\"1\" class=\"dataframe\">\n",
              "  <thead>\n",
              "    <tr style=\"text-align: right;\">\n",
              "      <th></th>\n",
              "      <th>user_id</th>\n",
              "      <th>song_id</th>\n",
              "      <th>count</th>\n",
              "      <th>track_id</th>\n",
              "      <th>artist_name</th>\n",
              "      <th>title</th>\n",
              "    </tr>\n",
              "  </thead>\n",
              "  <tbody>\n",
              "    <tr>\n",
              "      <th>0</th>\n",
              "      <td>b80344d063b5ccb3212f76538f3d9e43d87dca9e</td>\n",
              "      <td>SOAKIMP12A8C130995</td>\n",
              "      <td>1</td>\n",
              "      <td>TRIQAUQ128F42435AD</td>\n",
              "      <td>Jack Johnson</td>\n",
              "      <td>The Cove</td>\n",
              "    </tr>\n",
              "    <tr>\n",
              "      <th>1</th>\n",
              "      <td>7c86176941718984fed11b7c0674ff04c029b480</td>\n",
              "      <td>SOAKIMP12A8C130995</td>\n",
              "      <td>1</td>\n",
              "      <td>TRIQAUQ128F42435AD</td>\n",
              "      <td>Jack Johnson</td>\n",
              "      <td>The Cove</td>\n",
              "    </tr>\n",
              "    <tr>\n",
              "      <th>2</th>\n",
              "      <td>76235885b32c4e8c82760c340dc54f9b608d7d7e</td>\n",
              "      <td>SOAKIMP12A8C130995</td>\n",
              "      <td>3</td>\n",
              "      <td>TRIQAUQ128F42435AD</td>\n",
              "      <td>Jack Johnson</td>\n",
              "      <td>The Cove</td>\n",
              "    </tr>\n",
              "    <tr>\n",
              "      <th>3</th>\n",
              "      <td>250c0fa2a77bc6695046e7c47882ecd85c42d748</td>\n",
              "      <td>SOAKIMP12A8C130995</td>\n",
              "      <td>1</td>\n",
              "      <td>TRIQAUQ128F42435AD</td>\n",
              "      <td>Jack Johnson</td>\n",
              "      <td>The Cove</td>\n",
              "    </tr>\n",
              "    <tr>\n",
              "      <th>4</th>\n",
              "      <td>3f73f44560e822344b0fb7c6b463869743eb9860</td>\n",
              "      <td>SOAKIMP12A8C130995</td>\n",
              "      <td>6</td>\n",
              "      <td>TRIQAUQ128F42435AD</td>\n",
              "      <td>Jack Johnson</td>\n",
              "      <td>The Cove</td>\n",
              "    </tr>\n",
              "  </tbody>\n",
              "</table>\n",
              "</div>"
            ],
            "text/plain": [
              "                                    user_id  ...     title\n",
              "0  b80344d063b5ccb3212f76538f3d9e43d87dca9e  ...  The Cove\n",
              "1  7c86176941718984fed11b7c0674ff04c029b480  ...  The Cove\n",
              "2  76235885b32c4e8c82760c340dc54f9b608d7d7e  ...  The Cove\n",
              "3  250c0fa2a77bc6695046e7c47882ecd85c42d748  ...  The Cove\n",
              "4  3f73f44560e822344b0fb7c6b463869743eb9860  ...  The Cove\n",
              "\n",
              "[5 rows x 6 columns]"
            ]
          },
          "metadata": {
            "tags": []
          },
          "execution_count": 176
        }
      ]
    },
    {
      "cell_type": "code",
      "metadata": {
        "colab": {
          "base_uri": "https://localhost:8080/"
        },
        "id": "-38I6BCAqBsr",
        "outputId": "9cf070c3-d543-424c-d422-2d8e97ef9de1"
      },
      "source": [
        "match_df = pd.read_csv(\"/content/drive/MyDrive/song_lyrics/mxm_779k_matches.txt\",header=None,comment=\"#\",\n",
        "                       names=[\"track_id\",\"artist_name\",\"title\",\"mxm_id\",\"mxm_artist\",\"mxm_title\"],sep=\"<SEP>\")"
      ],
      "execution_count": 177,
      "outputs": [
        {
          "output_type": "stream",
          "text": [
            "/usr/local/lib/python3.7/dist-packages/ipykernel_launcher.py:2: ParserWarning: Falling back to the 'python' engine because the 'c' engine does not support regex separators (separators > 1 char and different from '\\s+' are interpreted as regex); you can avoid this warning by specifying engine='python'.\n",
            "  \n"
          ],
          "name": "stderr"
        }
      ]
    },
    {
      "cell_type": "code",
      "metadata": {
        "id": "rnktHzrUt1J9"
      },
      "source": [
        "match_df = match_df[[\"track_id\",\"mxm_artist\",\"mxm_title\",\"mxm_id\"]]"
      ],
      "execution_count": 178,
      "outputs": []
    },
    {
      "cell_type": "code",
      "metadata": {
        "colab": {
          "base_uri": "https://localhost:8080/",
          "height": 204
        },
        "id": "HRv5X82QqL1n",
        "outputId": "51038c2f-51c5-4ccd-b271-e543d41edd76"
      },
      "source": [
        "match_df.head()"
      ],
      "execution_count": 179,
      "outputs": [
        {
          "output_type": "execute_result",
          "data": {
            "text/html": [
              "<div>\n",
              "<style scoped>\n",
              "    .dataframe tbody tr th:only-of-type {\n",
              "        vertical-align: middle;\n",
              "    }\n",
              "\n",
              "    .dataframe tbody tr th {\n",
              "        vertical-align: top;\n",
              "    }\n",
              "\n",
              "    .dataframe thead th {\n",
              "        text-align: right;\n",
              "    }\n",
              "</style>\n",
              "<table border=\"1\" class=\"dataframe\">\n",
              "  <thead>\n",
              "    <tr style=\"text-align: right;\">\n",
              "      <th></th>\n",
              "      <th>track_id</th>\n",
              "      <th>mxm_artist</th>\n",
              "      <th>mxm_title</th>\n",
              "      <th>mxm_id</th>\n",
              "    </tr>\n",
              "  </thead>\n",
              "  <tbody>\n",
              "    <tr>\n",
              "      <th>0</th>\n",
              "      <td>TRMMMKD128F425225D</td>\n",
              "      <td>Karkkiautomaatti</td>\n",
              "      <td>Tanssi vaan</td>\n",
              "      <td>4418550.0</td>\n",
              "    </tr>\n",
              "    <tr>\n",
              "      <th>1</th>\n",
              "      <td>TRMMMRX128F93187D9</td>\n",
              "      <td>Hudson Mohawke</td>\n",
              "      <td>No One Could Ever</td>\n",
              "      <td>8898149.0</td>\n",
              "    </tr>\n",
              "    <tr>\n",
              "      <th>2</th>\n",
              "      <td>TRMMMCH128F425532C</td>\n",
              "      <td>Yerba Brava</td>\n",
              "      <td>Si vos queres</td>\n",
              "      <td>9239868.0</td>\n",
              "    </tr>\n",
              "    <tr>\n",
              "      <th>3</th>\n",
              "      <td>TRMMMXN128F42936A5</td>\n",
              "      <td>Franz Berwald</td>\n",
              "      <td>Symphony No. 1 in G minor \"Sinfonie Sérieuse\":...</td>\n",
              "      <td>5346741.0</td>\n",
              "    </tr>\n",
              "    <tr>\n",
              "      <th>4</th>\n",
              "      <td>TRMMMBB12903CB7D21</td>\n",
              "      <td>Kris Kross</td>\n",
              "      <td>2 Da Beat Ch'yall</td>\n",
              "      <td>2511405.0</td>\n",
              "    </tr>\n",
              "  </tbody>\n",
              "</table>\n",
              "</div>"
            ],
            "text/plain": [
              "             track_id  ...     mxm_id\n",
              "0  TRMMMKD128F425225D  ...  4418550.0\n",
              "1  TRMMMRX128F93187D9  ...  8898149.0\n",
              "2  TRMMMCH128F425532C  ...  9239868.0\n",
              "3  TRMMMXN128F42936A5  ...  5346741.0\n",
              "4  TRMMMBB12903CB7D21  ...  2511405.0\n",
              "\n",
              "[5 rows x 4 columns]"
            ]
          },
          "metadata": {
            "tags": []
          },
          "execution_count": 179
        }
      ]
    },
    {
      "cell_type": "code",
      "metadata": {
        "id": "yF0vRa1ZqNMe"
      },
      "source": [
        "match_merge =merge_df.merge(match_df,how=\"left\",on=\"track_id\")"
      ],
      "execution_count": 180,
      "outputs": []
    },
    {
      "cell_type": "code",
      "metadata": {
        "colab": {
          "base_uri": "https://localhost:8080/",
          "height": 204
        },
        "id": "T-K1czxUq-Wk",
        "outputId": "edfe44f9-c4e9-47f6-de66-9f39a0c16592"
      },
      "source": [
        "match_merge.head()"
      ],
      "execution_count": 181,
      "outputs": [
        {
          "output_type": "execute_result",
          "data": {
            "text/html": [
              "<div>\n",
              "<style scoped>\n",
              "    .dataframe tbody tr th:only-of-type {\n",
              "        vertical-align: middle;\n",
              "    }\n",
              "\n",
              "    .dataframe tbody tr th {\n",
              "        vertical-align: top;\n",
              "    }\n",
              "\n",
              "    .dataframe thead th {\n",
              "        text-align: right;\n",
              "    }\n",
              "</style>\n",
              "<table border=\"1\" class=\"dataframe\">\n",
              "  <thead>\n",
              "    <tr style=\"text-align: right;\">\n",
              "      <th></th>\n",
              "      <th>user_id</th>\n",
              "      <th>song_id</th>\n",
              "      <th>count</th>\n",
              "      <th>track_id</th>\n",
              "      <th>artist_name</th>\n",
              "      <th>title</th>\n",
              "      <th>mxm_artist</th>\n",
              "      <th>mxm_title</th>\n",
              "      <th>mxm_id</th>\n",
              "    </tr>\n",
              "  </thead>\n",
              "  <tbody>\n",
              "    <tr>\n",
              "      <th>0</th>\n",
              "      <td>b80344d063b5ccb3212f76538f3d9e43d87dca9e</td>\n",
              "      <td>SOAKIMP12A8C130995</td>\n",
              "      <td>1</td>\n",
              "      <td>TRIQAUQ128F42435AD</td>\n",
              "      <td>Jack Johnson</td>\n",
              "      <td>The Cove</td>\n",
              "      <td>Jack Johnson</td>\n",
              "      <td>The Cove</td>\n",
              "      <td>7232629.0</td>\n",
              "    </tr>\n",
              "    <tr>\n",
              "      <th>1</th>\n",
              "      <td>7c86176941718984fed11b7c0674ff04c029b480</td>\n",
              "      <td>SOAKIMP12A8C130995</td>\n",
              "      <td>1</td>\n",
              "      <td>TRIQAUQ128F42435AD</td>\n",
              "      <td>Jack Johnson</td>\n",
              "      <td>The Cove</td>\n",
              "      <td>Jack Johnson</td>\n",
              "      <td>The Cove</td>\n",
              "      <td>7232629.0</td>\n",
              "    </tr>\n",
              "    <tr>\n",
              "      <th>2</th>\n",
              "      <td>76235885b32c4e8c82760c340dc54f9b608d7d7e</td>\n",
              "      <td>SOAKIMP12A8C130995</td>\n",
              "      <td>3</td>\n",
              "      <td>TRIQAUQ128F42435AD</td>\n",
              "      <td>Jack Johnson</td>\n",
              "      <td>The Cove</td>\n",
              "      <td>Jack Johnson</td>\n",
              "      <td>The Cove</td>\n",
              "      <td>7232629.0</td>\n",
              "    </tr>\n",
              "    <tr>\n",
              "      <th>3</th>\n",
              "      <td>250c0fa2a77bc6695046e7c47882ecd85c42d748</td>\n",
              "      <td>SOAKIMP12A8C130995</td>\n",
              "      <td>1</td>\n",
              "      <td>TRIQAUQ128F42435AD</td>\n",
              "      <td>Jack Johnson</td>\n",
              "      <td>The Cove</td>\n",
              "      <td>Jack Johnson</td>\n",
              "      <td>The Cove</td>\n",
              "      <td>7232629.0</td>\n",
              "    </tr>\n",
              "    <tr>\n",
              "      <th>4</th>\n",
              "      <td>3f73f44560e822344b0fb7c6b463869743eb9860</td>\n",
              "      <td>SOAKIMP12A8C130995</td>\n",
              "      <td>6</td>\n",
              "      <td>TRIQAUQ128F42435AD</td>\n",
              "      <td>Jack Johnson</td>\n",
              "      <td>The Cove</td>\n",
              "      <td>Jack Johnson</td>\n",
              "      <td>The Cove</td>\n",
              "      <td>7232629.0</td>\n",
              "    </tr>\n",
              "  </tbody>\n",
              "</table>\n",
              "</div>"
            ],
            "text/plain": [
              "                                    user_id  ...     mxm_id\n",
              "0  b80344d063b5ccb3212f76538f3d9e43d87dca9e  ...  7232629.0\n",
              "1  7c86176941718984fed11b7c0674ff04c029b480  ...  7232629.0\n",
              "2  76235885b32c4e8c82760c340dc54f9b608d7d7e  ...  7232629.0\n",
              "3  250c0fa2a77bc6695046e7c47882ecd85c42d748  ...  7232629.0\n",
              "4  3f73f44560e822344b0fb7c6b463869743eb9860  ...  7232629.0\n",
              "\n",
              "[5 rows x 9 columns]"
            ]
          },
          "metadata": {
            "tags": []
          },
          "execution_count": 181
        }
      ]
    },
    {
      "cell_type": "code",
      "metadata": {
        "colab": {
          "base_uri": "https://localhost:8080/"
        },
        "id": "s7L5W9k2q_y0",
        "outputId": "2066241f-2835-4eba-d8c6-6ccd331f68af"
      },
      "source": [
        "len(match_merge[\"song_id\"])"
      ],
      "execution_count": 182,
      "outputs": [
        {
          "output_type": "execute_result",
          "data": {
            "text/plain": [
              "2086946"
            ]
          },
          "metadata": {
            "tags": []
          },
          "execution_count": 182
        }
      ]
    },
    {
      "cell_type": "code",
      "metadata": {
        "colab": {
          "base_uri": "https://localhost:8080/"
        },
        "id": "Ln20nzHwrFoO",
        "outputId": "ac2598c0-f044-4957-cc5c-7e1633f9edc7"
      },
      "source": [
        "match_merge.isna().sum()"
      ],
      "execution_count": 183,
      "outputs": [
        {
          "output_type": "execute_result",
          "data": {
            "text/plain": [
              "user_id            0\n",
              "song_id            0\n",
              "count              0\n",
              "track_id           0\n",
              "artist_name        0\n",
              "title              0\n",
              "mxm_artist     79223\n",
              "mxm_title      79223\n",
              "mxm_id         79223\n",
              "dtype: int64"
            ]
          },
          "metadata": {
            "tags": []
          },
          "execution_count": 183
        }
      ]
    },
    {
      "cell_type": "code",
      "metadata": {
        "id": "OIyzyDc6tcuj"
      },
      "source": [
        "match_merge_1 = match_merge[[\"song_id\",\"track_id\",\"mxm_id\"]].drop_duplicates()"
      ],
      "execution_count": 184,
      "outputs": []
    },
    {
      "cell_type": "code",
      "metadata": {
        "id": "h4tHPcPXudjr"
      },
      "source": [
        "match_merge_1.reset_index(drop=True,inplace=True)"
      ],
      "execution_count": 185,
      "outputs": []
    },
    {
      "cell_type": "code",
      "metadata": {
        "id": "YbukdgXOue5h"
      },
      "source": [
        "match_merge_1.to_csv(\"/content/drive/MyDrive/song_lyrics/match_csv_final.csv\")"
      ],
      "execution_count": 186,
      "outputs": []
    },
    {
      "cell_type": "code",
      "metadata": {
        "id": "jAtBrUR3uy2h"
      },
      "source": [
        "match_merge =match_merge[[\"user_id\",\"track_id\",\"count\"]]\n",
        "match_merge.to_csv(\"/content/drive/MyDrive/song_lyrics/listening_history.csv\")"
      ],
      "execution_count": 187,
      "outputs": []
    },
    {
      "cell_type": "code",
      "metadata": {
        "colab": {
          "base_uri": "https://localhost:8080/",
          "height": 204
        },
        "id": "CxQwYh56vOXr",
        "outputId": "6a0e39fd-5198-4405-84a7-cae3e375e483"
      },
      "source": [
        "match_merge.head()"
      ],
      "execution_count": 188,
      "outputs": [
        {
          "output_type": "execute_result",
          "data": {
            "text/html": [
              "<div>\n",
              "<style scoped>\n",
              "    .dataframe tbody tr th:only-of-type {\n",
              "        vertical-align: middle;\n",
              "    }\n",
              "\n",
              "    .dataframe tbody tr th {\n",
              "        vertical-align: top;\n",
              "    }\n",
              "\n",
              "    .dataframe thead th {\n",
              "        text-align: right;\n",
              "    }\n",
              "</style>\n",
              "<table border=\"1\" class=\"dataframe\">\n",
              "  <thead>\n",
              "    <tr style=\"text-align: right;\">\n",
              "      <th></th>\n",
              "      <th>user_id</th>\n",
              "      <th>track_id</th>\n",
              "      <th>count</th>\n",
              "    </tr>\n",
              "  </thead>\n",
              "  <tbody>\n",
              "    <tr>\n",
              "      <th>0</th>\n",
              "      <td>b80344d063b5ccb3212f76538f3d9e43d87dca9e</td>\n",
              "      <td>TRIQAUQ128F42435AD</td>\n",
              "      <td>1</td>\n",
              "    </tr>\n",
              "    <tr>\n",
              "      <th>1</th>\n",
              "      <td>7c86176941718984fed11b7c0674ff04c029b480</td>\n",
              "      <td>TRIQAUQ128F42435AD</td>\n",
              "      <td>1</td>\n",
              "    </tr>\n",
              "    <tr>\n",
              "      <th>2</th>\n",
              "      <td>76235885b32c4e8c82760c340dc54f9b608d7d7e</td>\n",
              "      <td>TRIQAUQ128F42435AD</td>\n",
              "      <td>3</td>\n",
              "    </tr>\n",
              "    <tr>\n",
              "      <th>3</th>\n",
              "      <td>250c0fa2a77bc6695046e7c47882ecd85c42d748</td>\n",
              "      <td>TRIQAUQ128F42435AD</td>\n",
              "      <td>1</td>\n",
              "    </tr>\n",
              "    <tr>\n",
              "      <th>4</th>\n",
              "      <td>3f73f44560e822344b0fb7c6b463869743eb9860</td>\n",
              "      <td>TRIQAUQ128F42435AD</td>\n",
              "      <td>6</td>\n",
              "    </tr>\n",
              "  </tbody>\n",
              "</table>\n",
              "</div>"
            ],
            "text/plain": [
              "                                    user_id            track_id  count\n",
              "0  b80344d063b5ccb3212f76538f3d9e43d87dca9e  TRIQAUQ128F42435AD      1\n",
              "1  7c86176941718984fed11b7c0674ff04c029b480  TRIQAUQ128F42435AD      1\n",
              "2  76235885b32c4e8c82760c340dc54f9b608d7d7e  TRIQAUQ128F42435AD      3\n",
              "3  250c0fa2a77bc6695046e7c47882ecd85c42d748  TRIQAUQ128F42435AD      1\n",
              "4  3f73f44560e822344b0fb7c6b463869743eb9860  TRIQAUQ128F42435AD      6"
            ]
          },
          "metadata": {
            "tags": []
          },
          "execution_count": 188
        }
      ]
    },
    {
      "cell_type": "code",
      "metadata": {
        "id": "_8HoqBfRvRXD"
      },
      "source": [
        "match_data = pd.read_csv(\"/content/drive/MyDrive/song_lyrics/match_csv_final.csv\")"
      ],
      "execution_count": 189,
      "outputs": []
    },
    {
      "cell_type": "code",
      "metadata": {
        "colab": {
          "base_uri": "https://localhost:8080/",
          "height": 204
        },
        "id": "LnF-m88yvgJ4",
        "outputId": "a9b7b2b1-ccc4-43ef-8d47-6f4fed249466"
      },
      "source": [
        "match_data =match_data.loc[:, ~match_data.columns.str.contains('^Unnamed')]\n",
        "match_data.head()"
      ],
      "execution_count": 190,
      "outputs": [
        {
          "output_type": "execute_result",
          "data": {
            "text/html": [
              "<div>\n",
              "<style scoped>\n",
              "    .dataframe tbody tr th:only-of-type {\n",
              "        vertical-align: middle;\n",
              "    }\n",
              "\n",
              "    .dataframe tbody tr th {\n",
              "        vertical-align: top;\n",
              "    }\n",
              "\n",
              "    .dataframe thead th {\n",
              "        text-align: right;\n",
              "    }\n",
              "</style>\n",
              "<table border=\"1\" class=\"dataframe\">\n",
              "  <thead>\n",
              "    <tr style=\"text-align: right;\">\n",
              "      <th></th>\n",
              "      <th>song_id</th>\n",
              "      <th>track_id</th>\n",
              "      <th>mxm_id</th>\n",
              "    </tr>\n",
              "  </thead>\n",
              "  <tbody>\n",
              "    <tr>\n",
              "      <th>0</th>\n",
              "      <td>SOAKIMP12A8C130995</td>\n",
              "      <td>TRIQAUQ128F42435AD</td>\n",
              "      <td>7232629.0</td>\n",
              "    </tr>\n",
              "    <tr>\n",
              "      <th>1</th>\n",
              "      <td>SOBBMDR12A8C13253B</td>\n",
              "      <td>TRMHBXZ128F4238406</td>\n",
              "      <td>4521308.0</td>\n",
              "    </tr>\n",
              "    <tr>\n",
              "      <th>2</th>\n",
              "      <td>SOBXHDL12A81C204C0</td>\n",
              "      <td>TRHNCIR128F42334A5</td>\n",
              "      <td>6445221.0</td>\n",
              "    </tr>\n",
              "    <tr>\n",
              "      <th>3</th>\n",
              "      <td>SOBXHDL12A81C204C0</td>\n",
              "      <td>TRUATNS128F423457D</td>\n",
              "      <td>6672281.0</td>\n",
              "    </tr>\n",
              "    <tr>\n",
              "      <th>4</th>\n",
              "      <td>SOBYHAJ12A6701BF1D</td>\n",
              "      <td>TRYBNIB128F428E704</td>\n",
              "      <td>4750416.0</td>\n",
              "    </tr>\n",
              "  </tbody>\n",
              "</table>\n",
              "</div>"
            ],
            "text/plain": [
              "              song_id            track_id     mxm_id\n",
              "0  SOAKIMP12A8C130995  TRIQAUQ128F42435AD  7232629.0\n",
              "1  SOBBMDR12A8C13253B  TRMHBXZ128F4238406  4521308.0\n",
              "2  SOBXHDL12A81C204C0  TRHNCIR128F42334A5  6445221.0\n",
              "3  SOBXHDL12A81C204C0  TRUATNS128F423457D  6672281.0\n",
              "4  SOBYHAJ12A6701BF1D  TRYBNIB128F428E704  4750416.0"
            ]
          },
          "metadata": {
            "tags": []
          },
          "execution_count": 190
        }
      ]
    },
    {
      "cell_type": "code",
      "metadata": {
        "id": "clJiVpTRvhI4"
      },
      "source": [
        "connection = sql.Connection(\"/content/drive/MyDrive/song_lyrics/DB/track_metadata.db\")\n",
        "meta_data = pd.read_sql_query(\"select * from songs\",con=connection)"
      ],
      "execution_count": 191,
      "outputs": []
    },
    {
      "cell_type": "code",
      "metadata": {
        "colab": {
          "base_uri": "https://localhost:8080/",
          "height": 496
        },
        "id": "bfo1E_oA3jHV",
        "outputId": "a76318eb-6da6-4d62-ef1e-ffcf34ef7164"
      },
      "source": [
        "meta_data.head()"
      ],
      "execution_count": 192,
      "outputs": [
        {
          "output_type": "execute_result",
          "data": {
            "text/html": [
              "<div>\n",
              "<style scoped>\n",
              "    .dataframe tbody tr th:only-of-type {\n",
              "        vertical-align: middle;\n",
              "    }\n",
              "\n",
              "    .dataframe tbody tr th {\n",
              "        vertical-align: top;\n",
              "    }\n",
              "\n",
              "    .dataframe thead th {\n",
              "        text-align: right;\n",
              "    }\n",
              "</style>\n",
              "<table border=\"1\" class=\"dataframe\">\n",
              "  <thead>\n",
              "    <tr style=\"text-align: right;\">\n",
              "      <th></th>\n",
              "      <th>track_id</th>\n",
              "      <th>title</th>\n",
              "      <th>song_id</th>\n",
              "      <th>release</th>\n",
              "      <th>artist_id</th>\n",
              "      <th>artist_mbid</th>\n",
              "      <th>artist_name</th>\n",
              "      <th>duration</th>\n",
              "      <th>artist_familiarity</th>\n",
              "      <th>artist_hotttnesss</th>\n",
              "      <th>year</th>\n",
              "      <th>track_7digitalid</th>\n",
              "      <th>shs_perf</th>\n",
              "      <th>shs_work</th>\n",
              "    </tr>\n",
              "  </thead>\n",
              "  <tbody>\n",
              "    <tr>\n",
              "      <th>0</th>\n",
              "      <td>TRMMMYQ128F932D901</td>\n",
              "      <td>Silent Night</td>\n",
              "      <td>SOQMMHC12AB0180CB8</td>\n",
              "      <td>Monster Ballads X-Mas</td>\n",
              "      <td>ARYZTJS1187B98C555</td>\n",
              "      <td>357ff05d-848a-44cf-b608-cb34b5701ae5</td>\n",
              "      <td>Faster Pussy cat</td>\n",
              "      <td>252.05506</td>\n",
              "      <td>0.649822</td>\n",
              "      <td>0.394032</td>\n",
              "      <td>2003</td>\n",
              "      <td>7032331</td>\n",
              "      <td>-1</td>\n",
              "      <td>0</td>\n",
              "    </tr>\n",
              "    <tr>\n",
              "      <th>1</th>\n",
              "      <td>TRMMMKD128F425225D</td>\n",
              "      <td>Tanssi vaan</td>\n",
              "      <td>SOVFVAK12A8C1350D9</td>\n",
              "      <td>Karkuteillä</td>\n",
              "      <td>ARMVN3U1187FB3A1EB</td>\n",
              "      <td>8d7ef530-a6fd-4f8f-b2e2-74aec765e0f9</td>\n",
              "      <td>Karkkiautomaatti</td>\n",
              "      <td>156.55138</td>\n",
              "      <td>0.439604</td>\n",
              "      <td>0.356992</td>\n",
              "      <td>1995</td>\n",
              "      <td>1514808</td>\n",
              "      <td>-1</td>\n",
              "      <td>0</td>\n",
              "    </tr>\n",
              "    <tr>\n",
              "      <th>2</th>\n",
              "      <td>TRMMMRX128F93187D9</td>\n",
              "      <td>No One Could Ever</td>\n",
              "      <td>SOGTUKN12AB017F4F1</td>\n",
              "      <td>Butter</td>\n",
              "      <td>ARGEKB01187FB50750</td>\n",
              "      <td>3d403d44-36ce-465c-ad43-ae877e65adc4</td>\n",
              "      <td>Hudson Mohawke</td>\n",
              "      <td>138.97098</td>\n",
              "      <td>0.643681</td>\n",
              "      <td>0.437504</td>\n",
              "      <td>2006</td>\n",
              "      <td>6945353</td>\n",
              "      <td>-1</td>\n",
              "      <td>0</td>\n",
              "    </tr>\n",
              "    <tr>\n",
              "      <th>3</th>\n",
              "      <td>TRMMMCH128F425532C</td>\n",
              "      <td>Si Vos Querés</td>\n",
              "      <td>SOBNYVR12A8C13558C</td>\n",
              "      <td>De Culo</td>\n",
              "      <td>ARNWYLR1187B9B2F9C</td>\n",
              "      <td>12be7648-7094-495f-90e6-df4189d68615</td>\n",
              "      <td>Yerba Brava</td>\n",
              "      <td>145.05751</td>\n",
              "      <td>0.448501</td>\n",
              "      <td>0.372349</td>\n",
              "      <td>2003</td>\n",
              "      <td>2168257</td>\n",
              "      <td>-1</td>\n",
              "      <td>0</td>\n",
              "    </tr>\n",
              "    <tr>\n",
              "      <th>4</th>\n",
              "      <td>TRMMMWA128F426B589</td>\n",
              "      <td>Tangle Of Aspens</td>\n",
              "      <td>SOHSBXH12A8C13B0DF</td>\n",
              "      <td>Rene Ablaze Presents Winter Sessions</td>\n",
              "      <td>AREQDTE1269FB37231</td>\n",
              "      <td></td>\n",
              "      <td>Der Mystic</td>\n",
              "      <td>514.29832</td>\n",
              "      <td>0.000000</td>\n",
              "      <td>0.000000</td>\n",
              "      <td>0</td>\n",
              "      <td>2264873</td>\n",
              "      <td>-1</td>\n",
              "      <td>0</td>\n",
              "    </tr>\n",
              "  </tbody>\n",
              "</table>\n",
              "</div>"
            ],
            "text/plain": [
              "             track_id              title  ... shs_perf shs_work\n",
              "0  TRMMMYQ128F932D901       Silent Night  ...       -1        0\n",
              "1  TRMMMKD128F425225D        Tanssi vaan  ...       -1        0\n",
              "2  TRMMMRX128F93187D9  No One Could Ever  ...       -1        0\n",
              "3  TRMMMCH128F425532C      Si Vos Querés  ...       -1        0\n",
              "4  TRMMMWA128F426B589   Tangle Of Aspens  ...       -1        0\n",
              "\n",
              "[5 rows x 14 columns]"
            ]
          },
          "metadata": {
            "tags": []
          },
          "execution_count": 192
        }
      ]
    },
    {
      "cell_type": "code",
      "metadata": {
        "id": "Scg247Op3tyo"
      },
      "source": [
        "meta_data = meta_data[meta_data.track_id.isin(match_data.track_id)].reset_index(drop=True)\n"
      ],
      "execution_count": 193,
      "outputs": []
    },
    {
      "cell_type": "code",
      "metadata": {
        "colab": {
          "base_uri": "https://localhost:8080/",
          "height": 530
        },
        "id": "B1Mw4fHD32nS",
        "outputId": "5006c783-2dc6-4dbe-c698-12eb0ef1fdff"
      },
      "source": [
        "meta_data = meta_data.iloc[:,:-3]\n",
        "meta_data.head()\n"
      ],
      "execution_count": 194,
      "outputs": [
        {
          "output_type": "execute_result",
          "data": {
            "text/html": [
              "<div>\n",
              "<style scoped>\n",
              "    .dataframe tbody tr th:only-of-type {\n",
              "        vertical-align: middle;\n",
              "    }\n",
              "\n",
              "    .dataframe tbody tr th {\n",
              "        vertical-align: top;\n",
              "    }\n",
              "\n",
              "    .dataframe thead th {\n",
              "        text-align: right;\n",
              "    }\n",
              "</style>\n",
              "<table border=\"1\" class=\"dataframe\">\n",
              "  <thead>\n",
              "    <tr style=\"text-align: right;\">\n",
              "      <th></th>\n",
              "      <th>track_id</th>\n",
              "      <th>title</th>\n",
              "      <th>song_id</th>\n",
              "      <th>release</th>\n",
              "      <th>artist_id</th>\n",
              "      <th>artist_mbid</th>\n",
              "      <th>artist_name</th>\n",
              "      <th>duration</th>\n",
              "      <th>artist_familiarity</th>\n",
              "      <th>artist_hotttnesss</th>\n",
              "      <th>year</th>\n",
              "    </tr>\n",
              "  </thead>\n",
              "  <tbody>\n",
              "    <tr>\n",
              "      <th>0</th>\n",
              "      <td>TRMMCDR128F423AB03</td>\n",
              "      <td>Anyone Else But You</td>\n",
              "      <td>SOSZNRJ12A8AE46E38</td>\n",
              "      <td>Juno - Music From The Motion Picture</td>\n",
              "      <td>AR62GN71187B9AAD0C</td>\n",
              "      <td>70fada2a-5b8c-4988-a2d7-79576d7f6daf</td>\n",
              "      <td>Michael Cera &amp; Ellen Page</td>\n",
              "      <td>116.71465</td>\n",
              "      <td>0.540441</td>\n",
              "      <td>0.464981</td>\n",
              "      <td>2007</td>\n",
              "    </tr>\n",
              "    <tr>\n",
              "      <th>1</th>\n",
              "      <td>TRMMFSL128F4234583</td>\n",
              "      <td>Drunk and Hot Girls</td>\n",
              "      <td>SOGKGLB12A81C22AFA</td>\n",
              "      <td>Graduation</td>\n",
              "      <td>ARRH63Y1187FB47783</td>\n",
              "      <td>164f0d73-1234-4e2c-8743-d77bf2191051</td>\n",
              "      <td>Kanye West / Mos Def</td>\n",
              "      <td>313.28608</td>\n",
              "      <td>0.877214</td>\n",
              "      <td>1.082503</td>\n",
              "      <td>2007</td>\n",
              "    </tr>\n",
              "    <tr>\n",
              "      <th>2</th>\n",
              "      <td>TRMMQSP128F1486267</td>\n",
              "      <td>Until The Day I Die (Album Version)</td>\n",
              "      <td>SOWZDNH12A6D4F7237</td>\n",
              "      <td>Page Avenue</td>\n",
              "      <td>ARF6ZTO1187FB3684F</td>\n",
              "      <td>e2c3c508-f0ab-49af-92c9-a81d66d67405</td>\n",
              "      <td>Story Of The Year</td>\n",
              "      <td>235.78077</td>\n",
              "      <td>0.806763</td>\n",
              "      <td>0.580095</td>\n",
              "      <td>2003</td>\n",
              "    </tr>\n",
              "    <tr>\n",
              "      <th>3</th>\n",
              "      <td>TRMMQOL128F9340687</td>\n",
              "      <td>Rewind (Demo)</td>\n",
              "      <td>SOQBGZD12AB0184341</td>\n",
              "      <td>Riot!</td>\n",
              "      <td>AR4OU721187FB4549D</td>\n",
              "      <td>728ea90d-279b-4201-a8c4-597830883150</td>\n",
              "      <td>Paramore</td>\n",
              "      <td>226.95138</td>\n",
              "      <td>0.951488</td>\n",
              "      <td>0.658925</td>\n",
              "      <td>0</td>\n",
              "    </tr>\n",
              "    <tr>\n",
              "      <th>4</th>\n",
              "      <td>TRMMZKU128F4296801</td>\n",
              "      <td>Never Knew Love</td>\n",
              "      <td>SOTPWHK12A8AE46DC8</td>\n",
              "      <td>Love Songs</td>\n",
              "      <td>ARWPYQI1187FB4D55A</td>\n",
              "      <td>db92a151-1ac2-438b-bc43-b82e149ddd50</td>\n",
              "      <td>Rick Astley</td>\n",
              "      <td>185.67791</td>\n",
              "      <td>0.754918</td>\n",
              "      <td>0.507464</td>\n",
              "      <td>1991</td>\n",
              "    </tr>\n",
              "  </tbody>\n",
              "</table>\n",
              "</div>"
            ],
            "text/plain": [
              "             track_id  ...  year\n",
              "0  TRMMCDR128F423AB03  ...  2007\n",
              "1  TRMMFSL128F4234583  ...  2007\n",
              "2  TRMMQSP128F1486267  ...  2003\n",
              "3  TRMMQOL128F9340687  ...     0\n",
              "4  TRMMZKU128F4296801  ...  1991\n",
              "\n",
              "[5 rows x 11 columns]"
            ]
          },
          "metadata": {
            "tags": []
          },
          "execution_count": 194
        }
      ]
    },
    {
      "cell_type": "code",
      "metadata": {
        "id": "Z_n6b3c1xwPs"
      },
      "source": [
        "meta_data.to_csv(\"/content/drive/MyDrive/meta_data.csv\")"
      ],
      "execution_count": 255,
      "outputs": []
    },
    {
      "cell_type": "code",
      "metadata": {
        "id": "LOS3odww4pb6"
      },
      "source": [
        "#Artist\n",
        "artist_data = pd.read_sql_query(\"select * from artist_mbtag\",con =sql.Connection(\"/content/drive/MyDrive/song_lyrics/DB/artist_term.db\"))\n"
      ],
      "execution_count": 195,
      "outputs": []
    },
    {
      "cell_type": "code",
      "metadata": {
        "colab": {
          "base_uri": "https://localhost:8080/",
          "height": 204
        },
        "id": "aezbYRWu5JdW",
        "outputId": "b4c46023-8e4d-4805-a656-fe8c1c80b82a"
      },
      "source": [
        "artist_data.head()"
      ],
      "execution_count": 196,
      "outputs": [
        {
          "output_type": "execute_result",
          "data": {
            "text/html": [
              "<div>\n",
              "<style scoped>\n",
              "    .dataframe tbody tr th:only-of-type {\n",
              "        vertical-align: middle;\n",
              "    }\n",
              "\n",
              "    .dataframe tbody tr th {\n",
              "        vertical-align: top;\n",
              "    }\n",
              "\n",
              "    .dataframe thead th {\n",
              "        text-align: right;\n",
              "    }\n",
              "</style>\n",
              "<table border=\"1\" class=\"dataframe\">\n",
              "  <thead>\n",
              "    <tr style=\"text-align: right;\">\n",
              "      <th></th>\n",
              "      <th>artist_id</th>\n",
              "      <th>mbtag</th>\n",
              "    </tr>\n",
              "  </thead>\n",
              "  <tbody>\n",
              "    <tr>\n",
              "      <th>0</th>\n",
              "      <td>AR002UA1187B9A637D</td>\n",
              "      <td>uk</td>\n",
              "    </tr>\n",
              "    <tr>\n",
              "      <th>1</th>\n",
              "      <td>AR002UA1187B9A637D</td>\n",
              "      <td>rock</td>\n",
              "    </tr>\n",
              "    <tr>\n",
              "      <th>2</th>\n",
              "      <td>AR002UA1187B9A637D</td>\n",
              "      <td>garage rock</td>\n",
              "    </tr>\n",
              "    <tr>\n",
              "      <th>3</th>\n",
              "      <td>AR006821187FB5192B</td>\n",
              "      <td>bass</td>\n",
              "    </tr>\n",
              "    <tr>\n",
              "      <th>4</th>\n",
              "      <td>AR00A6H1187FB5402A</td>\n",
              "      <td>detroit</td>\n",
              "    </tr>\n",
              "  </tbody>\n",
              "</table>\n",
              "</div>"
            ],
            "text/plain": [
              "            artist_id        mbtag\n",
              "0  AR002UA1187B9A637D           uk\n",
              "1  AR002UA1187B9A637D         rock\n",
              "2  AR002UA1187B9A637D  garage rock\n",
              "3  AR006821187FB5192B         bass\n",
              "4  AR00A6H1187FB5402A      detroit"
            ]
          },
          "metadata": {
            "tags": []
          },
          "execution_count": 196
        }
      ]
    },
    {
      "cell_type": "code",
      "metadata": {
        "id": "Mq5_JP1G5kci"
      },
      "source": [
        "connection = sql.Connection(\"/content/drive/MyDrive/song_lyrics/DB/mxm_dataset.db\")\n",
        "lyrics_data = pd.read_sql_query(\"select * from lyrics\",con=connection)"
      ],
      "execution_count": 197,
      "outputs": []
    },
    {
      "cell_type": "code",
      "metadata": {
        "id": "LnjSWzlMKJev"
      },
      "source": [
        "lyrics_data = lyrics_data[lyrics_data.track_id.isin(match_data.track_id)].reset_index(drop=True)"
      ],
      "execution_count": 198,
      "outputs": []
    },
    {
      "cell_type": "code",
      "metadata": {
        "id": "x8__dUdu6P6F"
      },
      "source": [
        "words_data = pd.read_sql_query(\"select * from words\",con=connection)"
      ],
      "execution_count": 199,
      "outputs": []
    },
    {
      "cell_type": "code",
      "metadata": {
        "colab": {
          "base_uri": "https://localhost:8080/",
          "height": 204
        },
        "id": "SqNYV7YA7U8B",
        "outputId": "00a0157f-670a-4b10-920e-de332ae02b54"
      },
      "source": [
        "lyrics_data.head()"
      ],
      "execution_count": 200,
      "outputs": [
        {
          "output_type": "execute_result",
          "data": {
            "text/html": [
              "<div>\n",
              "<style scoped>\n",
              "    .dataframe tbody tr th:only-of-type {\n",
              "        vertical-align: middle;\n",
              "    }\n",
              "\n",
              "    .dataframe tbody tr th {\n",
              "        vertical-align: top;\n",
              "    }\n",
              "\n",
              "    .dataframe thead th {\n",
              "        text-align: right;\n",
              "    }\n",
              "</style>\n",
              "<table border=\"1\" class=\"dataframe\">\n",
              "  <thead>\n",
              "    <tr style=\"text-align: right;\">\n",
              "      <th></th>\n",
              "      <th>track_id</th>\n",
              "      <th>mxm_tid</th>\n",
              "      <th>word</th>\n",
              "      <th>count</th>\n",
              "      <th>is_test</th>\n",
              "    </tr>\n",
              "  </thead>\n",
              "  <tbody>\n",
              "    <tr>\n",
              "      <th>0</th>\n",
              "      <td>TRAABJS128F9325C99</td>\n",
              "      <td>5516210</td>\n",
              "      <td>i</td>\n",
              "      <td>5</td>\n",
              "      <td>0</td>\n",
              "    </tr>\n",
              "    <tr>\n",
              "      <th>1</th>\n",
              "      <td>TRAABJS128F9325C99</td>\n",
              "      <td>5516210</td>\n",
              "      <td>the</td>\n",
              "      <td>3</td>\n",
              "      <td>0</td>\n",
              "    </tr>\n",
              "    <tr>\n",
              "      <th>2</th>\n",
              "      <td>TRAABJS128F9325C99</td>\n",
              "      <td>5516210</td>\n",
              "      <td>you</td>\n",
              "      <td>3</td>\n",
              "      <td>0</td>\n",
              "    </tr>\n",
              "    <tr>\n",
              "      <th>3</th>\n",
              "      <td>TRAABJS128F9325C99</td>\n",
              "      <td>5516210</td>\n",
              "      <td>to</td>\n",
              "      <td>3</td>\n",
              "      <td>0</td>\n",
              "    </tr>\n",
              "    <tr>\n",
              "      <th>4</th>\n",
              "      <td>TRAABJS128F9325C99</td>\n",
              "      <td>5516210</td>\n",
              "      <td>and</td>\n",
              "      <td>8</td>\n",
              "      <td>0</td>\n",
              "    </tr>\n",
              "  </tbody>\n",
              "</table>\n",
              "</div>"
            ],
            "text/plain": [
              "             track_id  mxm_tid word  count  is_test\n",
              "0  TRAABJS128F9325C99  5516210    i      5        0\n",
              "1  TRAABJS128F9325C99  5516210  the      3        0\n",
              "2  TRAABJS128F9325C99  5516210  you      3        0\n",
              "3  TRAABJS128F9325C99  5516210   to      3        0\n",
              "4  TRAABJS128F9325C99  5516210  and      8        0"
            ]
          },
          "metadata": {
            "tags": []
          },
          "execution_count": 200
        }
      ]
    },
    {
      "cell_type": "code",
      "metadata": {
        "colab": {
          "base_uri": "https://localhost:8080/",
          "height": 204
        },
        "id": "sHembIii7gAt",
        "outputId": "87c61c1a-85f6-47db-d758-1e6781b13896"
      },
      "source": [
        "words_data.head()"
      ],
      "execution_count": 201,
      "outputs": [
        {
          "output_type": "execute_result",
          "data": {
            "text/html": [
              "<div>\n",
              "<style scoped>\n",
              "    .dataframe tbody tr th:only-of-type {\n",
              "        vertical-align: middle;\n",
              "    }\n",
              "\n",
              "    .dataframe tbody tr th {\n",
              "        vertical-align: top;\n",
              "    }\n",
              "\n",
              "    .dataframe thead th {\n",
              "        text-align: right;\n",
              "    }\n",
              "</style>\n",
              "<table border=\"1\" class=\"dataframe\">\n",
              "  <thead>\n",
              "    <tr style=\"text-align: right;\">\n",
              "      <th></th>\n",
              "      <th>word</th>\n",
              "    </tr>\n",
              "  </thead>\n",
              "  <tbody>\n",
              "    <tr>\n",
              "      <th>0</th>\n",
              "      <td>i</td>\n",
              "    </tr>\n",
              "    <tr>\n",
              "      <th>1</th>\n",
              "      <td>the</td>\n",
              "    </tr>\n",
              "    <tr>\n",
              "      <th>2</th>\n",
              "      <td>you</td>\n",
              "    </tr>\n",
              "    <tr>\n",
              "      <th>3</th>\n",
              "      <td>to</td>\n",
              "    </tr>\n",
              "    <tr>\n",
              "      <th>4</th>\n",
              "      <td>and</td>\n",
              "    </tr>\n",
              "  </tbody>\n",
              "</table>\n",
              "</div>"
            ],
            "text/plain": [
              "  word\n",
              "0    i\n",
              "1  the\n",
              "2  you\n",
              "3   to\n",
              "4  and"
            ]
          },
          "metadata": {
            "tags": []
          },
          "execution_count": 201
        }
      ]
    },
    {
      "cell_type": "code",
      "metadata": {
        "id": "IKFVKxqt7iov"
      },
      "source": [
        "lyrics_data.to_csv(\"/content/drive/MyDrive/lyrics_data.csv\")\n",
        "words_data.to_csv(\"/content/drive/MyDrive/words_data.csv\")"
      ],
      "execution_count": 202,
      "outputs": []
    },
    {
      "cell_type": "code",
      "metadata": {
        "id": "d3nSzOWz70eF"
      },
      "source": [
        "lyrics_data = pd.read_csv(\"/content/drive/MyDrive/lyrics_data.csv\")\n",
        "words_data = pd.read_csv(\"/content/drive/MyDrive/words_data.csv\")"
      ],
      "execution_count": 203,
      "outputs": []
    },
    {
      "cell_type": "code",
      "metadata": {
        "colab": {
          "base_uri": "https://localhost:8080/",
          "height": 204
        },
        "id": "wMBaSHzZ7--I",
        "outputId": "12e071f3-bc28-4725-fcc9-6060e2385189"
      },
      "source": [
        "words_data =words_data.loc[:, ~words_data.columns.str.contains('^Unnamed')]\n",
        "words_data.head()"
      ],
      "execution_count": 204,
      "outputs": [
        {
          "output_type": "execute_result",
          "data": {
            "text/html": [
              "<div>\n",
              "<style scoped>\n",
              "    .dataframe tbody tr th:only-of-type {\n",
              "        vertical-align: middle;\n",
              "    }\n",
              "\n",
              "    .dataframe tbody tr th {\n",
              "        vertical-align: top;\n",
              "    }\n",
              "\n",
              "    .dataframe thead th {\n",
              "        text-align: right;\n",
              "    }\n",
              "</style>\n",
              "<table border=\"1\" class=\"dataframe\">\n",
              "  <thead>\n",
              "    <tr style=\"text-align: right;\">\n",
              "      <th></th>\n",
              "      <th>word</th>\n",
              "    </tr>\n",
              "  </thead>\n",
              "  <tbody>\n",
              "    <tr>\n",
              "      <th>0</th>\n",
              "      <td>i</td>\n",
              "    </tr>\n",
              "    <tr>\n",
              "      <th>1</th>\n",
              "      <td>the</td>\n",
              "    </tr>\n",
              "    <tr>\n",
              "      <th>2</th>\n",
              "      <td>you</td>\n",
              "    </tr>\n",
              "    <tr>\n",
              "      <th>3</th>\n",
              "      <td>to</td>\n",
              "    </tr>\n",
              "    <tr>\n",
              "      <th>4</th>\n",
              "      <td>and</td>\n",
              "    </tr>\n",
              "  </tbody>\n",
              "</table>\n",
              "</div>"
            ],
            "text/plain": [
              "  word\n",
              "0    i\n",
              "1  the\n",
              "2  you\n",
              "3   to\n",
              "4  and"
            ]
          },
          "metadata": {
            "tags": []
          },
          "execution_count": 204
        }
      ]
    },
    {
      "cell_type": "code",
      "metadata": {
        "colab": {
          "base_uri": "https://localhost:8080/",
          "height": 204
        },
        "id": "5ZsPWQxYGarr",
        "outputId": "0113aa9e-e8d1-4d4a-bbf2-323568473249"
      },
      "source": [
        "lyrics_data =lyrics_data.loc[:, ~lyrics_data.columns.str.contains('^Unnamed')]\n",
        "lyrics_data.head()"
      ],
      "execution_count": 205,
      "outputs": [
        {
          "output_type": "execute_result",
          "data": {
            "text/html": [
              "<div>\n",
              "<style scoped>\n",
              "    .dataframe tbody tr th:only-of-type {\n",
              "        vertical-align: middle;\n",
              "    }\n",
              "\n",
              "    .dataframe tbody tr th {\n",
              "        vertical-align: top;\n",
              "    }\n",
              "\n",
              "    .dataframe thead th {\n",
              "        text-align: right;\n",
              "    }\n",
              "</style>\n",
              "<table border=\"1\" class=\"dataframe\">\n",
              "  <thead>\n",
              "    <tr style=\"text-align: right;\">\n",
              "      <th></th>\n",
              "      <th>track_id</th>\n",
              "      <th>mxm_tid</th>\n",
              "      <th>word</th>\n",
              "      <th>count</th>\n",
              "      <th>is_test</th>\n",
              "    </tr>\n",
              "  </thead>\n",
              "  <tbody>\n",
              "    <tr>\n",
              "      <th>0</th>\n",
              "      <td>TRAABJS128F9325C99</td>\n",
              "      <td>5516210</td>\n",
              "      <td>i</td>\n",
              "      <td>5</td>\n",
              "      <td>0</td>\n",
              "    </tr>\n",
              "    <tr>\n",
              "      <th>1</th>\n",
              "      <td>TRAABJS128F9325C99</td>\n",
              "      <td>5516210</td>\n",
              "      <td>the</td>\n",
              "      <td>3</td>\n",
              "      <td>0</td>\n",
              "    </tr>\n",
              "    <tr>\n",
              "      <th>2</th>\n",
              "      <td>TRAABJS128F9325C99</td>\n",
              "      <td>5516210</td>\n",
              "      <td>you</td>\n",
              "      <td>3</td>\n",
              "      <td>0</td>\n",
              "    </tr>\n",
              "    <tr>\n",
              "      <th>3</th>\n",
              "      <td>TRAABJS128F9325C99</td>\n",
              "      <td>5516210</td>\n",
              "      <td>to</td>\n",
              "      <td>3</td>\n",
              "      <td>0</td>\n",
              "    </tr>\n",
              "    <tr>\n",
              "      <th>4</th>\n",
              "      <td>TRAABJS128F9325C99</td>\n",
              "      <td>5516210</td>\n",
              "      <td>and</td>\n",
              "      <td>8</td>\n",
              "      <td>0</td>\n",
              "    </tr>\n",
              "  </tbody>\n",
              "</table>\n",
              "</div>"
            ],
            "text/plain": [
              "             track_id  mxm_tid word  count  is_test\n",
              "0  TRAABJS128F9325C99  5516210    i      5        0\n",
              "1  TRAABJS128F9325C99  5516210  the      3        0\n",
              "2  TRAABJS128F9325C99  5516210  you      3        0\n",
              "3  TRAABJS128F9325C99  5516210   to      3        0\n",
              "4  TRAABJS128F9325C99  5516210  and      8        0"
            ]
          },
          "metadata": {
            "tags": []
          },
          "execution_count": 205
        }
      ]
    },
    {
      "cell_type": "code",
      "metadata": {
        "id": "LQwfR6PEICh9"
      },
      "source": [
        "lyrics_data['words'] = lyrics_data.apply(lambda x: (x['word']+' ') * x['count'], axis=1)"
      ],
      "execution_count": 206,
      "outputs": []
    },
    {
      "cell_type": "code",
      "metadata": {
        "id": "umfVN9MVIvHN"
      },
      "source": [
        "merge_data = lyrics_data[['track_id','words']].groupby('track_id')['words'].apply(lambda x: ' '.join(x)).reset_index(name='lyric')"
      ],
      "execution_count": 207,
      "outputs": []
    },
    {
      "cell_type": "code",
      "metadata": {
        "colab": {
          "base_uri": "https://localhost:8080/",
          "height": 204
        },
        "id": "X67lFVgCK27F",
        "outputId": "b4fe198e-b960-4660-87c3-75e8296ce622"
      },
      "source": [
        "merge_data.head()"
      ],
      "execution_count": 208,
      "outputs": [
        {
          "output_type": "execute_result",
          "data": {
            "text/html": [
              "<div>\n",
              "<style scoped>\n",
              "    .dataframe tbody tr th:only-of-type {\n",
              "        vertical-align: middle;\n",
              "    }\n",
              "\n",
              "    .dataframe tbody tr th {\n",
              "        vertical-align: top;\n",
              "    }\n",
              "\n",
              "    .dataframe thead th {\n",
              "        text-align: right;\n",
              "    }\n",
              "</style>\n",
              "<table border=\"1\" class=\"dataframe\">\n",
              "  <thead>\n",
              "    <tr style=\"text-align: right;\">\n",
              "      <th></th>\n",
              "      <th>track_id</th>\n",
              "      <th>lyric</th>\n",
              "    </tr>\n",
              "  </thead>\n",
              "  <tbody>\n",
              "    <tr>\n",
              "      <th>0</th>\n",
              "      <td>TRAABJS128F9325C99</td>\n",
              "      <td>i i i i i  the the the  you you you  to to to ...</td>\n",
              "    </tr>\n",
              "    <tr>\n",
              "      <th>1</th>\n",
              "      <td>TRAACIE128F428495B</td>\n",
              "      <td>i i  the the  you you you you you you you you ...</td>\n",
              "    </tr>\n",
              "    <tr>\n",
              "      <th>2</th>\n",
              "      <td>TRAACPH12903CF5F14</td>\n",
              "      <td>the  you  and and and  a  in in  is  your  we ...</td>\n",
              "    </tr>\n",
              "    <tr>\n",
              "      <th>3</th>\n",
              "      <td>TRAADKW128E079503A</td>\n",
              "      <td>i i i i i i i i i i i i i i i i i i i i i i i ...</td>\n",
              "    </tr>\n",
              "    <tr>\n",
              "      <th>4</th>\n",
              "      <td>TRAADQL128F427D281</td>\n",
              "      <td>i i i i i i i i i i i i i i i i i i i i i i i ...</td>\n",
              "    </tr>\n",
              "  </tbody>\n",
              "</table>\n",
              "</div>"
            ],
            "text/plain": [
              "             track_id                                              lyric\n",
              "0  TRAABJS128F9325C99  i i i i i  the the the  you you you  to to to ...\n",
              "1  TRAACIE128F428495B  i i  the the  you you you you you you you you ...\n",
              "2  TRAACPH12903CF5F14  the  you  and and and  a  in in  is  your  we ...\n",
              "3  TRAADKW128E079503A  i i i i i i i i i i i i i i i i i i i i i i i ...\n",
              "4  TRAADQL128F427D281  i i i i i i i i i i i i i i i i i i i i i i i ..."
            ]
          },
          "metadata": {
            "tags": []
          },
          "execution_count": 208
        }
      ]
    },
    {
      "cell_type": "code",
      "metadata": {
        "id": "jbOp2zp_K4SV"
      },
      "source": [
        "import re \n",
        "import nltk\n",
        "from nltk.corpus import stopwords\n",
        "from nltk.tokenize import word_tokenize\n",
        "from wordcloud import WordCloud,STOPWORDS\n",
        "import matplotlib.pyplot as plt\n",
        "import seaborn as sns"
      ],
      "execution_count": 209,
      "outputs": []
    },
    {
      "cell_type": "code",
      "metadata": {
        "colab": {
          "base_uri": "https://localhost:8080/"
        },
        "id": "Qf6UCJ-RMsGE",
        "outputId": "9784cf43-f1a1-41e5-80b2-4b0277069bc4"
      },
      "source": [
        "nltk.download(\"stopwords\")\n",
        "nltk.download('punkt')\n",
        "nltk.download('wordnet')"
      ],
      "execution_count": 210,
      "outputs": [
        {
          "output_type": "stream",
          "text": [
            "[nltk_data] Downloading package stopwords to /root/nltk_data...\n",
            "[nltk_data]   Package stopwords is already up-to-date!\n",
            "[nltk_data] Downloading package punkt to /root/nltk_data...\n",
            "[nltk_data]   Package punkt is already up-to-date!\n",
            "[nltk_data] Downloading package wordnet to /root/nltk_data...\n",
            "[nltk_data]   Package wordnet is already up-to-date!\n"
          ],
          "name": "stdout"
        },
        {
          "output_type": "execute_result",
          "data": {
            "text/plain": [
              "True"
            ]
          },
          "metadata": {
            "tags": []
          },
          "execution_count": 210
        }
      ]
    },
    {
      "cell_type": "code",
      "metadata": {
        "id": "zUdHP0m3K9gX"
      },
      "source": [
        "\n",
        "def text_cleaning(text):\n",
        "  # text = re.sub('^<[^>]+>',text, '')\n",
        "  # print(text)\n",
        "  lemm =nltk.WordNetLemmatizer()\n",
        "  stop_words = set(stopwords.words(\"english\"))\n",
        "  word_tokens = word_tokenize(text)\n",
        "  # print(word_tokens)\n",
        "  filtered_text = [word.lower() for word in word_tokens if word not in stop_words]\n",
        "  # print(filtered_text)\n",
        "  text = [lemm.lemmatize(word) for word in filtered_text ]\n",
        "  # print(text)\n",
        "  text = \" \".join(word for word in text)\n",
        "  return text"
      ],
      "execution_count": 211,
      "outputs": []
    },
    {
      "cell_type": "code",
      "metadata": {
        "id": "FHqmgwnrMqz5"
      },
      "source": [
        "merge_data[\"lyric\"] = merge_data[\"lyric\"].apply(lambda x: text_cleaning(x))"
      ],
      "execution_count": 212,
      "outputs": []
    },
    {
      "cell_type": "code",
      "metadata": {
        "colab": {
          "base_uri": "https://localhost:8080/",
          "height": 204
        },
        "id": "2XQVf8L4NXsX",
        "outputId": "92e4a9f1-5709-4e37-fb9d-d6a1cc8fc529"
      },
      "source": [
        "merge_data.head()"
      ],
      "execution_count": 213,
      "outputs": [
        {
          "output_type": "execute_result",
          "data": {
            "text/html": [
              "<div>\n",
              "<style scoped>\n",
              "    .dataframe tbody tr th:only-of-type {\n",
              "        vertical-align: middle;\n",
              "    }\n",
              "\n",
              "    .dataframe tbody tr th {\n",
              "        vertical-align: top;\n",
              "    }\n",
              "\n",
              "    .dataframe thead th {\n",
              "        text-align: right;\n",
              "    }\n",
              "</style>\n",
              "<table border=\"1\" class=\"dataframe\">\n",
              "  <thead>\n",
              "    <tr style=\"text-align: right;\">\n",
              "      <th></th>\n",
              "      <th>track_id</th>\n",
              "      <th>lyric</th>\n",
              "    </tr>\n",
              "  </thead>\n",
              "  <tbody>\n",
              "    <tr>\n",
              "      <th>0</th>\n",
              "      <td>TRAABJS128F9325C99</td>\n",
              "      <td>come one one want way say eye tell still still...</td>\n",
              "    </tr>\n",
              "    <tr>\n",
              "      <th>1</th>\n",
              "      <td>TRAACIE128F428495B</td>\n",
              "      <td>love love like like come one never let let say...</td>\n",
              "    </tr>\n",
              "    <tr>\n",
              "      <th>2</th>\n",
              "      <td>TRAACPH12903CF5F14</td>\n",
              "      <td>come see eye thing live live everyth word much...</td>\n",
              "    </tr>\n",
              "    <tr>\n",
              "      <th>3</th>\n",
              "      <td>TRAADKW128E079503A</td>\n",
              "      <td>know like like like like go go get get get get...</td>\n",
              "    </tr>\n",
              "    <tr>\n",
              "      <th>4</th>\n",
              "      <td>TRAADQL128F427D281</td>\n",
              "      <td>love know like time go get get get get get get...</td>\n",
              "    </tr>\n",
              "  </tbody>\n",
              "</table>\n",
              "</div>"
            ],
            "text/plain": [
              "             track_id                                              lyric\n",
              "0  TRAABJS128F9325C99  come one one want way say eye tell still still...\n",
              "1  TRAACIE128F428495B  love love like like come one never let let say...\n",
              "2  TRAACPH12903CF5F14  come see eye thing live live everyth word much...\n",
              "3  TRAADKW128E079503A  know like like like like go go get get get get...\n",
              "4  TRAADQL128F427D281  love know like time go get get get get get get..."
            ]
          },
          "metadata": {
            "tags": []
          },
          "execution_count": 213
        }
      ]
    },
    {
      "cell_type": "code",
      "metadata": {
        "id": "FEOlJYmANi1l"
      },
      "source": [
        "word_cloud_text = \" \".join(list(merge_data[\"lyric\"].to_numpy()))"
      ],
      "execution_count": 214,
      "outputs": []
    },
    {
      "cell_type": "code",
      "metadata": {
        "id": "jjVprzuVR1LH"
      },
      "source": [
        "text_list =[]\n",
        "word_cloud_text_li = word_cloud_text.split()\n",
        "for i in word_cloud_text_li:\n",
        "  if len(i)>1:\n",
        "    text_list.append(i)\n"
      ],
      "execution_count": 215,
      "outputs": []
    },
    {
      "cell_type": "code",
      "metadata": {
        "colab": {
          "base_uri": "https://localhost:8080/"
        },
        "id": "-w1HAgmQRgil",
        "outputId": "15201972-83fd-4a2f-d621-b174a9f41f0f"
      },
      "source": [
        "print(\"Unique words in lyrics dataset: \",len(np.unique(text_list)))"
      ],
      "execution_count": 216,
      "outputs": [
        {
          "output_type": "stream",
          "text": [
            "Unique words in lyrics dataset:  4695\n"
          ],
          "name": "stdout"
        }
      ]
    },
    {
      "cell_type": "code",
      "metadata": {
        "colab": {
          "base_uri": "https://localhost:8080/",
          "height": 751
        },
        "id": "J41-l194Nvsc",
        "outputId": "11f7e6ce-919f-4218-c7fc-5e7401ef1902"
      },
      "source": [
        "wordcloud = WordCloud(width = 800, height = 800,\n",
        "                background_color ='white',\n",
        "                stopwords = STOPWORDS,\n",
        "                min_font_size = 10).generate(word_cloud_text)\n",
        " \n",
        "# plot the WordCloud image                      \n",
        "plt.figure(figsize = (15,10), facecolor = None)\n",
        "plt.imshow(wordcloud)\n",
        "plt.axis(\"off\")\n",
        "plt.tight_layout(pad = 0)\n",
        " \n",
        "plt.show()"
      ],
      "execution_count": 217,
      "outputs": [
        {
          "output_type": "display_data",
          "data": {
            "image/png": "[encoded data removed]",
            "text/plain": [
              "<Figure size 1080x720 with 1 Axes>"
            ]
          },
          "metadata": {
            "tags": []
          }
        }
      ]
    },
    {
      "cell_type": "code",
      "metadata": {
        "id": "asIQ_c3SP7af"
      },
      "source": [
        "from collections import Counter\n",
        "# line_text = \"Learn and practice and learn to practice\"\n",
        "freq = Counter(word_cloud_text.split()).most_common()\n",
        "# print(freq)"
      ],
      "execution_count": 218,
      "outputs": []
    },
    {
      "cell_type": "code",
      "metadata": {
        "id": "3EHo5Nj1QF24"
      },
      "source": [
        "stop_words_li = list(stopwords.words('english'))\n",
        "counter = 0\n",
        "word_list = []\n",
        "freq_list= []\n",
        "i = 0\n",
        "while(counter<20):\n",
        "  if freq[i][0] not in stop_words_li:\n",
        "    word_list.append(freq[i][0])\n",
        "    freq_list.append(freq[i][1])\n",
        "    counter+=1\n",
        "    \n",
        "  i+=1"
      ],
      "execution_count": 219,
      "outputs": []
    },
    {
      "cell_type": "code",
      "metadata": {
        "colab": {
          "base_uri": "https://localhost:8080/",
          "height": 594
        },
        "id": "yhrCdb3qRF7Y",
        "outputId": "b1572175-d166-4f73-a03d-e4343b07f7fe"
      },
      "source": [
        "sns.barplot(y =freq_list, x=word_list )\n",
        "sns.set(rc={'figure.figsize':(15,10)})"
      ],
      "execution_count": 220,
      "outputs": [
        {
          "output_type": "display_data",
          "data": {
            "image/png": "[encoded data removed]",
            "text/plain": [
              "<Figure size 1080x720 with 1 Axes>"
            ]
          },
          "metadata": {
            "tags": []
          }
        }
      ]
    },
    {
      "cell_type": "code",
      "metadata": {
        "id": "vMuXwWwiRvVO"
      },
      "source": [
        "def text_clean(text):\n",
        "  porter = nltk.PorterStemmer()\n",
        "  # print(text)\n",
        "  text = [w for w in text.split(\" \") if w not in stop_words_li]\n",
        "  text = \" \".join(text)\n",
        "  text = porter.stem(text)\n",
        "  text = nltk.word_tokenize(text)\n",
        "  return text"
      ],
      "execution_count": 221,
      "outputs": []
    },
    {
      "cell_type": "code",
      "metadata": {
        "id": "-f7Pc6dpH-O7"
      },
      "source": [
        "merge_data[\"lyric_clean\"] = merge_data[\"lyric\"].apply(lambda x:text_clean(x))"
      ],
      "execution_count": 222,
      "outputs": []
    },
    {
      "cell_type": "code",
      "metadata": {
        "colab": {
          "base_uri": "https://localhost:8080/",
          "height": 204
        },
        "id": "IDFjZzMvIVSM",
        "outputId": "c3664f85-e3d1-40f5-81a6-96bdbf17c49a"
      },
      "source": [
        "merge_data.head()"
      ],
      "execution_count": 223,
      "outputs": [
        {
          "output_type": "execute_result",
          "data": {
            "text/html": [
              "<div>\n",
              "<style scoped>\n",
              "    .dataframe tbody tr th:only-of-type {\n",
              "        vertical-align: middle;\n",
              "    }\n",
              "\n",
              "    .dataframe tbody tr th {\n",
              "        vertical-align: top;\n",
              "    }\n",
              "\n",
              "    .dataframe thead th {\n",
              "        text-align: right;\n",
              "    }\n",
              "</style>\n",
              "<table border=\"1\" class=\"dataframe\">\n",
              "  <thead>\n",
              "    <tr style=\"text-align: right;\">\n",
              "      <th></th>\n",
              "      <th>track_id</th>\n",
              "      <th>lyric</th>\n",
              "      <th>lyric_clean</th>\n",
              "    </tr>\n",
              "  </thead>\n",
              "  <tbody>\n",
              "    <tr>\n",
              "      <th>0</th>\n",
              "      <td>TRAABJS128F9325C99</td>\n",
              "      <td>come one one want way say eye tell still still...</td>\n",
              "      <td>[come, one, one, want, way, say, eye, tell, st...</td>\n",
              "    </tr>\n",
              "    <tr>\n",
              "      <th>1</th>\n",
              "      <td>TRAACIE128F428495B</td>\n",
              "      <td>love love like like come one never let let say...</td>\n",
              "      <td>[love, love, like, like, come, one, never, let...</td>\n",
              "    </tr>\n",
              "    <tr>\n",
              "      <th>2</th>\n",
              "      <td>TRAACPH12903CF5F14</td>\n",
              "      <td>come see eye thing live live everyth word much...</td>\n",
              "      <td>[come, see, eye, thing, live, live, everyth, w...</td>\n",
              "    </tr>\n",
              "    <tr>\n",
              "      <th>3</th>\n",
              "      <td>TRAADKW128E079503A</td>\n",
              "      <td>know like like like like go go get get get get...</td>\n",
              "      <td>[know, like, like, like, like, go, go, get, ge...</td>\n",
              "    </tr>\n",
              "    <tr>\n",
              "      <th>4</th>\n",
              "      <td>TRAADQL128F427D281</td>\n",
              "      <td>love know like time go get get get get get get...</td>\n",
              "      <td>[love, know, like, time, go, get, get, get, ge...</td>\n",
              "    </tr>\n",
              "  </tbody>\n",
              "</table>\n",
              "</div>"
            ],
            "text/plain": [
              "             track_id  ...                                        lyric_clean\n",
              "0  TRAABJS128F9325C99  ...  [come, one, one, want, way, say, eye, tell, st...\n",
              "1  TRAACIE128F428495B  ...  [love, love, like, like, come, one, never, let...\n",
              "2  TRAACPH12903CF5F14  ...  [come, see, eye, thing, live, live, everyth, w...\n",
              "3  TRAADKW128E079503A  ...  [know, like, like, like, like, go, go, get, ge...\n",
              "4  TRAADQL128F427D281  ...  [love, know, like, time, go, get, get, get, ge...\n",
              "\n",
              "[5 rows x 3 columns]"
            ]
          },
          "metadata": {
            "tags": []
          },
          "execution_count": 223
        }
      ]
    },
    {
      "cell_type": "code",
      "metadata": {
        "id": "iCk5KRCPJZZJ"
      },
      "source": [
        "from sklearn.feature_extraction.text import TfidfVectorizer\n",
        "import gensim\n",
        "from gensim import corpora,models\n",
        "# from gensim import LdaModel,LsiModel "
      ],
      "execution_count": 224,
      "outputs": []
    },
    {
      "cell_type": "code",
      "metadata": {
        "id": "e2Nz5lU9JhVI"
      },
      "source": [
        "tf_idf = TfidfVectorizer()"
      ],
      "execution_count": 225,
      "outputs": []
    },
    {
      "cell_type": "code",
      "metadata": {
        "id": "sQzM7NRbNf9j"
      },
      "source": [
        "tfidf = tf_idf.fit_transform(merge_data[\"lyric\"])"
      ],
      "execution_count": 226,
      "outputs": []
    },
    {
      "cell_type": "code",
      "metadata": {
        "id": "mN3VyHWKNuHZ"
      },
      "source": [
        "#word to vector:\n",
        "word_to_vector = gensim.models.Word2Vec(merge_data[\"lyric_clean\"],min_count=1,size=200,window=1)"
      ],
      "execution_count": 227,
      "outputs": []
    },
    {
      "cell_type": "code",
      "metadata": {
        "colab": {
          "base_uri": "https://localhost:8080/"
        },
        "id": "C4Cnc5YoPXfm",
        "outputId": "c2df104f-1f87-49fe-c781-6f36a940496e"
      },
      "source": [
        "merge_data[\"lyric_clean\"]"
      ],
      "execution_count": 228,
      "outputs": [
        {
          "output_type": "execute_result",
          "data": {
            "text/plain": [
              "0       [come, one, one, want, way, say, eye, tell, st...\n",
              "1       [love, love, like, like, come, one, never, let...\n",
              "2       [come, see, eye, thing, live, live, everyth, w...\n",
              "3       [know, like, like, like, like, go, go, get, ge...\n",
              "4       [love, know, like, time, go, get, get, get, ge...\n",
              "                              ...                        \n",
              "5625    [like, like, like, like, come, come, come, com...\n",
              "5626    [love, love, love, love, love, love, love, lov...\n",
              "5627    [love, know, oh, oh, oh, oh, oh, oh, oh, oh, o...\n",
              "5628    [time, see, see, see, see, see, got, never, fe...\n",
              "5629    [know, know, know, know, know, know, see, feel...\n",
              "Name: lyric_clean, Length: 5630, dtype: object"
            ]
          },
          "metadata": {
            "tags": []
          },
          "execution_count": 228
        }
      ]
    },
    {
      "cell_type": "code",
      "metadata": {
        "colab": {
          "base_uri": "https://localhost:8080/"
        },
        "id": "kRc3pCmzOepP",
        "outputId": "dde10b36-c979-4d0d-f7d0-4e7360a151ed"
      },
      "source": [
        "vocabulary =set(word_to_vector.wv.index2word)\n",
        "features = []\n",
        "for t in merge_data[\"lyric_clean\"]:\n",
        "  feature_vector = np.zeros((200,),dtype=\"float64\")\n",
        "  word_count = 0\n",
        "  for w in t:\n",
        "    if w in vocabulary:\n",
        "      word_count+=1\n",
        "      feature_vector =np.add(feature_vector,word_to_vector[w])\n",
        "\n",
        "  if word_count:\n",
        "    feature_vector = np.divide(feature_vector,word_count)\n",
        "  \n",
        "  features.append(feature_vector)"
      ],
      "execution_count": 229,
      "outputs": [
        {
          "output_type": "stream",
          "text": [
            "/usr/local/lib/python3.7/dist-packages/ipykernel_launcher.py:9: DeprecationWarning: Call to deprecated `__getitem__` (Method will be removed in 4.0.0, use self.wv.__getitem__() instead).\n",
            "  if __name__ == '__main__':\n"
          ],
          "name": "stderr"
        }
      ]
    },
    {
      "cell_type": "code",
      "metadata": {
        "id": "IsjhGsklQdVp"
      },
      "source": [
        "features = np.array(features)"
      ],
      "execution_count": 230,
      "outputs": []
    },
    {
      "cell_type": "code",
      "metadata": {
        "id": "cPqurnLoSAiL"
      },
      "source": [
        "features_df = pd.DataFrame(features)\n",
        "features_df.to_csv(\"/content/drive/MyDrive/song_lyrics/features_song_lyrics.csv\")"
      ],
      "execution_count": 231,
      "outputs": []
    },
    {
      "cell_type": "code",
      "metadata": {
        "id": "V2AoPtK4SSp7"
      },
      "source": [
        "features_df = pd.read_csv(\"/content/drive/MyDrive/song_lyrics/features_song_lyrics.csv\")"
      ],
      "execution_count": 232,
      "outputs": []
    },
    {
      "cell_type": "code",
      "metadata": {
        "colab": {
          "base_uri": "https://localhost:8080/",
          "height": 253
        },
        "id": "_Oejube7SZmW",
        "outputId": "2f1cbc0f-b98d-458c-8d71-6cf158065c56"
      },
      "source": [
        "features_df = features_df.loc[:, ~features_df.columns.str.contains('^Unnamed')]\n",
        "features_df.head()"
      ],
      "execution_count": 233,
      "outputs": [
        {
          "output_type": "execute_result",
          "data": {
            "text/html": [
              "<div>\n",
              "<style scoped>\n",
              "    .dataframe tbody tr th:only-of-type {\n",
              "        vertical-align: middle;\n",
              "    }\n",
              "\n",
              "    .dataframe tbody tr th {\n",
              "        vertical-align: top;\n",
              "    }\n",
              "\n",
              "    .dataframe thead th {\n",
              "        text-align: right;\n",
              "    }\n",
              "</style>\n",
              "<table border=\"1\" class=\"dataframe\">\n",
              "  <thead>\n",
              "    <tr style=\"text-align: right;\">\n",
              "      <th></th>\n",
              "      <th>0</th>\n",
              "      <th>1</th>\n",
              "      <th>2</th>\n",
              "      <th>3</th>\n",
              "      <th>4</th>\n",
              "      <th>5</th>\n",
              "      <th>6</th>\n",
              "      <th>7</th>\n",
              "      <th>8</th>\n",
              "      <th>9</th>\n",
              "      <th>10</th>\n",
              "      <th>11</th>\n",
              "      <th>12</th>\n",
              "      <th>13</th>\n",
              "      <th>14</th>\n",
              "      <th>15</th>\n",
              "      <th>16</th>\n",
              "      <th>17</th>\n",
              "      <th>18</th>\n",
              "      <th>19</th>\n",
              "      <th>20</th>\n",
              "      <th>21</th>\n",
              "      <th>22</th>\n",
              "      <th>23</th>\n",
              "      <th>24</th>\n",
              "      <th>25</th>\n",
              "      <th>26</th>\n",
              "      <th>27</th>\n",
              "      <th>28</th>\n",
              "      <th>29</th>\n",
              "      <th>30</th>\n",
              "      <th>31</th>\n",
              "      <th>32</th>\n",
              "      <th>33</th>\n",
              "      <th>34</th>\n",
              "      <th>35</th>\n",
              "      <th>36</th>\n",
              "      <th>37</th>\n",
              "      <th>38</th>\n",
              "      <th>39</th>\n",
              "      <th>...</th>\n",
              "      <th>160</th>\n",
              "      <th>161</th>\n",
              "      <th>162</th>\n",
              "      <th>163</th>\n",
              "      <th>164</th>\n",
              "      <th>165</th>\n",
              "      <th>166</th>\n",
              "      <th>167</th>\n",
              "      <th>168</th>\n",
              "      <th>169</th>\n",
              "      <th>170</th>\n",
              "      <th>171</th>\n",
              "      <th>172</th>\n",
              "      <th>173</th>\n",
              "      <th>174</th>\n",
              "      <th>175</th>\n",
              "      <th>176</th>\n",
              "      <th>177</th>\n",
              "      <th>178</th>\n",
              "      <th>179</th>\n",
              "      <th>180</th>\n",
              "      <th>181</th>\n",
              "      <th>182</th>\n",
              "      <th>183</th>\n",
              "      <th>184</th>\n",
              "      <th>185</th>\n",
              "      <th>186</th>\n",
              "      <th>187</th>\n",
              "      <th>188</th>\n",
              "      <th>189</th>\n",
              "      <th>190</th>\n",
              "      <th>191</th>\n",
              "      <th>192</th>\n",
              "      <th>193</th>\n",
              "      <th>194</th>\n",
              "      <th>195</th>\n",
              "      <th>196</th>\n",
              "      <th>197</th>\n",
              "      <th>198</th>\n",
              "      <th>199</th>\n",
              "    </tr>\n",
              "  </thead>\n",
              "  <tbody>\n",
              "    <tr>\n",
              "      <th>0</th>\n",
              "      <td>-0.234910</td>\n",
              "      <td>0.115181</td>\n",
              "      <td>0.038271</td>\n",
              "      <td>-0.147842</td>\n",
              "      <td>-0.115674</td>\n",
              "      <td>0.239486</td>\n",
              "      <td>0.160454</td>\n",
              "      <td>-0.218716</td>\n",
              "      <td>-0.097205</td>\n",
              "      <td>-0.095611</td>\n",
              "      <td>0.083163</td>\n",
              "      <td>0.162379</td>\n",
              "      <td>0.021408</td>\n",
              "      <td>-0.523001</td>\n",
              "      <td>-0.010243</td>\n",
              "      <td>-0.278959</td>\n",
              "      <td>0.388629</td>\n",
              "      <td>-0.068821</td>\n",
              "      <td>0.009243</td>\n",
              "      <td>0.256511</td>\n",
              "      <td>-0.236365</td>\n",
              "      <td>0.192039</td>\n",
              "      <td>-0.173877</td>\n",
              "      <td>-0.415824</td>\n",
              "      <td>0.475129</td>\n",
              "      <td>0.094840</td>\n",
              "      <td>-0.102122</td>\n",
              "      <td>-0.186923</td>\n",
              "      <td>0.021037</td>\n",
              "      <td>-0.265558</td>\n",
              "      <td>-0.171028</td>\n",
              "      <td>0.541124</td>\n",
              "      <td>-0.000716</td>\n",
              "      <td>0.298139</td>\n",
              "      <td>0.076724</td>\n",
              "      <td>-0.218198</td>\n",
              "      <td>0.038069</td>\n",
              "      <td>-0.310354</td>\n",
              "      <td>-0.033424</td>\n",
              "      <td>0.177636</td>\n",
              "      <td>...</td>\n",
              "      <td>0.011960</td>\n",
              "      <td>0.201508</td>\n",
              "      <td>0.223654</td>\n",
              "      <td>0.138049</td>\n",
              "      <td>-0.192911</td>\n",
              "      <td>0.646444</td>\n",
              "      <td>-0.375423</td>\n",
              "      <td>-0.468784</td>\n",
              "      <td>0.090526</td>\n",
              "      <td>0.065554</td>\n",
              "      <td>-0.418039</td>\n",
              "      <td>0.074018</td>\n",
              "      <td>0.434477</td>\n",
              "      <td>0.135698</td>\n",
              "      <td>-0.096171</td>\n",
              "      <td>0.119127</td>\n",
              "      <td>0.285810</td>\n",
              "      <td>-0.334027</td>\n",
              "      <td>0.072022</td>\n",
              "      <td>0.318320</td>\n",
              "      <td>-0.042613</td>\n",
              "      <td>0.264315</td>\n",
              "      <td>-0.341118</td>\n",
              "      <td>-0.189166</td>\n",
              "      <td>-0.393816</td>\n",
              "      <td>0.791315</td>\n",
              "      <td>-0.079598</td>\n",
              "      <td>-0.124575</td>\n",
              "      <td>0.257801</td>\n",
              "      <td>-0.205942</td>\n",
              "      <td>-0.379281</td>\n",
              "      <td>-0.134353</td>\n",
              "      <td>-0.093684</td>\n",
              "      <td>-0.072283</td>\n",
              "      <td>0.056404</td>\n",
              "      <td>-0.034018</td>\n",
              "      <td>-0.058257</td>\n",
              "      <td>0.400905</td>\n",
              "      <td>0.271203</td>\n",
              "      <td>0.133660</td>\n",
              "    </tr>\n",
              "    <tr>\n",
              "      <th>1</th>\n",
              "      <td>-0.209976</td>\n",
              "      <td>0.126823</td>\n",
              "      <td>-0.059452</td>\n",
              "      <td>-0.031324</td>\n",
              "      <td>-0.074088</td>\n",
              "      <td>0.252472</td>\n",
              "      <td>0.053315</td>\n",
              "      <td>-0.159256</td>\n",
              "      <td>-0.118749</td>\n",
              "      <td>-0.092136</td>\n",
              "      <td>0.143860</td>\n",
              "      <td>-0.008032</td>\n",
              "      <td>0.026860</td>\n",
              "      <td>-0.446991</td>\n",
              "      <td>0.057918</td>\n",
              "      <td>-0.145248</td>\n",
              "      <td>0.402737</td>\n",
              "      <td>-0.090042</td>\n",
              "      <td>-0.020390</td>\n",
              "      <td>0.146131</td>\n",
              "      <td>-0.178405</td>\n",
              "      <td>0.223352</td>\n",
              "      <td>-0.128552</td>\n",
              "      <td>-0.326681</td>\n",
              "      <td>0.334619</td>\n",
              "      <td>0.077809</td>\n",
              "      <td>-0.095663</td>\n",
              "      <td>-0.145882</td>\n",
              "      <td>-0.021756</td>\n",
              "      <td>-0.191316</td>\n",
              "      <td>-0.198162</td>\n",
              "      <td>0.511953</td>\n",
              "      <td>0.005340</td>\n",
              "      <td>0.186281</td>\n",
              "      <td>0.027637</td>\n",
              "      <td>-0.159679</td>\n",
              "      <td>-0.021202</td>\n",
              "      <td>-0.313409</td>\n",
              "      <td>-0.025997</td>\n",
              "      <td>0.034444</td>\n",
              "      <td>...</td>\n",
              "      <td>-0.031353</td>\n",
              "      <td>0.208408</td>\n",
              "      <td>0.158795</td>\n",
              "      <td>0.112402</td>\n",
              "      <td>-0.099244</td>\n",
              "      <td>0.504041</td>\n",
              "      <td>-0.347679</td>\n",
              "      <td>-0.468288</td>\n",
              "      <td>0.028046</td>\n",
              "      <td>0.029360</td>\n",
              "      <td>-0.271248</td>\n",
              "      <td>0.058115</td>\n",
              "      <td>0.367956</td>\n",
              "      <td>0.133635</td>\n",
              "      <td>-0.104410</td>\n",
              "      <td>0.117981</td>\n",
              "      <td>0.228378</td>\n",
              "      <td>-0.214349</td>\n",
              "      <td>0.055692</td>\n",
              "      <td>0.321932</td>\n",
              "      <td>-0.022320</td>\n",
              "      <td>0.262161</td>\n",
              "      <td>-0.364913</td>\n",
              "      <td>-0.198576</td>\n",
              "      <td>-0.336349</td>\n",
              "      <td>0.722255</td>\n",
              "      <td>-0.040521</td>\n",
              "      <td>-0.026961</td>\n",
              "      <td>0.153892</td>\n",
              "      <td>-0.122083</td>\n",
              "      <td>-0.355031</td>\n",
              "      <td>-0.170832</td>\n",
              "      <td>-0.051182</td>\n",
              "      <td>-0.105056</td>\n",
              "      <td>0.049819</td>\n",
              "      <td>-0.129685</td>\n",
              "      <td>-0.055542</td>\n",
              "      <td>0.329153</td>\n",
              "      <td>0.309146</td>\n",
              "      <td>0.160284</td>\n",
              "    </tr>\n",
              "    <tr>\n",
              "      <th>2</th>\n",
              "      <td>-0.228003</td>\n",
              "      <td>0.101227</td>\n",
              "      <td>0.133811</td>\n",
              "      <td>-0.115742</td>\n",
              "      <td>-0.004282</td>\n",
              "      <td>0.250740</td>\n",
              "      <td>0.070660</td>\n",
              "      <td>-0.169549</td>\n",
              "      <td>-0.168461</td>\n",
              "      <td>-0.146957</td>\n",
              "      <td>0.257402</td>\n",
              "      <td>0.051685</td>\n",
              "      <td>0.015511</td>\n",
              "      <td>-0.551056</td>\n",
              "      <td>0.038331</td>\n",
              "      <td>-0.179760</td>\n",
              "      <td>0.434728</td>\n",
              "      <td>-0.013021</td>\n",
              "      <td>-0.046721</td>\n",
              "      <td>0.125616</td>\n",
              "      <td>-0.305049</td>\n",
              "      <td>0.180414</td>\n",
              "      <td>-0.217574</td>\n",
              "      <td>-0.372715</td>\n",
              "      <td>0.291781</td>\n",
              "      <td>0.129067</td>\n",
              "      <td>-0.069380</td>\n",
              "      <td>-0.250716</td>\n",
              "      <td>-0.004227</td>\n",
              "      <td>-0.197445</td>\n",
              "      <td>-0.207834</td>\n",
              "      <td>0.576502</td>\n",
              "      <td>0.005391</td>\n",
              "      <td>0.164855</td>\n",
              "      <td>0.012278</td>\n",
              "      <td>-0.166516</td>\n",
              "      <td>-0.106400</td>\n",
              "      <td>-0.249389</td>\n",
              "      <td>-0.024687</td>\n",
              "      <td>0.136975</td>\n",
              "      <td>...</td>\n",
              "      <td>0.050219</td>\n",
              "      <td>0.108293</td>\n",
              "      <td>0.218667</td>\n",
              "      <td>0.118776</td>\n",
              "      <td>-0.205432</td>\n",
              "      <td>0.537357</td>\n",
              "      <td>-0.420499</td>\n",
              "      <td>-0.514477</td>\n",
              "      <td>0.060096</td>\n",
              "      <td>0.086310</td>\n",
              "      <td>-0.299833</td>\n",
              "      <td>0.220348</td>\n",
              "      <td>0.399499</td>\n",
              "      <td>0.066306</td>\n",
              "      <td>-0.073072</td>\n",
              "      <td>0.153747</td>\n",
              "      <td>0.317960</td>\n",
              "      <td>-0.293065</td>\n",
              "      <td>0.073419</td>\n",
              "      <td>0.268421</td>\n",
              "      <td>-0.029087</td>\n",
              "      <td>0.189081</td>\n",
              "      <td>-0.441084</td>\n",
              "      <td>-0.247209</td>\n",
              "      <td>-0.413531</td>\n",
              "      <td>0.792749</td>\n",
              "      <td>-0.000268</td>\n",
              "      <td>-0.071872</td>\n",
              "      <td>0.156083</td>\n",
              "      <td>-0.239632</td>\n",
              "      <td>-0.378228</td>\n",
              "      <td>-0.202857</td>\n",
              "      <td>-0.117068</td>\n",
              "      <td>-0.119678</td>\n",
              "      <td>0.033200</td>\n",
              "      <td>-0.099651</td>\n",
              "      <td>-0.017923</td>\n",
              "      <td>0.356032</td>\n",
              "      <td>0.241625</td>\n",
              "      <td>0.197644</td>\n",
              "    </tr>\n",
              "    <tr>\n",
              "      <th>3</th>\n",
              "      <td>-0.324117</td>\n",
              "      <td>0.115012</td>\n",
              "      <td>0.019946</td>\n",
              "      <td>-0.150412</td>\n",
              "      <td>-0.049389</td>\n",
              "      <td>0.268504</td>\n",
              "      <td>0.222414</td>\n",
              "      <td>-0.149954</td>\n",
              "      <td>-0.165459</td>\n",
              "      <td>-0.093584</td>\n",
              "      <td>0.046715</td>\n",
              "      <td>0.136237</td>\n",
              "      <td>0.115381</td>\n",
              "      <td>-0.583801</td>\n",
              "      <td>-0.094272</td>\n",
              "      <td>-0.219253</td>\n",
              "      <td>0.544629</td>\n",
              "      <td>-0.114713</td>\n",
              "      <td>-0.076043</td>\n",
              "      <td>0.241118</td>\n",
              "      <td>-0.313036</td>\n",
              "      <td>0.218914</td>\n",
              "      <td>-0.232704</td>\n",
              "      <td>-0.481869</td>\n",
              "      <td>0.483183</td>\n",
              "      <td>0.201171</td>\n",
              "      <td>-0.082265</td>\n",
              "      <td>-0.238114</td>\n",
              "      <td>0.002594</td>\n",
              "      <td>-0.272788</td>\n",
              "      <td>-0.328918</td>\n",
              "      <td>0.623288</td>\n",
              "      <td>0.046603</td>\n",
              "      <td>0.272011</td>\n",
              "      <td>0.139636</td>\n",
              "      <td>-0.173506</td>\n",
              "      <td>0.067061</td>\n",
              "      <td>-0.364874</td>\n",
              "      <td>-0.004530</td>\n",
              "      <td>0.134102</td>\n",
              "      <td>...</td>\n",
              "      <td>0.005678</td>\n",
              "      <td>0.248655</td>\n",
              "      <td>0.278346</td>\n",
              "      <td>0.161195</td>\n",
              "      <td>-0.068863</td>\n",
              "      <td>0.680081</td>\n",
              "      <td>-0.438983</td>\n",
              "      <td>-0.547983</td>\n",
              "      <td>0.100714</td>\n",
              "      <td>-0.056147</td>\n",
              "      <td>-0.479635</td>\n",
              "      <td>0.055935</td>\n",
              "      <td>0.421876</td>\n",
              "      <td>0.075713</td>\n",
              "      <td>-0.159560</td>\n",
              "      <td>0.098675</td>\n",
              "      <td>0.371467</td>\n",
              "      <td>-0.365173</td>\n",
              "      <td>0.020265</td>\n",
              "      <td>0.429327</td>\n",
              "      <td>-0.026599</td>\n",
              "      <td>0.301656</td>\n",
              "      <td>-0.374157</td>\n",
              "      <td>-0.232523</td>\n",
              "      <td>-0.473602</td>\n",
              "      <td>0.907988</td>\n",
              "      <td>-0.095524</td>\n",
              "      <td>-0.111859</td>\n",
              "      <td>0.159903</td>\n",
              "      <td>-0.184717</td>\n",
              "      <td>-0.349800</td>\n",
              "      <td>-0.121645</td>\n",
              "      <td>-0.027639</td>\n",
              "      <td>-0.115557</td>\n",
              "      <td>0.162484</td>\n",
              "      <td>-0.209425</td>\n",
              "      <td>-0.047856</td>\n",
              "      <td>0.472174</td>\n",
              "      <td>0.395291</td>\n",
              "      <td>0.196674</td>\n",
              "    </tr>\n",
              "    <tr>\n",
              "      <th>4</th>\n",
              "      <td>-0.242663</td>\n",
              "      <td>0.098482</td>\n",
              "      <td>0.068642</td>\n",
              "      <td>-0.269584</td>\n",
              "      <td>-0.013307</td>\n",
              "      <td>0.297458</td>\n",
              "      <td>0.183607</td>\n",
              "      <td>-0.293993</td>\n",
              "      <td>-0.196609</td>\n",
              "      <td>-0.245183</td>\n",
              "      <td>0.002291</td>\n",
              "      <td>0.241541</td>\n",
              "      <td>0.004168</td>\n",
              "      <td>-0.514162</td>\n",
              "      <td>-0.162805</td>\n",
              "      <td>-0.174040</td>\n",
              "      <td>0.663165</td>\n",
              "      <td>0.204053</td>\n",
              "      <td>-0.220049</td>\n",
              "      <td>0.242810</td>\n",
              "      <td>-0.309331</td>\n",
              "      <td>0.070714</td>\n",
              "      <td>0.021922</td>\n",
              "      <td>-0.467997</td>\n",
              "      <td>0.269366</td>\n",
              "      <td>0.112983</td>\n",
              "      <td>-0.139505</td>\n",
              "      <td>-0.160291</td>\n",
              "      <td>-0.083689</td>\n",
              "      <td>-0.285173</td>\n",
              "      <td>-0.234158</td>\n",
              "      <td>0.566433</td>\n",
              "      <td>0.188728</td>\n",
              "      <td>0.331998</td>\n",
              "      <td>0.220658</td>\n",
              "      <td>-0.325672</td>\n",
              "      <td>-0.055869</td>\n",
              "      <td>-0.277965</td>\n",
              "      <td>-0.124234</td>\n",
              "      <td>0.282456</td>\n",
              "      <td>...</td>\n",
              "      <td>0.124292</td>\n",
              "      <td>0.059141</td>\n",
              "      <td>0.138342</td>\n",
              "      <td>0.338627</td>\n",
              "      <td>-0.030693</td>\n",
              "      <td>0.459822</td>\n",
              "      <td>-0.531052</td>\n",
              "      <td>-0.465012</td>\n",
              "      <td>0.208307</td>\n",
              "      <td>-0.020640</td>\n",
              "      <td>-0.574299</td>\n",
              "      <td>0.040597</td>\n",
              "      <td>0.436507</td>\n",
              "      <td>0.114964</td>\n",
              "      <td>-0.061627</td>\n",
              "      <td>-0.022137</td>\n",
              "      <td>0.365728</td>\n",
              "      <td>-0.491873</td>\n",
              "      <td>-0.062021</td>\n",
              "      <td>0.398993</td>\n",
              "      <td>-0.087192</td>\n",
              "      <td>0.116507</td>\n",
              "      <td>-0.204450</td>\n",
              "      <td>-0.022021</td>\n",
              "      <td>-0.529453</td>\n",
              "      <td>0.784060</td>\n",
              "      <td>-0.050270</td>\n",
              "      <td>-0.048470</td>\n",
              "      <td>0.218966</td>\n",
              "      <td>-0.099925</td>\n",
              "      <td>-0.204267</td>\n",
              "      <td>-0.085318</td>\n",
              "      <td>-0.249929</td>\n",
              "      <td>-0.237383</td>\n",
              "      <td>0.117738</td>\n",
              "      <td>-0.188675</td>\n",
              "      <td>-0.176250</td>\n",
              "      <td>0.393003</td>\n",
              "      <td>0.332767</td>\n",
              "      <td>0.023356</td>\n",
              "    </tr>\n",
              "  </tbody>\n",
              "</table>\n",
              "<p>5 rows × 200 columns</p>\n",
              "</div>"
            ],
            "text/plain": [
              "          0         1         2  ...       197       198       199\n",
              "0 -0.234910  0.115181  0.038271  ...  0.400905  0.271203  0.133660\n",
              "1 -0.209976  0.126823 -0.059452  ...  0.329153  0.309146  0.160284\n",
              "2 -0.228003  0.101227  0.133811  ...  0.356032  0.241625  0.197644\n",
              "3 -0.324117  0.115012  0.019946  ...  0.472174  0.395291  0.196674\n",
              "4 -0.242663  0.098482  0.068642  ...  0.393003  0.332767  0.023356\n",
              "\n",
              "[5 rows x 200 columns]"
            ]
          },
          "metadata": {
            "tags": []
          },
          "execution_count": 233
        }
      ]
    },
    {
      "cell_type": "code",
      "metadata": {
        "id": "ct0_XQOcSYgk"
      },
      "source": [
        "#Topic modelling\n",
        "word_corpus = corpora.Dictionary(merge_data[\"lyric_clean\"])"
      ],
      "execution_count": 234,
      "outputs": []
    },
    {
      "cell_type": "code",
      "metadata": {
        "id": "Y9qvpibxSmKG"
      },
      "source": [
        "sorted_word = sorted(word_corpus.items(),key=lambda i:i[0], reverse = False)\n",
        "unique_token = [token for (ID,token) in sorted_word]"
      ],
      "execution_count": 235,
      "outputs": []
    },
    {
      "cell_type": "code",
      "metadata": {
        "id": "AGCnuP8Cg8UV"
      },
      "source": [
        "merge_data[\"vector\"] =[word_corpus.doc2bow(tokens) for tokens in merge_data[\"lyric_clean\"]]"
      ],
      "execution_count": 236,
      "outputs": []
    },
    {
      "cell_type": "code",
      "metadata": {
        "colab": {
          "base_uri": "https://localhost:8080/",
          "height": 204
        },
        "id": "b6aSa0KYhhZZ",
        "outputId": "8f48eff9-79b2-4886-fa39-f30ec07ddf29"
      },
      "source": [
        "merge_data.head()"
      ],
      "execution_count": 237,
      "outputs": [
        {
          "output_type": "execute_result",
          "data": {
            "text/html": [
              "<div>\n",
              "<style scoped>\n",
              "    .dataframe tbody tr th:only-of-type {\n",
              "        vertical-align: middle;\n",
              "    }\n",
              "\n",
              "    .dataframe tbody tr th {\n",
              "        vertical-align: top;\n",
              "    }\n",
              "\n",
              "    .dataframe thead th {\n",
              "        text-align: right;\n",
              "    }\n",
              "</style>\n",
              "<table border=\"1\" class=\"dataframe\">\n",
              "  <thead>\n",
              "    <tr style=\"text-align: right;\">\n",
              "      <th></th>\n",
              "      <th>track_id</th>\n",
              "      <th>lyric</th>\n",
              "      <th>lyric_clean</th>\n",
              "      <th>vector</th>\n",
              "    </tr>\n",
              "  </thead>\n",
              "  <tbody>\n",
              "    <tr>\n",
              "      <th>0</th>\n",
              "      <td>TRAABJS128F9325C99</td>\n",
              "      <td>come one one want way say eye tell still still...</td>\n",
              "      <td>[come, one, one, want, way, say, eye, tell, st...</td>\n",
              "      <td>[(0, 1), (1, 1), (2, 1), (3, 3), (4, 1), (5, 1...</td>\n",
              "    </tr>\n",
              "    <tr>\n",
              "      <th>1</th>\n",
              "      <td>TRAACIE128F428495B</td>\n",
              "      <td>love love like like come one never let let say...</td>\n",
              "      <td>[love, love, like, like, come, one, never, let...</td>\n",
              "      <td>[(1, 1), (14, 1), (19, 2), (33, 1), (34, 1), (...</td>\n",
              "    </tr>\n",
              "    <tr>\n",
              "      <th>2</th>\n",
              "      <td>TRAACPH12903CF5F14</td>\n",
              "      <td>come see eye thing live live everyth word much...</td>\n",
              "      <td>[come, see, eye, thing, live, live, everyth, w...</td>\n",
              "      <td>[(1, 1), (2, 1), (72, 1), (105, 2), (106, 1), ...</td>\n",
              "    </tr>\n",
              "    <tr>\n",
              "      <th>3</th>\n",
              "      <td>TRAADKW128E079503A</td>\n",
              "      <td>know like like like like go go get get get get...</td>\n",
              "      <td>[know, like, like, like, like, go, go, get, ge...</td>\n",
              "      <td>[(11, 3), (17, 1), (19, 2), (21, 1), (27, 2), ...</td>\n",
              "    </tr>\n",
              "    <tr>\n",
              "      <th>4</th>\n",
              "      <td>TRAADQL128F427D281</td>\n",
              "      <td>love know like time go get get get get get get...</td>\n",
              "      <td>[love, know, like, time, go, get, get, get, ge...</td>\n",
              "      <td>[(0, 1), (19, 1), (27, 1), (38, 1), (68, 1), (...</td>\n",
              "    </tr>\n",
              "  </tbody>\n",
              "</table>\n",
              "</div>"
            ],
            "text/plain": [
              "             track_id  ...                                             vector\n",
              "0  TRAABJS128F9325C99  ...  [(0, 1), (1, 1), (2, 1), (3, 3), (4, 1), (5, 1...\n",
              "1  TRAACIE128F428495B  ...  [(1, 1), (14, 1), (19, 2), (33, 1), (34, 1), (...\n",
              "2  TRAACPH12903CF5F14  ...  [(1, 1), (2, 1), (72, 1), (105, 2), (106, 1), ...\n",
              "3  TRAADKW128E079503A  ...  [(11, 3), (17, 1), (19, 2), (21, 1), (27, 2), ...\n",
              "4  TRAADQL128F427D281  ...  [(0, 1), (19, 1), (27, 1), (38, 1), (68, 1), (...\n",
              "\n",
              "[5 rows x 4 columns]"
            ]
          },
          "metadata": {
            "tags": []
          },
          "execution_count": 237
        }
      ]
    },
    {
      "cell_type": "code",
      "metadata": {
        "colab": {
          "base_uri": "https://localhost:8080/"
        },
        "id": "7mwjwjhChrYg",
        "outputId": "4bf887d2-cdb2-4c2a-d8dc-bc7efbe209da"
      },
      "source": [
        "word_matrix = gensim.matutils.corpus2dense(merge_data['vector'], num_terms=len(word_corpus), dtype = 'int')"
      ],
      "execution_count": 238,
      "outputs": [
        {
          "output_type": "stream",
          "text": [
            "/usr/local/lib/python3.7/dist-packages/gensim/matutils.py:502: FutureWarning: arrays to stack must be passed as a \"sequence\" type such as list or tuple. Support for non-sequence iterables such as generators is deprecated as of NumPy 1.16 and will raise an error in the future.\n",
            "  result = np.column_stack(sparse2full(doc, num_terms) for doc in corpus)\n"
          ],
          "name": "stderr"
        }
      ]
    },
    {
      "cell_type": "code",
      "metadata": {
        "id": "38MxhDGGiTQJ"
      },
      "source": [
        "lyrics_merge = pd.concat([merge_data,pd.DataFrame(word_matrix.T)], axis=1)"
      ],
      "execution_count": 239,
      "outputs": []
    },
    {
      "cell_type": "code",
      "metadata": {
        "colab": {
          "base_uri": "https://localhost:8080/",
          "height": 848
        },
        "id": "IQLQ_ZQXjOGw",
        "outputId": "ac510326-5f96-47d0-d692-94cc16c40c6a"
      },
      "source": [
        "lyrics_merge.head()"
      ],
      "execution_count": 240,
      "outputs": [
        {
          "output_type": "execute_result",
          "data": {
            "text/html": [
              "<div>\n",
              "<style scoped>\n",
              "    .dataframe tbody tr th:only-of-type {\n",
              "        vertical-align: middle;\n",
              "    }\n",
              "\n",
              "    .dataframe tbody tr th {\n",
              "        vertical-align: top;\n",
              "    }\n",
              "\n",
              "    .dataframe thead th {\n",
              "        text-align: right;\n",
              "    }\n",
              "</style>\n",
              "<table border=\"1\" class=\"dataframe\">\n",
              "  <thead>\n",
              "    <tr style=\"text-align: right;\">\n",
              "      <th></th>\n",
              "      <th>track_id</th>\n",
              "      <th>lyric</th>\n",
              "      <th>lyric_clean</th>\n",
              "      <th>vector</th>\n",
              "      <th>0</th>\n",
              "      <th>1</th>\n",
              "      <th>2</th>\n",
              "      <th>3</th>\n",
              "      <th>4</th>\n",
              "      <th>5</th>\n",
              "      <th>6</th>\n",
              "      <th>7</th>\n",
              "      <th>8</th>\n",
              "      <th>9</th>\n",
              "      <th>10</th>\n",
              "      <th>11</th>\n",
              "      <th>12</th>\n",
              "      <th>13</th>\n",
              "      <th>14</th>\n",
              "      <th>15</th>\n",
              "      <th>16</th>\n",
              "      <th>17</th>\n",
              "      <th>18</th>\n",
              "      <th>19</th>\n",
              "      <th>20</th>\n",
              "      <th>21</th>\n",
              "      <th>22</th>\n",
              "      <th>23</th>\n",
              "      <th>24</th>\n",
              "      <th>25</th>\n",
              "      <th>26</th>\n",
              "      <th>27</th>\n",
              "      <th>28</th>\n",
              "      <th>29</th>\n",
              "      <th>30</th>\n",
              "      <th>31</th>\n",
              "      <th>32</th>\n",
              "      <th>33</th>\n",
              "      <th>34</th>\n",
              "      <th>35</th>\n",
              "      <th>...</th>\n",
              "      <th>4968</th>\n",
              "      <th>4969</th>\n",
              "      <th>4970</th>\n",
              "      <th>4971</th>\n",
              "      <th>4972</th>\n",
              "      <th>4973</th>\n",
              "      <th>4974</th>\n",
              "      <th>4975</th>\n",
              "      <th>4976</th>\n",
              "      <th>4977</th>\n",
              "      <th>4978</th>\n",
              "      <th>4979</th>\n",
              "      <th>4980</th>\n",
              "      <th>4981</th>\n",
              "      <th>4982</th>\n",
              "      <th>4983</th>\n",
              "      <th>4984</th>\n",
              "      <th>4985</th>\n",
              "      <th>4986</th>\n",
              "      <th>4987</th>\n",
              "      <th>4988</th>\n",
              "      <th>4989</th>\n",
              "      <th>4990</th>\n",
              "      <th>4991</th>\n",
              "      <th>4992</th>\n",
              "      <th>4993</th>\n",
              "      <th>4994</th>\n",
              "      <th>4995</th>\n",
              "      <th>4996</th>\n",
              "      <th>4997</th>\n",
              "      <th>4998</th>\n",
              "      <th>4999</th>\n",
              "      <th>5000</th>\n",
              "      <th>5001</th>\n",
              "      <th>5002</th>\n",
              "      <th>5003</th>\n",
              "      <th>5004</th>\n",
              "      <th>5005</th>\n",
              "      <th>5006</th>\n",
              "      <th>5007</th>\n",
              "    </tr>\n",
              "  </thead>\n",
              "  <tbody>\n",
              "    <tr>\n",
              "      <th>0</th>\n",
              "      <td>TRAABJS128F9325C99</td>\n",
              "      <td>come one one want way say eye tell still still...</td>\n",
              "      <td>[come, one, one, want, way, say, eye, tell, st...</td>\n",
              "      <td>[(0, 1), (1, 1), (2, 1), (3, 3), (4, 1), (5, 1...</td>\n",
              "      <td>1</td>\n",
              "      <td>1</td>\n",
              "      <td>1</td>\n",
              "      <td>3</td>\n",
              "      <td>1</td>\n",
              "      <td>1</td>\n",
              "      <td>2</td>\n",
              "      <td>2</td>\n",
              "      <td>3</td>\n",
              "      <td>1</td>\n",
              "      <td>1</td>\n",
              "      <td>2</td>\n",
              "      <td>2</td>\n",
              "      <td>1</td>\n",
              "      <td>2</td>\n",
              "      <td>2</td>\n",
              "      <td>2</td>\n",
              "      <td>1</td>\n",
              "      <td>2</td>\n",
              "      <td>1</td>\n",
              "      <td>1</td>\n",
              "      <td>2</td>\n",
              "      <td>2</td>\n",
              "      <td>3</td>\n",
              "      <td>1</td>\n",
              "      <td>2</td>\n",
              "      <td>2</td>\n",
              "      <td>1</td>\n",
              "      <td>1</td>\n",
              "      <td>1</td>\n",
              "      <td>4</td>\n",
              "      <td>1</td>\n",
              "      <td>1</td>\n",
              "      <td>0</td>\n",
              "      <td>0</td>\n",
              "      <td>0</td>\n",
              "      <td>...</td>\n",
              "      <td>0</td>\n",
              "      <td>0</td>\n",
              "      <td>0</td>\n",
              "      <td>0</td>\n",
              "      <td>0</td>\n",
              "      <td>0</td>\n",
              "      <td>0</td>\n",
              "      <td>0</td>\n",
              "      <td>0</td>\n",
              "      <td>0</td>\n",
              "      <td>0</td>\n",
              "      <td>0</td>\n",
              "      <td>0</td>\n",
              "      <td>0</td>\n",
              "      <td>0</td>\n",
              "      <td>0</td>\n",
              "      <td>0</td>\n",
              "      <td>0</td>\n",
              "      <td>0</td>\n",
              "      <td>0</td>\n",
              "      <td>0</td>\n",
              "      <td>0</td>\n",
              "      <td>0</td>\n",
              "      <td>0</td>\n",
              "      <td>0</td>\n",
              "      <td>0</td>\n",
              "      <td>0</td>\n",
              "      <td>0</td>\n",
              "      <td>0</td>\n",
              "      <td>0</td>\n",
              "      <td>0</td>\n",
              "      <td>0</td>\n",
              "      <td>0</td>\n",
              "      <td>0</td>\n",
              "      <td>0</td>\n",
              "      <td>0</td>\n",
              "      <td>0</td>\n",
              "      <td>0</td>\n",
              "      <td>0</td>\n",
              "      <td>0</td>\n",
              "    </tr>\n",
              "    <tr>\n",
              "      <th>1</th>\n",
              "      <td>TRAACIE128F428495B</td>\n",
              "      <td>love love like like come one never let let say...</td>\n",
              "      <td>[love, love, like, like, come, one, never, let...</td>\n",
              "      <td>[(1, 1), (14, 1), (19, 2), (33, 1), (34, 1), (...</td>\n",
              "      <td>0</td>\n",
              "      <td>1</td>\n",
              "      <td>0</td>\n",
              "      <td>0</td>\n",
              "      <td>0</td>\n",
              "      <td>0</td>\n",
              "      <td>0</td>\n",
              "      <td>0</td>\n",
              "      <td>0</td>\n",
              "      <td>0</td>\n",
              "      <td>0</td>\n",
              "      <td>0</td>\n",
              "      <td>0</td>\n",
              "      <td>0</td>\n",
              "      <td>1</td>\n",
              "      <td>0</td>\n",
              "      <td>0</td>\n",
              "      <td>0</td>\n",
              "      <td>0</td>\n",
              "      <td>2</td>\n",
              "      <td>0</td>\n",
              "      <td>0</td>\n",
              "      <td>0</td>\n",
              "      <td>0</td>\n",
              "      <td>0</td>\n",
              "      <td>0</td>\n",
              "      <td>0</td>\n",
              "      <td>0</td>\n",
              "      <td>0</td>\n",
              "      <td>0</td>\n",
              "      <td>0</td>\n",
              "      <td>0</td>\n",
              "      <td>0</td>\n",
              "      <td>1</td>\n",
              "      <td>1</td>\n",
              "      <td>1</td>\n",
              "      <td>...</td>\n",
              "      <td>0</td>\n",
              "      <td>0</td>\n",
              "      <td>0</td>\n",
              "      <td>0</td>\n",
              "      <td>0</td>\n",
              "      <td>0</td>\n",
              "      <td>0</td>\n",
              "      <td>0</td>\n",
              "      <td>0</td>\n",
              "      <td>0</td>\n",
              "      <td>0</td>\n",
              "      <td>0</td>\n",
              "      <td>0</td>\n",
              "      <td>0</td>\n",
              "      <td>0</td>\n",
              "      <td>0</td>\n",
              "      <td>0</td>\n",
              "      <td>0</td>\n",
              "      <td>0</td>\n",
              "      <td>0</td>\n",
              "      <td>0</td>\n",
              "      <td>0</td>\n",
              "      <td>0</td>\n",
              "      <td>0</td>\n",
              "      <td>0</td>\n",
              "      <td>0</td>\n",
              "      <td>0</td>\n",
              "      <td>0</td>\n",
              "      <td>0</td>\n",
              "      <td>0</td>\n",
              "      <td>0</td>\n",
              "      <td>0</td>\n",
              "      <td>0</td>\n",
              "      <td>0</td>\n",
              "      <td>0</td>\n",
              "      <td>0</td>\n",
              "      <td>0</td>\n",
              "      <td>0</td>\n",
              "      <td>0</td>\n",
              "      <td>0</td>\n",
              "    </tr>\n",
              "    <tr>\n",
              "      <th>2</th>\n",
              "      <td>TRAACPH12903CF5F14</td>\n",
              "      <td>come see eye thing live live everyth word much...</td>\n",
              "      <td>[come, see, eye, thing, live, live, everyth, w...</td>\n",
              "      <td>[(1, 1), (2, 1), (72, 1), (105, 2), (106, 1), ...</td>\n",
              "      <td>0</td>\n",
              "      <td>1</td>\n",
              "      <td>1</td>\n",
              "      <td>0</td>\n",
              "      <td>0</td>\n",
              "      <td>0</td>\n",
              "      <td>0</td>\n",
              "      <td>0</td>\n",
              "      <td>0</td>\n",
              "      <td>0</td>\n",
              "      <td>0</td>\n",
              "      <td>0</td>\n",
              "      <td>0</td>\n",
              "      <td>0</td>\n",
              "      <td>0</td>\n",
              "      <td>0</td>\n",
              "      <td>0</td>\n",
              "      <td>0</td>\n",
              "      <td>0</td>\n",
              "      <td>0</td>\n",
              "      <td>0</td>\n",
              "      <td>0</td>\n",
              "      <td>0</td>\n",
              "      <td>0</td>\n",
              "      <td>0</td>\n",
              "      <td>0</td>\n",
              "      <td>0</td>\n",
              "      <td>0</td>\n",
              "      <td>0</td>\n",
              "      <td>0</td>\n",
              "      <td>0</td>\n",
              "      <td>0</td>\n",
              "      <td>0</td>\n",
              "      <td>0</td>\n",
              "      <td>0</td>\n",
              "      <td>0</td>\n",
              "      <td>...</td>\n",
              "      <td>0</td>\n",
              "      <td>0</td>\n",
              "      <td>0</td>\n",
              "      <td>0</td>\n",
              "      <td>0</td>\n",
              "      <td>0</td>\n",
              "      <td>0</td>\n",
              "      <td>0</td>\n",
              "      <td>0</td>\n",
              "      <td>0</td>\n",
              "      <td>0</td>\n",
              "      <td>0</td>\n",
              "      <td>0</td>\n",
              "      <td>0</td>\n",
              "      <td>0</td>\n",
              "      <td>0</td>\n",
              "      <td>0</td>\n",
              "      <td>0</td>\n",
              "      <td>0</td>\n",
              "      <td>0</td>\n",
              "      <td>0</td>\n",
              "      <td>0</td>\n",
              "      <td>0</td>\n",
              "      <td>0</td>\n",
              "      <td>0</td>\n",
              "      <td>0</td>\n",
              "      <td>0</td>\n",
              "      <td>0</td>\n",
              "      <td>0</td>\n",
              "      <td>0</td>\n",
              "      <td>0</td>\n",
              "      <td>0</td>\n",
              "      <td>0</td>\n",
              "      <td>0</td>\n",
              "      <td>0</td>\n",
              "      <td>0</td>\n",
              "      <td>0</td>\n",
              "      <td>0</td>\n",
              "      <td>0</td>\n",
              "      <td>0</td>\n",
              "    </tr>\n",
              "    <tr>\n",
              "      <th>3</th>\n",
              "      <td>TRAADKW128E079503A</td>\n",
              "      <td>know like like like like go go get get get get...</td>\n",
              "      <td>[know, like, like, like, like, go, go, get, ge...</td>\n",
              "      <td>[(11, 3), (17, 1), (19, 2), (21, 1), (27, 2), ...</td>\n",
              "      <td>0</td>\n",
              "      <td>0</td>\n",
              "      <td>0</td>\n",
              "      <td>0</td>\n",
              "      <td>0</td>\n",
              "      <td>0</td>\n",
              "      <td>0</td>\n",
              "      <td>0</td>\n",
              "      <td>0</td>\n",
              "      <td>0</td>\n",
              "      <td>0</td>\n",
              "      <td>3</td>\n",
              "      <td>0</td>\n",
              "      <td>0</td>\n",
              "      <td>0</td>\n",
              "      <td>0</td>\n",
              "      <td>0</td>\n",
              "      <td>1</td>\n",
              "      <td>0</td>\n",
              "      <td>2</td>\n",
              "      <td>0</td>\n",
              "      <td>1</td>\n",
              "      <td>0</td>\n",
              "      <td>0</td>\n",
              "      <td>0</td>\n",
              "      <td>0</td>\n",
              "      <td>0</td>\n",
              "      <td>2</td>\n",
              "      <td>0</td>\n",
              "      <td>3</td>\n",
              "      <td>0</td>\n",
              "      <td>0</td>\n",
              "      <td>0</td>\n",
              "      <td>0</td>\n",
              "      <td>0</td>\n",
              "      <td>1</td>\n",
              "      <td>...</td>\n",
              "      <td>0</td>\n",
              "      <td>0</td>\n",
              "      <td>0</td>\n",
              "      <td>0</td>\n",
              "      <td>0</td>\n",
              "      <td>0</td>\n",
              "      <td>0</td>\n",
              "      <td>0</td>\n",
              "      <td>0</td>\n",
              "      <td>0</td>\n",
              "      <td>0</td>\n",
              "      <td>0</td>\n",
              "      <td>0</td>\n",
              "      <td>0</td>\n",
              "      <td>0</td>\n",
              "      <td>0</td>\n",
              "      <td>0</td>\n",
              "      <td>0</td>\n",
              "      <td>0</td>\n",
              "      <td>0</td>\n",
              "      <td>0</td>\n",
              "      <td>0</td>\n",
              "      <td>0</td>\n",
              "      <td>0</td>\n",
              "      <td>0</td>\n",
              "      <td>0</td>\n",
              "      <td>0</td>\n",
              "      <td>0</td>\n",
              "      <td>0</td>\n",
              "      <td>0</td>\n",
              "      <td>0</td>\n",
              "      <td>0</td>\n",
              "      <td>0</td>\n",
              "      <td>0</td>\n",
              "      <td>0</td>\n",
              "      <td>0</td>\n",
              "      <td>0</td>\n",
              "      <td>0</td>\n",
              "      <td>0</td>\n",
              "      <td>0</td>\n",
              "    </tr>\n",
              "    <tr>\n",
              "      <th>4</th>\n",
              "      <td>TRAADQL128F427D281</td>\n",
              "      <td>love know like time go get get get get get get...</td>\n",
              "      <td>[love, know, like, time, go, get, get, get, ge...</td>\n",
              "      <td>[(0, 1), (19, 1), (27, 1), (38, 1), (68, 1), (...</td>\n",
              "      <td>1</td>\n",
              "      <td>0</td>\n",
              "      <td>0</td>\n",
              "      <td>0</td>\n",
              "      <td>0</td>\n",
              "      <td>0</td>\n",
              "      <td>0</td>\n",
              "      <td>0</td>\n",
              "      <td>0</td>\n",
              "      <td>0</td>\n",
              "      <td>0</td>\n",
              "      <td>0</td>\n",
              "      <td>0</td>\n",
              "      <td>0</td>\n",
              "      <td>0</td>\n",
              "      <td>0</td>\n",
              "      <td>0</td>\n",
              "      <td>0</td>\n",
              "      <td>0</td>\n",
              "      <td>1</td>\n",
              "      <td>0</td>\n",
              "      <td>0</td>\n",
              "      <td>0</td>\n",
              "      <td>0</td>\n",
              "      <td>0</td>\n",
              "      <td>0</td>\n",
              "      <td>0</td>\n",
              "      <td>1</td>\n",
              "      <td>0</td>\n",
              "      <td>0</td>\n",
              "      <td>0</td>\n",
              "      <td>0</td>\n",
              "      <td>0</td>\n",
              "      <td>0</td>\n",
              "      <td>0</td>\n",
              "      <td>0</td>\n",
              "      <td>...</td>\n",
              "      <td>0</td>\n",
              "      <td>0</td>\n",
              "      <td>0</td>\n",
              "      <td>0</td>\n",
              "      <td>0</td>\n",
              "      <td>0</td>\n",
              "      <td>0</td>\n",
              "      <td>0</td>\n",
              "      <td>0</td>\n",
              "      <td>0</td>\n",
              "      <td>0</td>\n",
              "      <td>0</td>\n",
              "      <td>0</td>\n",
              "      <td>0</td>\n",
              "      <td>0</td>\n",
              "      <td>0</td>\n",
              "      <td>0</td>\n",
              "      <td>0</td>\n",
              "      <td>0</td>\n",
              "      <td>0</td>\n",
              "      <td>0</td>\n",
              "      <td>0</td>\n",
              "      <td>0</td>\n",
              "      <td>0</td>\n",
              "      <td>0</td>\n",
              "      <td>0</td>\n",
              "      <td>0</td>\n",
              "      <td>0</td>\n",
              "      <td>0</td>\n",
              "      <td>0</td>\n",
              "      <td>0</td>\n",
              "      <td>0</td>\n",
              "      <td>0</td>\n",
              "      <td>0</td>\n",
              "      <td>0</td>\n",
              "      <td>0</td>\n",
              "      <td>0</td>\n",
              "      <td>0</td>\n",
              "      <td>0</td>\n",
              "      <td>0</td>\n",
              "    </tr>\n",
              "  </tbody>\n",
              "</table>\n",
              "<p>5 rows × 5012 columns</p>\n",
              "</div>"
            ],
            "text/plain": [
              "             track_id  ... 5007\n",
              "0  TRAABJS128F9325C99  ...    0\n",
              "1  TRAACIE128F428495B  ...    0\n",
              "2  TRAACPH12903CF5F14  ...    0\n",
              "3  TRAADKW128E079503A  ...    0\n",
              "4  TRAADQL128F427D281  ...    0\n",
              "\n",
              "[5 rows x 5012 columns]"
            ]
          },
          "metadata": {
            "tags": []
          },
          "execution_count": 240
        }
      ]
    },
    {
      "cell_type": "code",
      "metadata": {
        "colab": {
          "base_uri": "https://localhost:8080/"
        },
        "id": "ko1cuQV5jRgZ",
        "outputId": "6fff3423-fdb0-4a06-943d-96dffc41bc4a"
      },
      "source": [
        "lda_model = models.LdaModel(lyrics_merge[\"vector\"], id2word=word_corpus, num_topics=100) "
      ],
      "execution_count": 241,
      "outputs": [
        {
          "output_type": "stream",
          "text": [
            "WARNING:gensim.models.ldamodel:too few updates, training might not converge; consider increasing the number of passes or iterations to improve accuracy\n",
            "/usr/local/lib/python3.7/dist-packages/gensim/models/ldamodel.py:1023: RuntimeWarning: divide by zero encountered in log\n",
            "  diff = np.log(self.expElogbeta)\n"
          ],
          "name": "stderr"
        }
      ]
    },
    {
      "cell_type": "code",
      "metadata": {
        "colab": {
          "base_uri": "https://localhost:8080/"
        },
        "id": "Zwc_Yxa9js1G",
        "outputId": "5e68bccf-0291-417b-e831-eac325e9ed6c"
      },
      "source": [
        "corpus_lda = lda_model[lyrics_merge['vector']]\n",
        "U_matrix = gensim.matutils.corpus2dense(corpus_lda,num_terms=100).T\n",
        "lyrics_merge = pd.concat([lyrics_merge,pd.DataFrame(U_matrix)], axis=1)\n"
      ],
      "execution_count": 242,
      "outputs": [
        {
          "output_type": "stream",
          "text": [
            "/usr/local/lib/python3.7/dist-packages/gensim/matutils.py:502: FutureWarning: arrays to stack must be passed as a \"sequence\" type such as list or tuple. Support for non-sequence iterables such as generators is deprecated as of NumPy 1.16 and will raise an error in the future.\n",
            "  result = np.column_stack(sparse2full(doc, num_terms) for doc in corpus)\n"
          ],
          "name": "stderr"
        }
      ]
    },
    {
      "cell_type": "code",
      "metadata": {
        "colab": {
          "base_uri": "https://localhost:8080/",
          "height": 848
        },
        "id": "zFYBEhC0mS4_",
        "outputId": "7df7a4cf-0d3a-48d6-bb38-d36d6ac0b5f4"
      },
      "source": [
        "lyrics_merge.head()"
      ],
      "execution_count": 325,
      "outputs": [
        {
          "output_type": "execute_result",
          "data": {
            "text/html": [
              "<div>\n",
              "<style scoped>\n",
              "    .dataframe tbody tr th:only-of-type {\n",
              "        vertical-align: middle;\n",
              "    }\n",
              "\n",
              "    .dataframe tbody tr th {\n",
              "        vertical-align: top;\n",
              "    }\n",
              "\n",
              "    .dataframe thead th {\n",
              "        text-align: right;\n",
              "    }\n",
              "</style>\n",
              "<table border=\"1\" class=\"dataframe\">\n",
              "  <thead>\n",
              "    <tr style=\"text-align: right;\">\n",
              "      <th></th>\n",
              "      <th>track_id</th>\n",
              "      <th>lyric</th>\n",
              "      <th>lyric_clean</th>\n",
              "      <th>vector</th>\n",
              "      <th>0</th>\n",
              "      <th>1</th>\n",
              "      <th>2</th>\n",
              "      <th>3</th>\n",
              "      <th>4</th>\n",
              "      <th>5</th>\n",
              "      <th>6</th>\n",
              "      <th>7</th>\n",
              "      <th>8</th>\n",
              "      <th>9</th>\n",
              "      <th>10</th>\n",
              "      <th>11</th>\n",
              "      <th>12</th>\n",
              "      <th>13</th>\n",
              "      <th>14</th>\n",
              "      <th>15</th>\n",
              "      <th>16</th>\n",
              "      <th>17</th>\n",
              "      <th>18</th>\n",
              "      <th>19</th>\n",
              "      <th>20</th>\n",
              "      <th>21</th>\n",
              "      <th>22</th>\n",
              "      <th>23</th>\n",
              "      <th>24</th>\n",
              "      <th>25</th>\n",
              "      <th>26</th>\n",
              "      <th>27</th>\n",
              "      <th>28</th>\n",
              "      <th>29</th>\n",
              "      <th>30</th>\n",
              "      <th>31</th>\n",
              "      <th>32</th>\n",
              "      <th>33</th>\n",
              "      <th>34</th>\n",
              "      <th>35</th>\n",
              "      <th>...</th>\n",
              "      <th>60</th>\n",
              "      <th>61</th>\n",
              "      <th>62</th>\n",
              "      <th>63</th>\n",
              "      <th>64</th>\n",
              "      <th>65</th>\n",
              "      <th>66</th>\n",
              "      <th>67</th>\n",
              "      <th>68</th>\n",
              "      <th>69</th>\n",
              "      <th>70</th>\n",
              "      <th>71</th>\n",
              "      <th>72</th>\n",
              "      <th>73</th>\n",
              "      <th>74</th>\n",
              "      <th>75</th>\n",
              "      <th>76</th>\n",
              "      <th>77</th>\n",
              "      <th>78</th>\n",
              "      <th>79</th>\n",
              "      <th>80</th>\n",
              "      <th>81</th>\n",
              "      <th>82</th>\n",
              "      <th>83</th>\n",
              "      <th>84</th>\n",
              "      <th>85</th>\n",
              "      <th>86</th>\n",
              "      <th>87</th>\n",
              "      <th>88</th>\n",
              "      <th>89</th>\n",
              "      <th>90</th>\n",
              "      <th>91</th>\n",
              "      <th>92</th>\n",
              "      <th>93</th>\n",
              "      <th>94</th>\n",
              "      <th>95</th>\n",
              "      <th>96</th>\n",
              "      <th>97</th>\n",
              "      <th>98</th>\n",
              "      <th>99</th>\n",
              "    </tr>\n",
              "  </thead>\n",
              "  <tbody>\n",
              "    <tr>\n",
              "      <th>0</th>\n",
              "      <td>TRAABJS128F9325C99</td>\n",
              "      <td>come one one want way say eye tell still still...</td>\n",
              "      <td>[come, one, one, want, way, say, eye, tell, st...</td>\n",
              "      <td>[(0, 1), (1, 1), (2, 1), (3, 3), (4, 1), (5, 1...</td>\n",
              "      <td>1</td>\n",
              "      <td>1</td>\n",
              "      <td>1</td>\n",
              "      <td>3</td>\n",
              "      <td>1</td>\n",
              "      <td>1</td>\n",
              "      <td>2</td>\n",
              "      <td>2</td>\n",
              "      <td>3</td>\n",
              "      <td>1</td>\n",
              "      <td>1</td>\n",
              "      <td>2</td>\n",
              "      <td>2</td>\n",
              "      <td>1</td>\n",
              "      <td>2</td>\n",
              "      <td>2</td>\n",
              "      <td>2</td>\n",
              "      <td>1</td>\n",
              "      <td>2</td>\n",
              "      <td>1</td>\n",
              "      <td>1</td>\n",
              "      <td>2</td>\n",
              "      <td>2</td>\n",
              "      <td>3</td>\n",
              "      <td>1</td>\n",
              "      <td>2</td>\n",
              "      <td>2</td>\n",
              "      <td>1</td>\n",
              "      <td>1</td>\n",
              "      <td>1</td>\n",
              "      <td>4</td>\n",
              "      <td>1</td>\n",
              "      <td>1</td>\n",
              "      <td>0</td>\n",
              "      <td>0</td>\n",
              "      <td>0</td>\n",
              "      <td>...</td>\n",
              "      <td>0.0</td>\n",
              "      <td>0.000000</td>\n",
              "      <td>0.095924</td>\n",
              "      <td>0.0</td>\n",
              "      <td>0.0</td>\n",
              "      <td>0.0</td>\n",
              "      <td>0.084339</td>\n",
              "      <td>0.0</td>\n",
              "      <td>0.0</td>\n",
              "      <td>0.0</td>\n",
              "      <td>0.0</td>\n",
              "      <td>0.0</td>\n",
              "      <td>0.000000</td>\n",
              "      <td>0.000000</td>\n",
              "      <td>0.0</td>\n",
              "      <td>0.0</td>\n",
              "      <td>0.000000</td>\n",
              "      <td>0.0</td>\n",
              "      <td>0.0</td>\n",
              "      <td>0.0</td>\n",
              "      <td>0.0</td>\n",
              "      <td>0.186159</td>\n",
              "      <td>0.0</td>\n",
              "      <td>0.0</td>\n",
              "      <td>0.0</td>\n",
              "      <td>0.0</td>\n",
              "      <td>0.000000</td>\n",
              "      <td>0.0</td>\n",
              "      <td>0.000000</td>\n",
              "      <td>0.0</td>\n",
              "      <td>0.0</td>\n",
              "      <td>0.0</td>\n",
              "      <td>0.0</td>\n",
              "      <td>0.0</td>\n",
              "      <td>0.00000</td>\n",
              "      <td>0.0</td>\n",
              "      <td>0.0</td>\n",
              "      <td>0.0</td>\n",
              "      <td>0.0</td>\n",
              "      <td>0.0</td>\n",
              "    </tr>\n",
              "    <tr>\n",
              "      <th>1</th>\n",
              "      <td>TRAACIE128F428495B</td>\n",
              "      <td>love love like like come one never let let say...</td>\n",
              "      <td>[love, love, like, like, come, one, never, let...</td>\n",
              "      <td>[(1, 1), (14, 1), (19, 2), (33, 1), (34, 1), (...</td>\n",
              "      <td>0</td>\n",
              "      <td>1</td>\n",
              "      <td>0</td>\n",
              "      <td>0</td>\n",
              "      <td>0</td>\n",
              "      <td>0</td>\n",
              "      <td>0</td>\n",
              "      <td>0</td>\n",
              "      <td>0</td>\n",
              "      <td>0</td>\n",
              "      <td>0</td>\n",
              "      <td>0</td>\n",
              "      <td>0</td>\n",
              "      <td>0</td>\n",
              "      <td>1</td>\n",
              "      <td>0</td>\n",
              "      <td>0</td>\n",
              "      <td>0</td>\n",
              "      <td>0</td>\n",
              "      <td>2</td>\n",
              "      <td>0</td>\n",
              "      <td>0</td>\n",
              "      <td>0</td>\n",
              "      <td>0</td>\n",
              "      <td>0</td>\n",
              "      <td>0</td>\n",
              "      <td>0</td>\n",
              "      <td>0</td>\n",
              "      <td>0</td>\n",
              "      <td>0</td>\n",
              "      <td>0</td>\n",
              "      <td>0</td>\n",
              "      <td>0</td>\n",
              "      <td>1</td>\n",
              "      <td>1</td>\n",
              "      <td>1</td>\n",
              "      <td>...</td>\n",
              "      <td>0.0</td>\n",
              "      <td>0.072295</td>\n",
              "      <td>0.000000</td>\n",
              "      <td>0.0</td>\n",
              "      <td>0.0</td>\n",
              "      <td>0.0</td>\n",
              "      <td>0.104041</td>\n",
              "      <td>0.0</td>\n",
              "      <td>0.0</td>\n",
              "      <td>0.0</td>\n",
              "      <td>0.0</td>\n",
              "      <td>0.0</td>\n",
              "      <td>0.027482</td>\n",
              "      <td>0.036403</td>\n",
              "      <td>0.0</td>\n",
              "      <td>0.0</td>\n",
              "      <td>0.017162</td>\n",
              "      <td>0.0</td>\n",
              "      <td>0.0</td>\n",
              "      <td>0.0</td>\n",
              "      <td>0.0</td>\n",
              "      <td>0.000000</td>\n",
              "      <td>0.0</td>\n",
              "      <td>0.0</td>\n",
              "      <td>0.0</td>\n",
              "      <td>0.0</td>\n",
              "      <td>0.058806</td>\n",
              "      <td>0.0</td>\n",
              "      <td>0.000000</td>\n",
              "      <td>0.0</td>\n",
              "      <td>0.0</td>\n",
              "      <td>0.0</td>\n",
              "      <td>0.0</td>\n",
              "      <td>0.0</td>\n",
              "      <td>0.03485</td>\n",
              "      <td>0.0</td>\n",
              "      <td>0.0</td>\n",
              "      <td>0.0</td>\n",
              "      <td>0.0</td>\n",
              "      <td>0.0</td>\n",
              "    </tr>\n",
              "    <tr>\n",
              "      <th>2</th>\n",
              "      <td>TRAACPH12903CF5F14</td>\n",
              "      <td>come see eye thing live live everyth word much...</td>\n",
              "      <td>[come, see, eye, thing, live, live, everyth, w...</td>\n",
              "      <td>[(1, 1), (2, 1), (72, 1), (105, 2), (106, 1), ...</td>\n",
              "      <td>0</td>\n",
              "      <td>1</td>\n",
              "      <td>1</td>\n",
              "      <td>0</td>\n",
              "      <td>0</td>\n",
              "      <td>0</td>\n",
              "      <td>0</td>\n",
              "      <td>0</td>\n",
              "      <td>0</td>\n",
              "      <td>0</td>\n",
              "      <td>0</td>\n",
              "      <td>0</td>\n",
              "      <td>0</td>\n",
              "      <td>0</td>\n",
              "      <td>0</td>\n",
              "      <td>0</td>\n",
              "      <td>0</td>\n",
              "      <td>0</td>\n",
              "      <td>0</td>\n",
              "      <td>0</td>\n",
              "      <td>0</td>\n",
              "      <td>0</td>\n",
              "      <td>0</td>\n",
              "      <td>0</td>\n",
              "      <td>0</td>\n",
              "      <td>0</td>\n",
              "      <td>0</td>\n",
              "      <td>0</td>\n",
              "      <td>0</td>\n",
              "      <td>0</td>\n",
              "      <td>0</td>\n",
              "      <td>0</td>\n",
              "      <td>0</td>\n",
              "      <td>0</td>\n",
              "      <td>0</td>\n",
              "      <td>0</td>\n",
              "      <td>...</td>\n",
              "      <td>0.0</td>\n",
              "      <td>0.000000</td>\n",
              "      <td>0.000000</td>\n",
              "      <td>0.0</td>\n",
              "      <td>0.0</td>\n",
              "      <td>0.0</td>\n",
              "      <td>0.000000</td>\n",
              "      <td>0.0</td>\n",
              "      <td>0.0</td>\n",
              "      <td>0.0</td>\n",
              "      <td>0.0</td>\n",
              "      <td>0.0</td>\n",
              "      <td>0.000000</td>\n",
              "      <td>0.000000</td>\n",
              "      <td>0.0</td>\n",
              "      <td>0.0</td>\n",
              "      <td>0.000000</td>\n",
              "      <td>0.0</td>\n",
              "      <td>0.0</td>\n",
              "      <td>0.0</td>\n",
              "      <td>0.0</td>\n",
              "      <td>0.000000</td>\n",
              "      <td>0.0</td>\n",
              "      <td>0.0</td>\n",
              "      <td>0.0</td>\n",
              "      <td>0.0</td>\n",
              "      <td>0.000000</td>\n",
              "      <td>0.0</td>\n",
              "      <td>0.000000</td>\n",
              "      <td>0.0</td>\n",
              "      <td>0.0</td>\n",
              "      <td>0.0</td>\n",
              "      <td>0.0</td>\n",
              "      <td>0.0</td>\n",
              "      <td>0.00000</td>\n",
              "      <td>0.0</td>\n",
              "      <td>0.0</td>\n",
              "      <td>0.0</td>\n",
              "      <td>0.0</td>\n",
              "      <td>0.0</td>\n",
              "    </tr>\n",
              "    <tr>\n",
              "      <th>3</th>\n",
              "      <td>TRAADKW128E079503A</td>\n",
              "      <td>know like like like like go go get get get get...</td>\n",
              "      <td>[know, like, like, like, like, go, go, get, ge...</td>\n",
              "      <td>[(11, 3), (17, 1), (19, 2), (21, 1), (27, 2), ...</td>\n",
              "      <td>0</td>\n",
              "      <td>0</td>\n",
              "      <td>0</td>\n",
              "      <td>0</td>\n",
              "      <td>0</td>\n",
              "      <td>0</td>\n",
              "      <td>0</td>\n",
              "      <td>0</td>\n",
              "      <td>0</td>\n",
              "      <td>0</td>\n",
              "      <td>0</td>\n",
              "      <td>3</td>\n",
              "      <td>0</td>\n",
              "      <td>0</td>\n",
              "      <td>0</td>\n",
              "      <td>0</td>\n",
              "      <td>0</td>\n",
              "      <td>1</td>\n",
              "      <td>0</td>\n",
              "      <td>2</td>\n",
              "      <td>0</td>\n",
              "      <td>1</td>\n",
              "      <td>0</td>\n",
              "      <td>0</td>\n",
              "      <td>0</td>\n",
              "      <td>0</td>\n",
              "      <td>0</td>\n",
              "      <td>2</td>\n",
              "      <td>0</td>\n",
              "      <td>3</td>\n",
              "      <td>0</td>\n",
              "      <td>0</td>\n",
              "      <td>0</td>\n",
              "      <td>0</td>\n",
              "      <td>0</td>\n",
              "      <td>1</td>\n",
              "      <td>...</td>\n",
              "      <td>0.0</td>\n",
              "      <td>0.000000</td>\n",
              "      <td>0.000000</td>\n",
              "      <td>0.0</td>\n",
              "      <td>0.0</td>\n",
              "      <td>0.0</td>\n",
              "      <td>0.039908</td>\n",
              "      <td>0.0</td>\n",
              "      <td>0.0</td>\n",
              "      <td>0.0</td>\n",
              "      <td>0.0</td>\n",
              "      <td>0.0</td>\n",
              "      <td>0.000000</td>\n",
              "      <td>0.000000</td>\n",
              "      <td>0.0</td>\n",
              "      <td>0.0</td>\n",
              "      <td>0.000000</td>\n",
              "      <td>0.0</td>\n",
              "      <td>0.0</td>\n",
              "      <td>0.0</td>\n",
              "      <td>0.0</td>\n",
              "      <td>0.000000</td>\n",
              "      <td>0.0</td>\n",
              "      <td>0.0</td>\n",
              "      <td>0.0</td>\n",
              "      <td>0.0</td>\n",
              "      <td>0.000000</td>\n",
              "      <td>0.0</td>\n",
              "      <td>0.050792</td>\n",
              "      <td>0.0</td>\n",
              "      <td>0.0</td>\n",
              "      <td>0.0</td>\n",
              "      <td>0.0</td>\n",
              "      <td>0.0</td>\n",
              "      <td>0.00000</td>\n",
              "      <td>0.0</td>\n",
              "      <td>0.0</td>\n",
              "      <td>0.0</td>\n",
              "      <td>0.0</td>\n",
              "      <td>0.0</td>\n",
              "    </tr>\n",
              "    <tr>\n",
              "      <th>4</th>\n",
              "      <td>TRAADQL128F427D281</td>\n",
              "      <td>love know like time go get get get get get get...</td>\n",
              "      <td>[love, know, like, time, go, get, get, get, ge...</td>\n",
              "      <td>[(0, 1), (19, 1), (27, 1), (38, 1), (68, 1), (...</td>\n",
              "      <td>1</td>\n",
              "      <td>0</td>\n",
              "      <td>0</td>\n",
              "      <td>0</td>\n",
              "      <td>0</td>\n",
              "      <td>0</td>\n",
              "      <td>0</td>\n",
              "      <td>0</td>\n",
              "      <td>0</td>\n",
              "      <td>0</td>\n",
              "      <td>0</td>\n",
              "      <td>0</td>\n",
              "      <td>0</td>\n",
              "      <td>0</td>\n",
              "      <td>0</td>\n",
              "      <td>0</td>\n",
              "      <td>0</td>\n",
              "      <td>0</td>\n",
              "      <td>0</td>\n",
              "      <td>1</td>\n",
              "      <td>0</td>\n",
              "      <td>0</td>\n",
              "      <td>0</td>\n",
              "      <td>0</td>\n",
              "      <td>0</td>\n",
              "      <td>0</td>\n",
              "      <td>0</td>\n",
              "      <td>1</td>\n",
              "      <td>0</td>\n",
              "      <td>0</td>\n",
              "      <td>0</td>\n",
              "      <td>0</td>\n",
              "      <td>0</td>\n",
              "      <td>0</td>\n",
              "      <td>0</td>\n",
              "      <td>0</td>\n",
              "      <td>...</td>\n",
              "      <td>0.0</td>\n",
              "      <td>0.000000</td>\n",
              "      <td>0.000000</td>\n",
              "      <td>0.0</td>\n",
              "      <td>0.0</td>\n",
              "      <td>0.0</td>\n",
              "      <td>0.000000</td>\n",
              "      <td>0.0</td>\n",
              "      <td>0.0</td>\n",
              "      <td>0.0</td>\n",
              "      <td>0.0</td>\n",
              "      <td>0.0</td>\n",
              "      <td>0.000000</td>\n",
              "      <td>0.000000</td>\n",
              "      <td>0.0</td>\n",
              "      <td>0.0</td>\n",
              "      <td>0.000000</td>\n",
              "      <td>0.0</td>\n",
              "      <td>0.0</td>\n",
              "      <td>0.0</td>\n",
              "      <td>0.0</td>\n",
              "      <td>0.000000</td>\n",
              "      <td>0.0</td>\n",
              "      <td>0.0</td>\n",
              "      <td>0.0</td>\n",
              "      <td>0.0</td>\n",
              "      <td>0.027630</td>\n",
              "      <td>0.0</td>\n",
              "      <td>0.000000</td>\n",
              "      <td>0.0</td>\n",
              "      <td>0.0</td>\n",
              "      <td>0.0</td>\n",
              "      <td>0.0</td>\n",
              "      <td>0.0</td>\n",
              "      <td>0.00000</td>\n",
              "      <td>0.0</td>\n",
              "      <td>0.0</td>\n",
              "      <td>0.0</td>\n",
              "      <td>0.0</td>\n",
              "      <td>0.0</td>\n",
              "    </tr>\n",
              "  </tbody>\n",
              "</table>\n",
              "<p>5 rows × 5112 columns</p>\n",
              "</div>"
            ],
            "text/plain": [
              "             track_id  ...   99\n",
              "0  TRAABJS128F9325C99  ...  0.0\n",
              "1  TRAACIE128F428495B  ...  0.0\n",
              "2  TRAACPH12903CF5F14  ...  0.0\n",
              "3  TRAADKW128E079503A  ...  0.0\n",
              "4  TRAADQL128F427D281  ...  0.0\n",
              "\n",
              "[5 rows x 5112 columns]"
            ]
          },
          "metadata": {
            "tags": []
          },
          "execution_count": 325
        }
      ]
    },
    {
      "cell_type": "code",
      "metadata": {
        "id": "bXNXbAKkmprb"
      },
      "source": [
        "topics = pd.DataFrame(U_matrix)\n",
        "features_df = pd.read_csv(\"/content/drive/MyDrive/song_lyrics/features_song_lyrics.csv\")"
      ],
      "execution_count": 329,
      "outputs": []
    },
    {
      "cell_type": "code",
      "metadata": {
        "colab": {
          "base_uri": "https://localhost:8080/"
        },
        "id": "DoiaDLv81R5o",
        "outputId": "f725b39e-ef7f-48c2-800f-03fa8a8c3686"
      },
      "source": [
        "U_matrix.T.shape"
      ],
      "execution_count": 330,
      "outputs": [
        {
          "output_type": "execute_result",
          "data": {
            "text/plain": [
              "(100, 5630)"
            ]
          },
          "metadata": {
            "tags": []
          },
          "execution_count": 330
        }
      ]
    },
    {
      "cell_type": "code",
      "metadata": {
        "id": "oe4i794IoDUn"
      },
      "source": [
        "from sklearn.metrics.pairwise import cosine_similarity"
      ],
      "execution_count": 331,
      "outputs": []
    },
    {
      "cell_type": "code",
      "metadata": {
        "id": "tZsKO9lqnZ2h"
      },
      "source": [
        "similarity_tfidf = cosine_similarity(tfidf)"
      ],
      "execution_count": 332,
      "outputs": []
    },
    {
      "cell_type": "code",
      "metadata": {
        "id": "P4NbBd3NoBBo"
      },
      "source": [
        "similarity_wordToVector = cosine_similarity(features_df.to_numpy())"
      ],
      "execution_count": 333,
      "outputs": []
    },
    {
      "cell_type": "code",
      "metadata": {
        "id": "enwwRYZaoLdM"
      },
      "source": [
        "similarity_lda = cosine_similarity(topics.to_numpy())"
      ],
      "execution_count": 334,
      "outputs": []
    },
    {
      "cell_type": "code",
      "metadata": {
        "id": "bX380rjio1-q"
      },
      "source": [
        "index_li = pd.Series(merge_data['track_id'])"
      ],
      "execution_count": 335,
      "outputs": []
    },
    {
      "cell_type": "code",
      "metadata": {
        "colab": {
          "base_uri": "https://localhost:8080/"
        },
        "id": "3uyrEtnqo_6j",
        "outputId": "4b971827-10c1-4947-fc13-d4c8d32d1324"
      },
      "source": [
        "index_li[:5]"
      ],
      "execution_count": 336,
      "outputs": [
        {
          "output_type": "execute_result",
          "data": {
            "text/plain": [
              "0    TRAABJS128F9325C99\n",
              "1    TRAACIE128F428495B\n",
              "2    TRAACPH12903CF5F14\n",
              "3    TRAADKW128E079503A\n",
              "4    TRAADQL128F427D281\n",
              "Name: track_id, dtype: object"
            ]
          },
          "metadata": {
            "tags": []
          },
          "execution_count": 336
        }
      ]
    },
    {
      "cell_type": "code",
      "metadata": {
        "id": "myqtmt7Nx7Xa"
      },
      "source": [
        "meta_data =pd.read_csv(\"/content/drive/MyDrive/meta_data.csv\")"
      ],
      "execution_count": 337,
      "outputs": []
    },
    {
      "cell_type": "code",
      "metadata": {
        "id": "CtWhiKDapAeS"
      },
      "source": [
        "def recommend_id(track_id, cosine_sim):\n",
        "    if len(index_li[index_li == track_id]) != 0:\n",
        "        idx = index_li[index_li == track_id].index[0]\n",
        "        # print(idx)\n",
        "        global score_series\n",
        "        score_series = pd.Series(cosine_sim[idx]).sort_values(ascending = False)\n",
        "        # print(score_series)\n",
        "        top10_indexes = list(score_series.iloc[1:11].index)\n",
        "\n",
        "        recommend_trackid = merge_data.iloc[top10_indexes][['track_id']]\n",
        "        recommend_track = recommend_trackid.merge(meta_data[['track_id', 'artist_name', 'title']], how='inner', on='track_id')[['artist_name', 'title']]\n",
        "    else:\n",
        "        recommend_track = pd.DataFrame()\n",
        "    return recommend_track\n",
        "\n",
        "def recommend_title(title, artist, cosine_sim):\n",
        "    similar_artist = {}\n",
        "    recommended = pd.DataFrame()\n",
        "    # try:\n",
        "    track_input = meta_data.loc[meta_data['title']==title].loc[meta_data['artist_name']==artist, ['track_id', 'artist_id']].reset_index(drop=True)\n",
        "    # print(\"hi\")\n",
        "    # print(track_input)\n",
        "    tid = track_input['track_id'][0] \n",
        "    # print(\"tid\")\n",
        "    aid = track_input['artist_id'][0]\n",
        "    # print(\"hi\")\n",
        "    recommended = recommended.append(meta_data.loc[meta_data['track_id']==tid, ['artist_name', 'title']])\n",
        "    # print(recommended)\n",
        "    recommended = recommended.append(recommend_id(tid, cosine_sim))\n",
        "    # print(\"after function call\")\n",
        "    return recommended.reset_index(drop=True)\n",
        "    # except:\n",
        "    #   print(\"Match error, no song found\")\n",
        "    #   return pd.DataFrame"
      ],
      "execution_count": 1,
      "outputs": []
    },
    {
      "cell_type": "code",
      "metadata": {
        "colab": {
          "base_uri": "https://localhost:8080/",
          "height": 390
        },
        "id": "pOTCZYe6z35n",
        "outputId": "830faf9f-e774-43ef-f1f6-e6c4b4505468"
      },
      "source": [
        "#Recommendation using LDA\n",
        "recommend_title(\"Anyone Else But You\",\"Michael Cera & Ellen Page\",similarity_lda)"
      ],
      "execution_count": 341,
      "outputs": [
        {
          "output_type": "execute_result",
          "data": {
            "text/html": [
              "<div>\n",
              "<style scoped>\n",
              "    .dataframe tbody tr th:only-of-type {\n",
              "        vertical-align: middle;\n",
              "    }\n",
              "\n",
              "    .dataframe tbody tr th {\n",
              "        vertical-align: top;\n",
              "    }\n",
              "\n",
              "    .dataframe thead th {\n",
              "        text-align: right;\n",
              "    }\n",
              "</style>\n",
              "<table border=\"1\" class=\"dataframe\">\n",
              "  <thead>\n",
              "    <tr style=\"text-align: right;\">\n",
              "      <th></th>\n",
              "      <th>artist_name</th>\n",
              "      <th>title</th>\n",
              "    </tr>\n",
              "  </thead>\n",
              "  <tbody>\n",
              "    <tr>\n",
              "      <th>0</th>\n",
              "      <td>Michael Cera &amp; Ellen Page</td>\n",
              "      <td>Anyone Else But You</td>\n",
              "    </tr>\n",
              "    <tr>\n",
              "      <th>1</th>\n",
              "      <td>The Moldy Peaches</td>\n",
              "      <td>Anyone Else But You</td>\n",
              "    </tr>\n",
              "    <tr>\n",
              "      <th>2</th>\n",
              "      <td>Placebo</td>\n",
              "      <td>Battle For The Sun</td>\n",
              "    </tr>\n",
              "    <tr>\n",
              "      <th>3</th>\n",
              "      <td>Rammstein</td>\n",
              "      <td>Bestrafe Mich</td>\n",
              "    </tr>\n",
              "    <tr>\n",
              "      <th>4</th>\n",
              "      <td>Collective Soul</td>\n",
              "      <td>Heavy  (LP Version)</td>\n",
              "    </tr>\n",
              "    <tr>\n",
              "      <th>5</th>\n",
              "      <td>Interpol</td>\n",
              "      <td>A Time To Be So Small</td>\n",
              "    </tr>\n",
              "    <tr>\n",
              "      <th>6</th>\n",
              "      <td>La Roux</td>\n",
              "      <td>Reflections Are Protection</td>\n",
              "    </tr>\n",
              "    <tr>\n",
              "      <th>7</th>\n",
              "      <td>Gene Kelly</td>\n",
              "      <td>Singing in the Rain</td>\n",
              "    </tr>\n",
              "    <tr>\n",
              "      <th>8</th>\n",
              "      <td>Arctic Monkeys</td>\n",
              "      <td>Dance Little Liar</td>\n",
              "    </tr>\n",
              "    <tr>\n",
              "      <th>9</th>\n",
              "      <td>Rammstein</td>\n",
              "      <td>Sehnsucht</td>\n",
              "    </tr>\n",
              "    <tr>\n",
              "      <th>10</th>\n",
              "      <td>Frightened Rabbit</td>\n",
              "      <td>Be Less Rude</td>\n",
              "    </tr>\n",
              "  </tbody>\n",
              "</table>\n",
              "</div>"
            ],
            "text/plain": [
              "                  artist_name                       title\n",
              "0   Michael Cera & Ellen Page         Anyone Else But You\n",
              "1           The Moldy Peaches         Anyone Else But You\n",
              "2                     Placebo          Battle For The Sun\n",
              "3                   Rammstein               Bestrafe Mich\n",
              "4             Collective Soul         Heavy  (LP Version)\n",
              "5                    Interpol       A Time To Be So Small\n",
              "6                     La Roux  Reflections Are Protection\n",
              "7                  Gene Kelly         Singing in the Rain\n",
              "8              Arctic Monkeys           Dance Little Liar\n",
              "9                   Rammstein                   Sehnsucht\n",
              "10          Frightened Rabbit                Be Less Rude"
            ]
          },
          "metadata": {
            "tags": []
          },
          "execution_count": 341
        }
      ]
    },
    {
      "cell_type": "code",
      "metadata": {
        "colab": {
          "base_uri": "https://localhost:8080/",
          "height": 390
        },
        "id": "EZfaHCqWrLoG",
        "outputId": "93fedea0-5a22-45fd-99a9-fabf847566c6"
      },
      "source": [
        "#Recommendation using tfidf\n",
        "recommend_title(\"Anyone Else But You\",\"Michael Cera & Ellen Page\",similarity_tfidf)"
      ],
      "execution_count": 342,
      "outputs": [
        {
          "output_type": "execute_result",
          "data": {
            "text/html": [
              "<div>\n",
              "<style scoped>\n",
              "    .dataframe tbody tr th:only-of-type {\n",
              "        vertical-align: middle;\n",
              "    }\n",
              "\n",
              "    .dataframe tbody tr th {\n",
              "        vertical-align: top;\n",
              "    }\n",
              "\n",
              "    .dataframe thead th {\n",
              "        text-align: right;\n",
              "    }\n",
              "</style>\n",
              "<table border=\"1\" class=\"dataframe\">\n",
              "  <thead>\n",
              "    <tr style=\"text-align: right;\">\n",
              "      <th></th>\n",
              "      <th>artist_name</th>\n",
              "      <th>title</th>\n",
              "    </tr>\n",
              "  </thead>\n",
              "  <tbody>\n",
              "    <tr>\n",
              "      <th>0</th>\n",
              "      <td>Michael Cera &amp; Ellen Page</td>\n",
              "      <td>Anyone Else But You</td>\n",
              "    </tr>\n",
              "    <tr>\n",
              "      <th>1</th>\n",
              "      <td>The Moldy Peaches</td>\n",
              "      <td>Anyone Else But You</td>\n",
              "    </tr>\n",
              "    <tr>\n",
              "      <th>2</th>\n",
              "      <td>Gene Kelly</td>\n",
              "      <td>Singing in the Rain</td>\n",
              "    </tr>\n",
              "    <tr>\n",
              "      <th>3</th>\n",
              "      <td>Markus Krunegård</td>\n",
              "      <td>Genom tunna tyger</td>\n",
              "    </tr>\n",
              "    <tr>\n",
              "      <th>4</th>\n",
              "      <td>Alexi Murdoch</td>\n",
              "      <td>Love You More</td>\n",
              "    </tr>\n",
              "    <tr>\n",
              "      <th>5</th>\n",
              "      <td>Rammstein</td>\n",
              "      <td>Du Riechst So Gut</td>\n",
              "    </tr>\n",
              "    <tr>\n",
              "      <th>6</th>\n",
              "      <td>Suspekt</td>\n",
              "      <td>Kinky Fætter</td>\n",
              "    </tr>\n",
              "    <tr>\n",
              "      <th>7</th>\n",
              "      <td>Hot Chip</td>\n",
              "      <td>Look After Me</td>\n",
              "    </tr>\n",
              "    <tr>\n",
              "      <th>8</th>\n",
              "      <td>Rammstein</td>\n",
              "      <td>Tier</td>\n",
              "    </tr>\n",
              "    <tr>\n",
              "      <th>9</th>\n",
              "      <td>The Killers</td>\n",
              "      <td>Romeo And Juliet</td>\n",
              "    </tr>\n",
              "    <tr>\n",
              "      <th>10</th>\n",
              "      <td>Rammstein</td>\n",
              "      <td>Seemann</td>\n",
              "    </tr>\n",
              "  </tbody>\n",
              "</table>\n",
              "</div>"
            ],
            "text/plain": [
              "                  artist_name                title\n",
              "0   Michael Cera & Ellen Page  Anyone Else But You\n",
              "1           The Moldy Peaches  Anyone Else But You\n",
              "2                  Gene Kelly  Singing in the Rain\n",
              "3            Markus Krunegård    Genom tunna tyger\n",
              "4               Alexi Murdoch        Love You More\n",
              "5                   Rammstein    Du Riechst So Gut\n",
              "6                     Suspekt         Kinky Fætter\n",
              "7                    Hot Chip        Look After Me\n",
              "8                   Rammstein                 Tier\n",
              "9                 The Killers     Romeo And Juliet\n",
              "10                  Rammstein              Seemann"
            ]
          },
          "metadata": {
            "tags": []
          },
          "execution_count": 342
        }
      ]
    },
    {
      "cell_type": "code",
      "metadata": {
        "colab": {
          "base_uri": "https://localhost:8080/",
          "height": 390
        },
        "id": "7cVMIVPoz0Zv",
        "outputId": "ccd14b76-0d71-4049-9364-1121d0966a16"
      },
      "source": [
        "#recommendations using word to Vector\n",
        "recommend_title(\"Anyone Else But You\",\"Michael Cera & Ellen Page\",similarity_wordToVector)"
      ],
      "execution_count": 343,
      "outputs": [
        {
          "output_type": "execute_result",
          "data": {
            "text/html": [
              "<div>\n",
              "<style scoped>\n",
              "    .dataframe tbody tr th:only-of-type {\n",
              "        vertical-align: middle;\n",
              "    }\n",
              "\n",
              "    .dataframe tbody tr th {\n",
              "        vertical-align: top;\n",
              "    }\n",
              "\n",
              "    .dataframe thead th {\n",
              "        text-align: right;\n",
              "    }\n",
              "</style>\n",
              "<table border=\"1\" class=\"dataframe\">\n",
              "  <thead>\n",
              "    <tr style=\"text-align: right;\">\n",
              "      <th></th>\n",
              "      <th>artist_name</th>\n",
              "      <th>title</th>\n",
              "    </tr>\n",
              "  </thead>\n",
              "  <tbody>\n",
              "    <tr>\n",
              "      <th>0</th>\n",
              "      <td>Michael Cera &amp; Ellen Page</td>\n",
              "      <td>Anyone Else But You</td>\n",
              "    </tr>\n",
              "    <tr>\n",
              "      <th>1</th>\n",
              "      <td>The Moldy Peaches</td>\n",
              "      <td>Anyone Else But You</td>\n",
              "    </tr>\n",
              "    <tr>\n",
              "      <th>2</th>\n",
              "      <td>Jason Mraz</td>\n",
              "      <td>You And I Both (LP Version)</td>\n",
              "    </tr>\n",
              "    <tr>\n",
              "      <th>3</th>\n",
              "      <td>Beyonce</td>\n",
              "      <td>Daddy</td>\n",
              "    </tr>\n",
              "    <tr>\n",
              "      <th>4</th>\n",
              "      <td>Owl City</td>\n",
              "      <td>Tidal Wave</td>\n",
              "    </tr>\n",
              "    <tr>\n",
              "      <th>5</th>\n",
              "      <td>Hot Chip</td>\n",
              "      <td>Playboy</td>\n",
              "    </tr>\n",
              "    <tr>\n",
              "      <th>6</th>\n",
              "      <td>NEEDTOBREATHE</td>\n",
              "      <td>Shine On (Album Version)</td>\n",
              "    </tr>\n",
              "    <tr>\n",
              "      <th>7</th>\n",
              "      <td>Vampire Weekend</td>\n",
              "      <td>M79 (Album)</td>\n",
              "    </tr>\n",
              "    <tr>\n",
              "      <th>8</th>\n",
              "      <td>Jason Mraz</td>\n",
              "      <td>Absolutely Zero (LP Version)</td>\n",
              "    </tr>\n",
              "    <tr>\n",
              "      <th>9</th>\n",
              "      <td>Andrew Bird</td>\n",
              "      <td>Anonanimal</td>\n",
              "    </tr>\n",
              "    <tr>\n",
              "      <th>10</th>\n",
              "      <td>Mike Jones</td>\n",
              "      <td>Mr. Jones (Explicit Version)</td>\n",
              "    </tr>\n",
              "  </tbody>\n",
              "</table>\n",
              "</div>"
            ],
            "text/plain": [
              "                  artist_name                         title\n",
              "0   Michael Cera & Ellen Page           Anyone Else But You\n",
              "1           The Moldy Peaches           Anyone Else But You\n",
              "2                  Jason Mraz   You And I Both (LP Version)\n",
              "3                     Beyonce                         Daddy\n",
              "4                    Owl City                    Tidal Wave\n",
              "5                    Hot Chip                       Playboy\n",
              "6               NEEDTOBREATHE      Shine On (Album Version)\n",
              "7             Vampire Weekend                   M79 (Album)\n",
              "8                  Jason Mraz  Absolutely Zero (LP Version)\n",
              "9                 Andrew Bird                    Anonanimal\n",
              "10                 Mike Jones  Mr. Jones (Explicit Version)"
            ]
          },
          "metadata": {
            "tags": []
          },
          "execution_count": 343
        }
      ]
    },
    {
      "cell_type": "code",
      "metadata": {
        "id": "bN0fsTwKsIHi"
      },
      "source": [
        ""
      ],
      "execution_count": 315,
      "outputs": []
    }
  ]
}