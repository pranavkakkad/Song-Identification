{
  "nbformat": 4,
  "nbformat_minor": 0,
  "metadata": {
    "colab": {
      "name": "song.ipynb",
      "provenance": [],
      "collapsed_sections": [],
      "include_colab_link": true
    },
    "kernelspec": {
      "name": "python3",
      "display_name": "Python 3"
    },
    "language_info": {
      "name": "python"
    }
  },
  "cells": [
    {
      "cell_type": "markdown",
      "metadata": {
        "id": "view-in-github",
        "colab_type": "text"
      },
      "source": [
        "<a href=\"https://colab.research.google.com/github/pranavkakkad/Song-Identification/blob/master/Collaborative_filtering.ipynb\" target=\"_parent\"><img src=\"https://colab.research.google.com/assets/colab-badge.svg\" alt=\"Open In Colab\"/></a>"
      ]
    },
    {
      "cell_type": "code",
      "metadata": {
        "id": "Mom9Dz__grKW",
        "colab": {
          "base_uri": "https://localhost:8080/"
        },
        "outputId": "b4cd44b7-fc1f-460a-e2a6-93fd9bb183b8"
      },
      "source": [
        "from google.colab import drive\n",
        "drive.mount('/content/drive')"
      ],
      "execution_count": 2,
      "outputs": [
        {
          "output_type": "stream",
          "text": [
            "Mounted at /content/drive\n"
          ],
          "name": "stdout"
        }
      ]
    },
    {
      "cell_type": "code",
      "metadata": {
        "id": "huw6sgaoUz4w"
      },
      "source": [
        "import pandas as pd\n",
        "import numpy as np\n",
        "import matplotlib.pyplot as plt\n",
        "import seaborn as sns\n",
        "from scipy.sparse import csr_matrix"
      ],
      "execution_count": 3,
      "outputs": []
    },
    {
      "cell_type": "code",
      "metadata": {
        "id": "gq41LLJ415DL"
      },
      "source": [
        "name = [\"user_id\",\"song_id\",\"count\"]\n",
        "text_df = pd.read_csv(\"/content/drive/MyDrive/song_Dataset/10000.txt\",header=None,sep=\"\\t\",names=name)\n"
      ],
      "execution_count": 4,
      "outputs": []
    },
    {
      "cell_type": "code",
      "metadata": {
        "colab": {
          "base_uri": "https://localhost:8080/",
          "height": 206
        },
        "id": "A1Fm5UdU2AIR",
        "outputId": "bd0a6b22-2974-40e0-9f35-8a3fe641be59"
      },
      "source": [
        "text_df.head()"
      ],
      "execution_count": 5,
      "outputs": [
        {
          "output_type": "execute_result",
          "data": {
            "text/html": [
              "<div>\n",
              "<style scoped>\n",
              "    .dataframe tbody tr th:only-of-type {\n",
              "        vertical-align: middle;\n",
              "    }\n",
              "\n",
              "    .dataframe tbody tr th {\n",
              "        vertical-align: top;\n",
              "    }\n",
              "\n",
              "    .dataframe thead th {\n",
              "        text-align: right;\n",
              "    }\n",
              "</style>\n",
              "<table border=\"1\" class=\"dataframe\">\n",
              "  <thead>\n",
              "    <tr style=\"text-align: right;\">\n",
              "      <th></th>\n",
              "      <th>user_id</th>\n",
              "      <th>song_id</th>\n",
              "      <th>count</th>\n",
              "    </tr>\n",
              "  </thead>\n",
              "  <tbody>\n",
              "    <tr>\n",
              "      <th>0</th>\n",
              "      <td>b80344d063b5ccb3212f76538f3d9e43d87dca9e</td>\n",
              "      <td>SOAKIMP12A8C130995</td>\n",
              "      <td>1</td>\n",
              "    </tr>\n",
              "    <tr>\n",
              "      <th>1</th>\n",
              "      <td>b80344d063b5ccb3212f76538f3d9e43d87dca9e</td>\n",
              "      <td>SOBBMDR12A8C13253B</td>\n",
              "      <td>2</td>\n",
              "    </tr>\n",
              "    <tr>\n",
              "      <th>2</th>\n",
              "      <td>b80344d063b5ccb3212f76538f3d9e43d87dca9e</td>\n",
              "      <td>SOBXHDL12A81C204C0</td>\n",
              "      <td>1</td>\n",
              "    </tr>\n",
              "    <tr>\n",
              "      <th>3</th>\n",
              "      <td>b80344d063b5ccb3212f76538f3d9e43d87dca9e</td>\n",
              "      <td>SOBYHAJ12A6701BF1D</td>\n",
              "      <td>1</td>\n",
              "    </tr>\n",
              "    <tr>\n",
              "      <th>4</th>\n",
              "      <td>b80344d063b5ccb3212f76538f3d9e43d87dca9e</td>\n",
              "      <td>SODACBL12A8C13C273</td>\n",
              "      <td>1</td>\n",
              "    </tr>\n",
              "  </tbody>\n",
              "</table>\n",
              "</div>"
            ],
            "text/plain": [
              "                                    user_id             song_id  count\n",
              "0  b80344d063b5ccb3212f76538f3d9e43d87dca9e  SOAKIMP12A8C130995      1\n",
              "1  b80344d063b5ccb3212f76538f3d9e43d87dca9e  SOBBMDR12A8C13253B      2\n",
              "2  b80344d063b5ccb3212f76538f3d9e43d87dca9e  SOBXHDL12A81C204C0      1\n",
              "3  b80344d063b5ccb3212f76538f3d9e43d87dca9e  SOBYHAJ12A6701BF1D      1\n",
              "4  b80344d063b5ccb3212f76538f3d9e43d87dca9e  SODACBL12A8C13C273      1"
            ]
          },
          "metadata": {
            "tags": []
          },
          "execution_count": 5
        }
      ]
    },
    {
      "cell_type": "code",
      "metadata": {
        "colab": {
          "base_uri": "https://localhost:8080/"
        },
        "id": "PgFfj9bq2S0m",
        "outputId": "61d43364-e383-4237-c29d-48af5e90406a"
      },
      "source": [
        "text_df.info()"
      ],
      "execution_count": 6,
      "outputs": [
        {
          "output_type": "stream",
          "text": [
            "<class 'pandas.core.frame.DataFrame'>\n",
            "RangeIndex: 2000000 entries, 0 to 1999999\n",
            "Data columns (total 3 columns):\n",
            " #   Column   Dtype \n",
            "---  ------   ----- \n",
            " 0   user_id  object\n",
            " 1   song_id  object\n",
            " 2   count    int64 \n",
            "dtypes: int64(1), object(2)\n",
            "memory usage: 45.8+ MB\n"
          ],
          "name": "stdout"
        }
      ]
    },
    {
      "cell_type": "code",
      "metadata": {
        "colab": {
          "base_uri": "https://localhost:8080/"
        },
        "id": "JRUlqTYI28au",
        "outputId": "b6fe0d13-e743-44e4-b9fc-b0ea78f6ee3f"
      },
      "source": [
        "print(\"number of unique user: {}\".format(len(text_df[\"user_id\"].unique())))\n",
        "print(\"number of uniqu songs in our dataset {}\".format(len(text_df[\"song_id\"].unique())))"
      ],
      "execution_count": 7,
      "outputs": [
        {
          "output_type": "stream",
          "text": [
            "number of unique user: 76353\n",
            "number of uniqu songs in our dataset 10000\n"
          ],
          "name": "stdout"
        }
      ]
    },
    {
      "cell_type": "code",
      "metadata": {
        "colab": {
          "base_uri": "https://localhost:8080/"
        },
        "id": "rPzBJKG02-aB",
        "outputId": "755c378f-95c3-451a-a621-368770889aa3"
      },
      "source": [
        "print(\"average times user listen to same song: {}\".format(np.mean(np.array(text_df[\"count\"]))))"
      ],
      "execution_count": 8,
      "outputs": [
        {
          "output_type": "stream",
          "text": [
            "average times user listen to same song: 3.0454845\n"
          ],
          "name": "stdout"
        }
      ]
    },
    {
      "cell_type": "code",
      "metadata": {
        "id": "qVoGyj3T4cjL"
      },
      "source": [
        "song_df = pd.read_csv(\"/content/drive/MyDrive/song_Dataset/song_data.csv\")"
      ],
      "execution_count": 9,
      "outputs": []
    },
    {
      "cell_type": "code",
      "metadata": {
        "colab": {
          "base_uri": "https://localhost:8080/",
          "height": 206
        },
        "id": "PK3XnqSQ5xuL",
        "outputId": "a6d4903e-b76f-4242-98e5-afc677885756"
      },
      "source": [
        "song_df.head()"
      ],
      "execution_count": 10,
      "outputs": [
        {
          "output_type": "execute_result",
          "data": {
            "text/html": [
              "<div>\n",
              "<style scoped>\n",
              "    .dataframe tbody tr th:only-of-type {\n",
              "        vertical-align: middle;\n",
              "    }\n",
              "\n",
              "    .dataframe tbody tr th {\n",
              "        vertical-align: top;\n",
              "    }\n",
              "\n",
              "    .dataframe thead th {\n",
              "        text-align: right;\n",
              "    }\n",
              "</style>\n",
              "<table border=\"1\" class=\"dataframe\">\n",
              "  <thead>\n",
              "    <tr style=\"text-align: right;\">\n",
              "      <th></th>\n",
              "      <th>song_id</th>\n",
              "      <th>title</th>\n",
              "      <th>release</th>\n",
              "      <th>artist_name</th>\n",
              "      <th>year</th>\n",
              "    </tr>\n",
              "  </thead>\n",
              "  <tbody>\n",
              "    <tr>\n",
              "      <th>0</th>\n",
              "      <td>SOQMMHC12AB0180CB8</td>\n",
              "      <td>Silent Night</td>\n",
              "      <td>Monster Ballads X-Mas</td>\n",
              "      <td>Faster Pussy cat</td>\n",
              "      <td>2003</td>\n",
              "    </tr>\n",
              "    <tr>\n",
              "      <th>1</th>\n",
              "      <td>SOVFVAK12A8C1350D9</td>\n",
              "      <td>Tanssi vaan</td>\n",
              "      <td>Karkuteillä</td>\n",
              "      <td>Karkkiautomaatti</td>\n",
              "      <td>1995</td>\n",
              "    </tr>\n",
              "    <tr>\n",
              "      <th>2</th>\n",
              "      <td>SOGTUKN12AB017F4F1</td>\n",
              "      <td>No One Could Ever</td>\n",
              "      <td>Butter</td>\n",
              "      <td>Hudson Mohawke</td>\n",
              "      <td>2006</td>\n",
              "    </tr>\n",
              "    <tr>\n",
              "      <th>3</th>\n",
              "      <td>SOBNYVR12A8C13558C</td>\n",
              "      <td>Si Vos Querés</td>\n",
              "      <td>De Culo</td>\n",
              "      <td>Yerba Brava</td>\n",
              "      <td>2003</td>\n",
              "    </tr>\n",
              "    <tr>\n",
              "      <th>4</th>\n",
              "      <td>SOHSBXH12A8C13B0DF</td>\n",
              "      <td>Tangle Of Aspens</td>\n",
              "      <td>Rene Ablaze Presents Winter Sessions</td>\n",
              "      <td>Der Mystic</td>\n",
              "      <td>0</td>\n",
              "    </tr>\n",
              "  </tbody>\n",
              "</table>\n",
              "</div>"
            ],
            "text/plain": [
              "              song_id              title  ...       artist_name  year\n",
              "0  SOQMMHC12AB0180CB8       Silent Night  ...  Faster Pussy cat  2003\n",
              "1  SOVFVAK12A8C1350D9        Tanssi vaan  ...  Karkkiautomaatti  1995\n",
              "2  SOGTUKN12AB017F4F1  No One Could Ever  ...    Hudson Mohawke  2006\n",
              "3  SOBNYVR12A8C13558C      Si Vos Querés  ...       Yerba Brava  2003\n",
              "4  SOHSBXH12A8C13B0DF   Tangle Of Aspens  ...        Der Mystic     0\n",
              "\n",
              "[5 rows x 5 columns]"
            ]
          },
          "metadata": {
            "tags": []
          },
          "execution_count": 10
        }
      ]
    },
    {
      "cell_type": "code",
      "metadata": {
        "colab": {
          "base_uri": "https://localhost:8080/"
        },
        "id": "OSJNmVVHQ2AI",
        "outputId": "64e471de-78a7-438c-b7bb-bb96fbd198c2"
      },
      "source": [
        "print(\"total lenght of songs in dataframe\",len(song_df[\"song_id\"].to_numpy()))\n",
        "print(\"Unique number of song id in dataframe\",len(song_df[\"song_id\"].unique()))"
      ],
      "execution_count": 11,
      "outputs": [
        {
          "output_type": "stream",
          "text": [
            "total lenght of songs in dataframe 1000000\n",
            "Unique number of song id in dataframe 999056\n"
          ],
          "name": "stdout"
        }
      ]
    },
    {
      "cell_type": "code",
      "metadata": {
        "id": "R_z9xwYUQ2CM"
      },
      "source": [
        "#there are duplicates song id in \n",
        "song_df.drop_duplicates([\"song_id\"],inplace=True)"
      ],
      "execution_count": 12,
      "outputs": []
    },
    {
      "cell_type": "code",
      "metadata": {
        "colab": {
          "base_uri": "https://localhost:8080/"
        },
        "id": "Kd1q6Y1JQ2P4",
        "outputId": "e24c7bf4-e6ee-480a-d743-74ab24577fd3"
      },
      "source": [
        "print(\"After removing duplicates entries:\")\n",
        "print(\"total lenght of songs in dataframe\",len(song_df[\"song_id\"].to_numpy()))\n",
        "print(\"Unique number of song id in dataframe\",len(song_df[\"song_id\"].unique()))"
      ],
      "execution_count": 13,
      "outputs": [
        {
          "output_type": "stream",
          "text": [
            "After removing duplicates entries:\n",
            "total lenght of songs in dataframe 999056\n",
            "Unique number of song id in dataframe 999056\n"
          ],
          "name": "stdout"
        }
      ]
    },
    {
      "cell_type": "code",
      "metadata": {
        "id": "-RbM5t_KQ2Sw"
      },
      "source": [
        "merge_df = pd.merge(text_df,song_df,on =\"song_id\",how=\"left\")"
      ],
      "execution_count": 14,
      "outputs": []
    },
    {
      "cell_type": "code",
      "metadata": {
        "colab": {
          "base_uri": "https://localhost:8080/",
          "height": 206
        },
        "id": "dU1Apy0XQ2VU",
        "outputId": "c9f7a80a-fde0-43f1-cb01-52945355feab"
      },
      "source": [
        "merge_df.head()"
      ],
      "execution_count": 15,
      "outputs": [
        {
          "output_type": "execute_result",
          "data": {
            "text/html": [
              "<div>\n",
              "<style scoped>\n",
              "    .dataframe tbody tr th:only-of-type {\n",
              "        vertical-align: middle;\n",
              "    }\n",
              "\n",
              "    .dataframe tbody tr th {\n",
              "        vertical-align: top;\n",
              "    }\n",
              "\n",
              "    .dataframe thead th {\n",
              "        text-align: right;\n",
              "    }\n",
              "</style>\n",
              "<table border=\"1\" class=\"dataframe\">\n",
              "  <thead>\n",
              "    <tr style=\"text-align: right;\">\n",
              "      <th></th>\n",
              "      <th>user_id</th>\n",
              "      <th>song_id</th>\n",
              "      <th>count</th>\n",
              "      <th>title</th>\n",
              "      <th>release</th>\n",
              "      <th>artist_name</th>\n",
              "      <th>year</th>\n",
              "    </tr>\n",
              "  </thead>\n",
              "  <tbody>\n",
              "    <tr>\n",
              "      <th>0</th>\n",
              "      <td>b80344d063b5ccb3212f76538f3d9e43d87dca9e</td>\n",
              "      <td>SOAKIMP12A8C130995</td>\n",
              "      <td>1</td>\n",
              "      <td>The Cove</td>\n",
              "      <td>Thicker Than Water</td>\n",
              "      <td>Jack Johnson</td>\n",
              "      <td>0</td>\n",
              "    </tr>\n",
              "    <tr>\n",
              "      <th>1</th>\n",
              "      <td>b80344d063b5ccb3212f76538f3d9e43d87dca9e</td>\n",
              "      <td>SOBBMDR12A8C13253B</td>\n",
              "      <td>2</td>\n",
              "      <td>Entre Dos Aguas</td>\n",
              "      <td>Flamenco Para Niños</td>\n",
              "      <td>Paco De Lucia</td>\n",
              "      <td>1976</td>\n",
              "    </tr>\n",
              "    <tr>\n",
              "      <th>2</th>\n",
              "      <td>b80344d063b5ccb3212f76538f3d9e43d87dca9e</td>\n",
              "      <td>SOBXHDL12A81C204C0</td>\n",
              "      <td>1</td>\n",
              "      <td>Stronger</td>\n",
              "      <td>Graduation</td>\n",
              "      <td>Kanye West</td>\n",
              "      <td>2007</td>\n",
              "    </tr>\n",
              "    <tr>\n",
              "      <th>3</th>\n",
              "      <td>b80344d063b5ccb3212f76538f3d9e43d87dca9e</td>\n",
              "      <td>SOBYHAJ12A6701BF1D</td>\n",
              "      <td>1</td>\n",
              "      <td>Constellations</td>\n",
              "      <td>In Between Dreams</td>\n",
              "      <td>Jack Johnson</td>\n",
              "      <td>2005</td>\n",
              "    </tr>\n",
              "    <tr>\n",
              "      <th>4</th>\n",
              "      <td>b80344d063b5ccb3212f76538f3d9e43d87dca9e</td>\n",
              "      <td>SODACBL12A8C13C273</td>\n",
              "      <td>1</td>\n",
              "      <td>Learn To Fly</td>\n",
              "      <td>There Is Nothing Left To Lose</td>\n",
              "      <td>Foo Fighters</td>\n",
              "      <td>1999</td>\n",
              "    </tr>\n",
              "  </tbody>\n",
              "</table>\n",
              "</div>"
            ],
            "text/plain": [
              "                                    user_id  ...  year\n",
              "0  b80344d063b5ccb3212f76538f3d9e43d87dca9e  ...     0\n",
              "1  b80344d063b5ccb3212f76538f3d9e43d87dca9e  ...  1976\n",
              "2  b80344d063b5ccb3212f76538f3d9e43d87dca9e  ...  2007\n",
              "3  b80344d063b5ccb3212f76538f3d9e43d87dca9e  ...  2005\n",
              "4  b80344d063b5ccb3212f76538f3d9e43d87dca9e  ...  1999\n",
              "\n",
              "[5 rows x 7 columns]"
            ]
          },
          "metadata": {
            "tags": []
          },
          "execution_count": 15
        }
      ]
    },
    {
      "cell_type": "code",
      "metadata": {
        "colab": {
          "base_uri": "https://localhost:8080/"
        },
        "id": "kqsO1GEXQ2Xt",
        "outputId": "4d9d6c5f-2232-473d-babd-b3fa9a11619e"
      },
      "source": [
        "print(\"Entries in data set\",merge_df.shape[0])"
      ],
      "execution_count": 16,
      "outputs": [
        {
          "output_type": "stream",
          "text": [
            "Entries in data set 2000000\n"
          ],
          "name": "stdout"
        }
      ]
    },
    {
      "cell_type": "code",
      "metadata": {
        "colab": {
          "base_uri": "https://localhost:8080/"
        },
        "id": "JXP4JKiMCF_G",
        "outputId": "f1e1aaec-85ba-46ba-b7d1-73467471c90b"
      },
      "source": [
        "merge_df.info()"
      ],
      "execution_count": 17,
      "outputs": [
        {
          "output_type": "stream",
          "text": [
            "<class 'pandas.core.frame.DataFrame'>\n",
            "Int64Index: 2000000 entries, 0 to 1999999\n",
            "Data columns (total 7 columns):\n",
            " #   Column       Dtype \n",
            "---  ------       ----- \n",
            " 0   user_id      object\n",
            " 1   song_id      object\n",
            " 2   count        int64 \n",
            " 3   title        object\n",
            " 4   release      object\n",
            " 5   artist_name  object\n",
            " 6   year         int64 \n",
            "dtypes: int64(2), object(5)\n",
            "memory usage: 122.1+ MB\n"
          ],
          "name": "stdout"
        }
      ]
    },
    {
      "cell_type": "code",
      "metadata": {
        "colab": {
          "base_uri": "https://localhost:8080/"
        },
        "id": "fodRRUZ0CGBn",
        "outputId": "b2ae549e-8284-4fc8-81ad-1301044d3bf4"
      },
      "source": [
        "print(\"number of different song id\",len(merge_df[\"song_id\"].unique()))\n",
        "print(\"number of unique title songs\",len(merge_df[\"title\"].unique()))\n",
        "print(\"number of unique users \",len(merge_df[\"user_id\"].unique()))"
      ],
      "execution_count": 18,
      "outputs": [
        {
          "output_type": "stream",
          "text": [
            "number of different song id 10000\n",
            "number of unique title songs 9567\n",
            "number of unique users  76353\n"
          ],
          "name": "stdout"
        }
      ]
    },
    {
      "cell_type": "code",
      "metadata": {
        "colab": {
          "base_uri": "https://localhost:8080/"
        },
        "id": "tTIlNrmOCGD3",
        "outputId": "82d89ded-b366-4134-ae6e-e7aac857d767"
      },
      "source": [
        "print(\"analysis of each song_id\")\n",
        "print(merge_df.groupby(\"song_id\").count())"
      ],
      "execution_count": 19,
      "outputs": [
        {
          "output_type": "stream",
          "text": [
            "analysis of each song_id\n",
            "                    user_id  count  title  release  artist_name  year\n",
            "song_id                                                              \n",
            "SOAAAGQ12A8C1420C8       66     66     66       66           66    66\n",
            "SOAACPJ12A81C21360      147    147    147      147          147   147\n",
            "SOAACSG12AB018DC80       67     67     67       67           67    67\n",
            "SOAAEJI12AB0188AB5       62     62     62       62           62    62\n",
            "SOAAFAC12A67ADF7EB      190    190    190      190          190   190\n",
            "...                     ...    ...    ...      ...          ...   ...\n",
            "SOZZTNF12A8C139916      270    270    270      270          270   270\n",
            "SOZZVWB12AB0189C30      138    138    138      138          138   138\n",
            "SOZZWZV12A67AE140F      119    119    119      119          119   119\n",
            "SOZZYAO12A6701FF36       76     76     76       76           76    76\n",
            "SOZZZPV12A8C1444B5       71     71     71       71           71    71\n",
            "\n",
            "[10000 rows x 6 columns]\n"
          ],
          "name": "stdout"
        }
      ]
    },
    {
      "cell_type": "code",
      "metadata": {
        "colab": {
          "base_uri": "https://localhost:8080/"
        },
        "id": "1STYQaKhCGGE",
        "outputId": "9b7ea9ee-f835-423b-f268-9865079c285e"
      },
      "source": [
        "print(\"number of times each song is listend by all the users\")\n",
        "print(merge_df.groupby(\"title\")[\"count\"].count().sort_values(ascending=False).reset_index())\n"
      ],
      "execution_count": 20,
      "outputs": [
        {
          "output_type": "stream",
          "text": [
            "number of times each song is listend by all the users\n",
            "                               title  count\n",
            "0                      Sehr kosmisch   8277\n",
            "1                               Undo   7032\n",
            "2     Dog Days Are Over (Radio Edit)   6949\n",
            "3                     You're The One   6729\n",
            "4                            Revelry   6145\n",
            "...                              ...    ...\n",
            "9562                          Scared     51\n",
            "9563            Historia Del Portero     51\n",
            "9564              Don´t Leave Me Now     50\n",
            "9565             No Creo En El Jamas     48\n",
            "9566      Ghosts (Toxic Avenger Mix)     48\n",
            "\n",
            "[9567 rows x 2 columns]\n"
          ],
          "name": "stdout"
        }
      ]
    },
    {
      "cell_type": "code",
      "metadata": {
        "id": "HEQmWhgxCGKn"
      },
      "source": [
        "popular_songs = pd.DataFrame(merge_df.groupby(\"title\")[\"count\"].count().sort_values(ascending=False)).reset_index()"
      ],
      "execution_count": 21,
      "outputs": []
    },
    {
      "cell_type": "code",
      "metadata": {
        "id": "agVY-VAQCGIg"
      },
      "source": [
        "top_20_songs = popular_songs[\"title\"].to_list()[:20]\n",
        "top_20_count = popular_songs[\"count\"].to_list()[:20]"
      ],
      "execution_count": 22,
      "outputs": []
    },
    {
      "cell_type": "code",
      "metadata": {
        "colab": {
          "base_uri": "https://localhost:8080/",
          "height": 265
        },
        "id": "PsnTrEchCGNJ",
        "outputId": "5af1682b-8f1c-4871-9e58-3fdd46f13878"
      },
      "source": [
        "sns.barplot(x =top_20_count, y=top_20_songs )\n",
        "sns.set(rc={'figure.figsize':(15,10)})"
      ],
      "execution_count": 23,
      "outputs": [
        {
          "output_type": "display_data",
          "data": {
            "image/png": "[encoded data removed]",
            "text/plain": [
              "<Figure size 432x288 with 1 Axes>"
            ]
          },
          "metadata": {
            "tags": [],
            "needs_background": "light"
          }
        }
      ]
    },
    {
      "cell_type": "code",
      "metadata": {
        "id": "x5TBo8VrCGPk"
      },
      "source": [
        "popular_artist = pd.DataFrame(merge_df.groupby(\"artist_name\")[\"count\"].count().sort_values(ascending=False)).reset_index()"
      ],
      "execution_count": 24,
      "outputs": []
    },
    {
      "cell_type": "code",
      "metadata": {
        "id": "PGSsdJ3OCGSD"
      },
      "source": [
        "popular_artist_name = popular_artist[\"artist_name\"].to_list()[:20]\n",
        "popular_artist_count = popular_artist[\"count\"].to_list()[:20]"
      ],
      "execution_count": 25,
      "outputs": []
    },
    {
      "cell_type": "code",
      "metadata": {
        "colab": {
          "base_uri": "https://localhost:8080/",
          "height": 594
        },
        "id": "mdRvwr0iCGUZ",
        "outputId": "aa81d072-d89e-449a-d8d9-cf07e19122d5"
      },
      "source": [
        "sns.barplot(x =popular_artist_count, y=popular_artist_name )\n",
        "sns.set(rc={'figure.figsize':(15,10)})"
      ],
      "execution_count": 26,
      "outputs": [
        {
          "output_type": "display_data",
          "data": {
            "image/png": "[encoded data removed]",
            "text/plain": [
              "<Figure size 1080x720 with 1 Axes>"
            ]
          },
          "metadata": {
            "tags": []
          }
        }
      ]
    },
    {
      "cell_type": "code",
      "metadata": {
        "id": "HxeV0HwVCGWv"
      },
      "source": [
        "songs_year = pd.DataFrame(merge_df.groupby(\"year\")[\"count\"].count().sort_values(ascending=False)).reset_index()"
      ],
      "execution_count": 27,
      "outputs": []
    },
    {
      "cell_type": "code",
      "metadata": {
        "colab": {
          "base_uri": "https://localhost:8080/",
          "height": 629
        },
        "id": "irLFBsaJezv_",
        "outputId": "4cd37e89-dc09-49c1-a629-1a7a055f1598"
      },
      "source": [
        "sns.lineplot(data=songs_year, x=\"year\", y=\"count\")"
      ],
      "execution_count": 28,
      "outputs": [
        {
          "output_type": "execute_result",
          "data": {
            "text/plain": [
              "<matplotlib.axes._subplots.AxesSubplot at 0x7f6790918d50>"
            ]
          },
          "metadata": {
            "tags": []
          },
          "execution_count": 28
        },
        {
          "output_type": "display_data",
          "data": {
            "image/png": "[encoded data removed]",
            "text/plain": [
              "<Figure size 1080x720 with 1 Axes>"
            ]
          },
          "metadata": {
            "tags": []
          }
        }
      ]
    },
    {
      "cell_type": "markdown",
      "metadata": {
        "id": "gA3FC6T6iEoH"
      },
      "source": [
        "Year data does not give much meaningful data because if some inaccurate data though we can understand that there is decline in listening of music and after some point there is again increase in all users listening to songs in that year, though this graph is somewhat skeptical and much informatin cannot be extracted.\n"
      ]
    },
    {
      "cell_type": "code",
      "metadata": {
        "colab": {
          "base_uri": "https://localhost:8080/"
        },
        "id": "igezhDFWezyb",
        "outputId": "c0a132de-5cb7-4e51-e472-efd3ef8f24f7"
      },
      "source": [
        "print(\"median count of number of times songs are heard \",np.median(merge_df[\"count\"]))\n",
        "print(\"mean of number of times song is heard \",np.mean(merge_df[\"count\"]))\n",
        "print(\"75 percentile of users listens to song {} times\".format(np.percentile(merge_df[\"count\"], [75])))\n"
      ],
      "execution_count": 29,
      "outputs": [
        {
          "output_type": "stream",
          "text": [
            "median count of number of times songs are heard  1.0\n",
            "mean of number of times song is heard  3.0454845\n",
            "75 percentile of users listens to song [3.] times\n"
          ],
          "name": "stdout"
        }
      ]
    },
    {
      "cell_type": "markdown",
      "metadata": {
        "id": "77Ng_eiEv7rK"
      },
      "source": [
        "more than 50% percent of people listens to song one time, we can say that they are trying the new song."
      ]
    },
    {
      "cell_type": "markdown",
      "metadata": {
        "id": "_1Y7QCinxVHS"
      },
      "source": [
        "User wise aggregation "
      ]
    },
    {
      "cell_type": "code",
      "metadata": {
        "id": "Emxz_vSiez3s"
      },
      "source": [
        "user_df_pd = (merge_df.groupby(\"user_id\")[\"song_id\"]).count()\n",
        "user_df = user_df_pd.reset_index()"
      ],
      "execution_count": 30,
      "outputs": []
    },
    {
      "cell_type": "code",
      "metadata": {
        "colab": {
          "base_uri": "https://localhost:8080/",
          "height": 206
        },
        "id": "1LZLZGtjez6V",
        "outputId": "fb0e5122-de76-444d-9c29-8b109dfe03d4"
      },
      "source": [
        "user_df.head()"
      ],
      "execution_count": 31,
      "outputs": [
        {
          "output_type": "execute_result",
          "data": {
            "text/html": [
              "<div>\n",
              "<style scoped>\n",
              "    .dataframe tbody tr th:only-of-type {\n",
              "        vertical-align: middle;\n",
              "    }\n",
              "\n",
              "    .dataframe tbody tr th {\n",
              "        vertical-align: top;\n",
              "    }\n",
              "\n",
              "    .dataframe thead th {\n",
              "        text-align: right;\n",
              "    }\n",
              "</style>\n",
              "<table border=\"1\" class=\"dataframe\">\n",
              "  <thead>\n",
              "    <tr style=\"text-align: right;\">\n",
              "      <th></th>\n",
              "      <th>user_id</th>\n",
              "      <th>song_id</th>\n",
              "    </tr>\n",
              "  </thead>\n",
              "  <tbody>\n",
              "    <tr>\n",
              "      <th>0</th>\n",
              "      <td>00003a4459f33b92906be11abe0e93efc423c0ff</td>\n",
              "      <td>7</td>\n",
              "    </tr>\n",
              "    <tr>\n",
              "      <th>1</th>\n",
              "      <td>00005c6177188f12fb5e2e82cdbd93e8a3f35e64</td>\n",
              "      <td>5</td>\n",
              "    </tr>\n",
              "    <tr>\n",
              "      <th>2</th>\n",
              "      <td>00030033e3a2f904a48ec1dd53019c9969b6ef1f</td>\n",
              "      <td>9</td>\n",
              "    </tr>\n",
              "    <tr>\n",
              "      <th>3</th>\n",
              "      <td>0007235c769e610e3d339a17818a5708e41008d9</td>\n",
              "      <td>10</td>\n",
              "    </tr>\n",
              "    <tr>\n",
              "      <th>4</th>\n",
              "      <td>0007c0e74728ca9ef0fe4eb7f75732e8026a278b</td>\n",
              "      <td>9</td>\n",
              "    </tr>\n",
              "  </tbody>\n",
              "</table>\n",
              "</div>"
            ],
            "text/plain": [
              "                                    user_id  song_id\n",
              "0  00003a4459f33b92906be11abe0e93efc423c0ff        7\n",
              "1  00005c6177188f12fb5e2e82cdbd93e8a3f35e64        5\n",
              "2  00030033e3a2f904a48ec1dd53019c9969b6ef1f        9\n",
              "3  0007235c769e610e3d339a17818a5708e41008d9       10\n",
              "4  0007c0e74728ca9ef0fe4eb7f75732e8026a278b        9"
            ]
          },
          "metadata": {
            "tags": []
          },
          "execution_count": 31
        }
      ]
    },
    {
      "cell_type": "code",
      "metadata": {
        "colab": {
          "base_uri": "https://localhost:8080/",
          "height": 1000
        },
        "id": "vX9DjYv5-Rbf",
        "outputId": "a6111eeb-8ebf-42ea-8385-57694254721a"
      },
      "source": [
        "fig = plt.figure(figsize =(10, 15))\n",
        "plt.boxplot(user_df[\"song_id\"])"
      ],
      "execution_count": 32,
      "outputs": [
        {
          "output_type": "execute_result",
          "data": {
            "text/plain": [
              "{'boxes': [<matplotlib.lines.Line2D at 0x7f6790982110>],\n",
              " 'caps': [<matplotlib.lines.Line2D at 0x7f679099b510>,\n",
              "  <matplotlib.lines.Line2D at 0x7f679099bc90>],\n",
              " 'fliers': [<matplotlib.lines.Line2D at 0x7f67909634d0>],\n",
              " 'means': [],\n",
              " 'medians': [<matplotlib.lines.Line2D at 0x7f6790963110>],\n",
              " 'whiskers': [<matplotlib.lines.Line2D at 0x7f6790982a10>,\n",
              "  <matplotlib.lines.Line2D at 0x7f6790982590>]}"
            ]
          },
          "metadata": {
            "tags": []
          },
          "execution_count": 32
        },
        {
          "output_type": "display_data",
          "data": {
            "image/png": "[encoded data removed]",
            "text/plain": [
              "<Figure size 720x1080 with 1 Axes>"
            ]
          },
          "metadata": {
            "tags": []
          }
        }
      ]
    },
    {
      "cell_type": "code",
      "metadata": {
        "colab": {
          "base_uri": "https://localhost:8080/"
        },
        "id": "zDMYGCLMBQOv",
        "outputId": "c63e2aab-ab09-4783-db74-bb86c6a810d2"
      },
      "source": [
        "print(\"Average number of time of user listen to song \",np.mean(user_df[\"song_id\"]))\n",
        "print(\"Median number of time, user listens to same song \", np.median(user_df[\"song_id\"]))\n",
        "print(\"number of users listening to song more than median number of times \",len(user_df[user_df[\"song_id\"]>np.median(user_df[\"song_id\"])].to_numpy()))\n",
        "print(\"Maximum time a user listens to this song \",np.max(user_df[\"song_id\"]))\n",
        "print(\"standard deviation of user listening to tthe song \",np.std(user_df[\"song_id\"]))\n",
        "print(\"25th percentile \",np.percentile(user_df[\"song_id\"], 25))"
      ],
      "execution_count": 33,
      "outputs": [
        {
          "output_type": "stream",
          "text": [
            "Average number of time of user listen to song  26.194124657839247\n",
            "Median number of time, user listens to same song  16.0\n",
            "number of users listening to song more than median number of times  36561\n",
            "Maximum time a user listens to this song  711\n",
            "standard deviation of user listening to tthe song  31.624871108843738\n",
            "25th percentile  9.0\n"
          ],
          "name": "stdout"
        }
      ]
    },
    {
      "cell_type": "code",
      "metadata": {
        "id": "hmW31S52Jaz8"
      },
      "source": [
        "user_threshold = user_df_pd[user_df_pd > 16].index.to_list()"
      ],
      "execution_count": 34,
      "outputs": []
    },
    {
      "cell_type": "code",
      "metadata": {
        "id": "R9u6KsewN5o3"
      },
      "source": [
        "user_df_threshold = merge_df[merge_df['user_id'].isin(user_threshold)].reset_index(drop=True)"
      ],
      "execution_count": 35,
      "outputs": []
    },
    {
      "cell_type": "code",
      "metadata": {
        "colab": {
          "base_uri": "https://localhost:8080/",
          "height": 206
        },
        "id": "Mjt3MwWtN9sA",
        "outputId": "2024ee8d-f19b-419c-9b50-263ece7ea5b8"
      },
      "source": [
        "user_df_threshold.head()"
      ],
      "execution_count": 86,
      "outputs": [
        {
          "output_type": "execute_result",
          "data": {
            "text/html": [
              "<div>\n",
              "<style scoped>\n",
              "    .dataframe tbody tr th:only-of-type {\n",
              "        vertical-align: middle;\n",
              "    }\n",
              "\n",
              "    .dataframe tbody tr th {\n",
              "        vertical-align: top;\n",
              "    }\n",
              "\n",
              "    .dataframe thead th {\n",
              "        text-align: right;\n",
              "    }\n",
              "</style>\n",
              "<table border=\"1\" class=\"dataframe\">\n",
              "  <thead>\n",
              "    <tr style=\"text-align: right;\">\n",
              "      <th></th>\n",
              "      <th>user_id</th>\n",
              "      <th>song_id</th>\n",
              "      <th>count</th>\n",
              "      <th>title</th>\n",
              "      <th>release</th>\n",
              "      <th>artist_name</th>\n",
              "      <th>year</th>\n",
              "    </tr>\n",
              "  </thead>\n",
              "  <tbody>\n",
              "    <tr>\n",
              "      <th>0</th>\n",
              "      <td>b80344d063b5ccb3212f76538f3d9e43d87dca9e</td>\n",
              "      <td>SOAKIMP12A8C130995</td>\n",
              "      <td>1</td>\n",
              "      <td>The Cove</td>\n",
              "      <td>Thicker Than Water</td>\n",
              "      <td>Jack Johnson</td>\n",
              "      <td>0</td>\n",
              "    </tr>\n",
              "    <tr>\n",
              "      <th>1</th>\n",
              "      <td>b80344d063b5ccb3212f76538f3d9e43d87dca9e</td>\n",
              "      <td>SOBBMDR12A8C13253B</td>\n",
              "      <td>2</td>\n",
              "      <td>Entre Dos Aguas</td>\n",
              "      <td>Flamenco Para Niños</td>\n",
              "      <td>Paco De Lucia</td>\n",
              "      <td>1976</td>\n",
              "    </tr>\n",
              "    <tr>\n",
              "      <th>2</th>\n",
              "      <td>b80344d063b5ccb3212f76538f3d9e43d87dca9e</td>\n",
              "      <td>SOBXHDL12A81C204C0</td>\n",
              "      <td>1</td>\n",
              "      <td>Stronger</td>\n",
              "      <td>Graduation</td>\n",
              "      <td>Kanye West</td>\n",
              "      <td>2007</td>\n",
              "    </tr>\n",
              "    <tr>\n",
              "      <th>3</th>\n",
              "      <td>b80344d063b5ccb3212f76538f3d9e43d87dca9e</td>\n",
              "      <td>SOBYHAJ12A6701BF1D</td>\n",
              "      <td>1</td>\n",
              "      <td>Constellations</td>\n",
              "      <td>In Between Dreams</td>\n",
              "      <td>Jack Johnson</td>\n",
              "      <td>2005</td>\n",
              "    </tr>\n",
              "    <tr>\n",
              "      <th>4</th>\n",
              "      <td>b80344d063b5ccb3212f76538f3d9e43d87dca9e</td>\n",
              "      <td>SODACBL12A8C13C273</td>\n",
              "      <td>1</td>\n",
              "      <td>Learn To Fly</td>\n",
              "      <td>There Is Nothing Left To Lose</td>\n",
              "      <td>Foo Fighters</td>\n",
              "      <td>1999</td>\n",
              "    </tr>\n",
              "  </tbody>\n",
              "</table>\n",
              "</div>"
            ],
            "text/plain": [
              "                                    user_id  ...  year\n",
              "0  b80344d063b5ccb3212f76538f3d9e43d87dca9e  ...     0\n",
              "1  b80344d063b5ccb3212f76538f3d9e43d87dca9e  ...  1976\n",
              "2  b80344d063b5ccb3212f76538f3d9e43d87dca9e  ...  2007\n",
              "3  b80344d063b5ccb3212f76538f3d9e43d87dca9e  ...  2005\n",
              "4  b80344d063b5ccb3212f76538f3d9e43d87dca9e  ...  1999\n",
              "\n",
              "[5 rows x 7 columns]"
            ]
          },
          "metadata": {
            "tags": []
          },
          "execution_count": 86
        }
      ]
    },
    {
      "cell_type": "code",
      "metadata": {
        "id": "ijSz1QBWQUd_"
      },
      "source": [
        "user_song = user_df_threshold.pivot(index='song_id', columns='user_id', values='count').fillna(0)"
      ],
      "execution_count": 37,
      "outputs": []
    },
    {
      "cell_type": "code",
      "metadata": {
        "colab": {
          "base_uri": "https://localhost:8080/",
          "height": 286
        },
        "id": "YWmt4aYHRmg-",
        "outputId": "32997aac-48d9-479f-e058-f213e20ca450"
      },
      "source": [
        "user_song.head()"
      ],
      "execution_count": 38,
      "outputs": [
        {
          "output_type": "execute_result",
          "data": {
            "text/html": [
              "<div>\n",
              "<style scoped>\n",
              "    .dataframe tbody tr th:only-of-type {\n",
              "        vertical-align: middle;\n",
              "    }\n",
              "\n",
              "    .dataframe tbody tr th {\n",
              "        vertical-align: top;\n",
              "    }\n",
              "\n",
              "    .dataframe thead th {\n",
              "        text-align: right;\n",
              "    }\n",
              "</style>\n",
              "<table border=\"1\" class=\"dataframe\">\n",
              "  <thead>\n",
              "    <tr style=\"text-align: right;\">\n",
              "      <th>user_id</th>\n",
              "      <th>000e2c2a8c7870ff9121f212b35c8b3a20cc0e67</th>\n",
              "      <th>000ebc858861aca26bac9b49f650ed424cf882fc</th>\n",
              "      <th>000ef25cc955ad5841c915d269432eea41f4a1a5</th>\n",
              "      <th>0012bf75d43a724f62dc746d9e85ae0088a3a1d6</th>\n",
              "      <th>001322829b5dc3edc59bf78189617ddd8f23c82a</th>\n",
              "      <th>00185e316f07f0f00c325ca034be59c15b362401</th>\n",
              "      <th>0019740e3e8c24e223a6f88e3faa7c144ec5a014</th>\n",
              "      <th>001b005fe5e80d3cb45f320f5658fc8e2e72794e</th>\n",
              "      <th>001f22c638730aed5659034c447d3cf0e658898e</th>\n",
              "      <th>0021d9a4628624f6d70237f9c200ab82e766bf26</th>\n",
              "      <th>002543003041db1d049206b09426d5cdffc0f451</th>\n",
              "      <th>0028292aa536122c1f86fd48a39bd83fe582d27f</th>\n",
              "      <th>00292cf9c6d6e99c5ddbece7e37f957ab1362d25</th>\n",
              "      <th>00296f66ed7fb84c876486aecc9fab2d5809576d</th>\n",
              "      <th>0030822badc23ef6500a72ce7feda1c63faf2262</th>\n",
              "      <th>0031572620fa7f18487d3ea22935eb28410ecc4c</th>\n",
              "      <th>003412e33eb3d05573f7811c1ba61d6a15be5690</th>\n",
              "      <th>00342a0cdf56a45465f09a39040a5bc25b7d0046</th>\n",
              "      <th>00388e5764c59488ec06a109c88b39f59a2b6361</th>\n",
              "      <th>0039bd8483d578997718cdc0bf6c7c88b679f488</th>\n",
              "      <th>003ac50a4e6ed0c9085fecb7a1738730e7ea4942</th>\n",
              "      <th>003bfb50126f91f6389aaee733f5b3e0a8d5cbe0</th>\n",
              "      <th>003d0f3aac94fd261bb74c0124a90750579972d4</th>\n",
              "      <th>003d21762b29fe2ffe20fb9a51eb1e02ebeb3242</th>\n",
              "      <th>003d6d799d58e1fce362f5f4f6c7bcc26c8f3546</th>\n",
              "      <th>003e3919f41dbb8ff05a75623d205f6abcede4fc</th>\n",
              "      <th>003f1064ed75d1156352cd89b25fb752bcc10b13</th>\n",
              "      <th>003f1e939952a57d1a5bc990727acad5ceea97b4</th>\n",
              "      <th>00409f6a83c2bf4299ab6ae2dea958050537b5a9</th>\n",
              "      <th>0041925615557845642a7b1257fdc6229fe1ee5d</th>\n",
              "      <th>00454c72c0b4b99f9cc81ba0b1989597a43669d6</th>\n",
              "      <th>0045c60d98ced5efb3cbf1e0b4b7de1da3f1a506</th>\n",
              "      <th>00488ec44caa0d2fa669780f8cb604bf39e94392</th>\n",
              "      <th>004c7be9336ca88824e1e0b09ef9a2168200fa33</th>\n",
              "      <th>004dc9f93f5ad4a75f9a3ba0da5dd887b31d6bd2</th>\n",
              "      <th>004f6065fa9840913f62e52d94d9c29ea1d26fe1</th>\n",
              "      <th>004fcdf8829d68f4e45ef846ad9f308c4493ed8e</th>\n",
              "      <th>0051a2e7b452e3dc67f48688442032df557897f4</th>\n",
              "      <th>00544d8bde0d7985e8d703c1eb676d41cad33c67</th>\n",
              "      <th>00546de8971645143eead323561d0298d5b0f2be</th>\n",
              "      <th>...</th>\n",
              "      <th>ffb63da2222280f299a7a896edea073728aab343</th>\n",
              "      <th>ffb7096f3eeee706825b4a8c3fab98ce0e0b4216</th>\n",
              "      <th>ffb8299fcb3f31716c93fb8a77dee0d1dbb210f9</th>\n",
              "      <th>ffba3563fd590a51dabc1dfcb8a27119e6035241</th>\n",
              "      <th>ffbc58b89c81227a08ee05d90259bdd9172b9479</th>\n",
              "      <th>ffbe437f18c3bea5c78596c5f3183ee62d440b6c</th>\n",
              "      <th>ffc2563e7dd136bf371371cd21f0cc404a1d7499</th>\n",
              "      <th>ffc564b85d81f0ea427cee3eea2415cc2fc5c4be</th>\n",
              "      <th>ffc5b3bd0575330eb8c4ae4f3b9cabd3ba315dbb</th>\n",
              "      <th>ffc66b4520671da6b2a67a0326201565160d9650</th>\n",
              "      <th>ffc9966885909a0b42493b2558be9dc451317488</th>\n",
              "      <th>ffcc2cff250ea22471df09e76f59e2be0debae72</th>\n",
              "      <th>ffcfb0b34a47fdf55b3d96c1799cd196677f8261</th>\n",
              "      <th>ffd1d617221f5bf00de80ee3eb5d2a17fc8d077d</th>\n",
              "      <th>ffd25d7da8b4e54ea2cde25dd3b52d0e0aef7a5d</th>\n",
              "      <th>ffd458f903d49854685cf4540245c1d297e8bafa</th>\n",
              "      <th>ffd6f34b343cee62cd7dbbf20fb1ab1119b299e5</th>\n",
              "      <th>ffda2736b2204ece3b19e941caacad4106d00ed5</th>\n",
              "      <th>ffdaab327f2fc6b9fa01a4e3e7f41fdd0e468046</th>\n",
              "      <th>ffdb5557e4e24da051ebd6b45ec18c524c55dc40</th>\n",
              "      <th>ffdbaeb5cf2081eb34053a655c20f57524de11ba</th>\n",
              "      <th>ffde97c0d23bf5ce249ce73e630ccb4e7293cc32</th>\n",
              "      <th>ffe2a7e7b6689071f8c699d944b52ce590ae4636</th>\n",
              "      <th>ffe33dce4e652a4dc4824cc39680a9f709cfdfb3</th>\n",
              "      <th>ffebfec313fd515a11faba060b022f030b57fac0</th>\n",
              "      <th>ffecbb84f3dde31b0b2e64d70b7b7e5092bf7427</th>\n",
              "      <th>ffef9c3e59ab44554a9775af5e3b2ac149111bb6</th>\n",
              "      <th>fff03efd1550136063389fa71125194614e1c68f</th>\n",
              "      <th>fff0b1ab076f0b71cbde9c7dcbcfca400708d845</th>\n",
              "      <th>fff22417a61c1ba3ee2592b22a052ed6a27a8e91</th>\n",
              "      <th>fff300cd094fe04030b79fae550dc9d065190182</th>\n",
              "      <th>fff4676dacb2e9a7217702f62ee70e88aa512ecc</th>\n",
              "      <th>fff4e1a7dacbe9c13051c08f09bf66d76cbee35e</th>\n",
              "      <th>fff543db7918cb8f4f56f7470903eb2f1d5a6dd8</th>\n",
              "      <th>fff6c30c773e6ffafcac213c9afd9666afaf6d63</th>\n",
              "      <th>fffb701ee87a32eff67eb040ed59146121f01571</th>\n",
              "      <th>fffc0df75a48d823ad5abfaf2a1ee61eb1e3302c</th>\n",
              "      <th>fffce9c1537fbc350ea68823d956eaa8f5236dbe</th>\n",
              "      <th>fffd9635b33f412de8ed02e44e6564e3644cf3c6</th>\n",
              "      <th>fffea3d509760c984e7d40789804c0e5e289cc86</th>\n",
              "    </tr>\n",
              "    <tr>\n",
              "      <th>song_id</th>\n",
              "      <th></th>\n",
              "      <th></th>\n",
              "      <th></th>\n",
              "      <th></th>\n",
              "      <th></th>\n",
              "      <th></th>\n",
              "      <th></th>\n",
              "      <th></th>\n",
              "      <th></th>\n",
              "      <th></th>\n",
              "      <th></th>\n",
              "      <th></th>\n",
              "      <th></th>\n",
              "      <th></th>\n",
              "      <th></th>\n",
              "      <th></th>\n",
              "      <th></th>\n",
              "      <th></th>\n",
              "      <th></th>\n",
              "      <th></th>\n",
              "      <th></th>\n",
              "      <th></th>\n",
              "      <th></th>\n",
              "      <th></th>\n",
              "      <th></th>\n",
              "      <th></th>\n",
              "      <th></th>\n",
              "      <th></th>\n",
              "      <th></th>\n",
              "      <th></th>\n",
              "      <th></th>\n",
              "      <th></th>\n",
              "      <th></th>\n",
              "      <th></th>\n",
              "      <th></th>\n",
              "      <th></th>\n",
              "      <th></th>\n",
              "      <th></th>\n",
              "      <th></th>\n",
              "      <th></th>\n",
              "      <th></th>\n",
              "      <th></th>\n",
              "      <th></th>\n",
              "      <th></th>\n",
              "      <th></th>\n",
              "      <th></th>\n",
              "      <th></th>\n",
              "      <th></th>\n",
              "      <th></th>\n",
              "      <th></th>\n",
              "      <th></th>\n",
              "      <th></th>\n",
              "      <th></th>\n",
              "      <th></th>\n",
              "      <th></th>\n",
              "      <th></th>\n",
              "      <th></th>\n",
              "      <th></th>\n",
              "      <th></th>\n",
              "      <th></th>\n",
              "      <th></th>\n",
              "      <th></th>\n",
              "      <th></th>\n",
              "      <th></th>\n",
              "      <th></th>\n",
              "      <th></th>\n",
              "      <th></th>\n",
              "      <th></th>\n",
              "      <th></th>\n",
              "      <th></th>\n",
              "      <th></th>\n",
              "      <th></th>\n",
              "      <th></th>\n",
              "      <th></th>\n",
              "      <th></th>\n",
              "      <th></th>\n",
              "      <th></th>\n",
              "      <th></th>\n",
              "      <th></th>\n",
              "      <th></th>\n",
              "      <th></th>\n",
              "    </tr>\n",
              "  </thead>\n",
              "  <tbody>\n",
              "    <tr>\n",
              "      <th>SOAAAGQ12A8C1420C8</th>\n",
              "      <td>0.0</td>\n",
              "      <td>0.0</td>\n",
              "      <td>0.0</td>\n",
              "      <td>0.0</td>\n",
              "      <td>0.0</td>\n",
              "      <td>0.0</td>\n",
              "      <td>0.0</td>\n",
              "      <td>0.0</td>\n",
              "      <td>0.0</td>\n",
              "      <td>0.0</td>\n",
              "      <td>0.0</td>\n",
              "      <td>0.0</td>\n",
              "      <td>0.0</td>\n",
              "      <td>0.0</td>\n",
              "      <td>0.0</td>\n",
              "      <td>0.0</td>\n",
              "      <td>0.0</td>\n",
              "      <td>0.0</td>\n",
              "      <td>0.0</td>\n",
              "      <td>0.0</td>\n",
              "      <td>0.0</td>\n",
              "      <td>0.0</td>\n",
              "      <td>0.0</td>\n",
              "      <td>0.0</td>\n",
              "      <td>0.0</td>\n",
              "      <td>0.0</td>\n",
              "      <td>0.0</td>\n",
              "      <td>0.0</td>\n",
              "      <td>0.0</td>\n",
              "      <td>0.0</td>\n",
              "      <td>0.0</td>\n",
              "      <td>0.0</td>\n",
              "      <td>0.0</td>\n",
              "      <td>0.0</td>\n",
              "      <td>0.0</td>\n",
              "      <td>0.0</td>\n",
              "      <td>0.0</td>\n",
              "      <td>0.0</td>\n",
              "      <td>0.0</td>\n",
              "      <td>0.0</td>\n",
              "      <td>...</td>\n",
              "      <td>0.0</td>\n",
              "      <td>0.0</td>\n",
              "      <td>0.0</td>\n",
              "      <td>0.0</td>\n",
              "      <td>0.0</td>\n",
              "      <td>0.0</td>\n",
              "      <td>0.0</td>\n",
              "      <td>0.0</td>\n",
              "      <td>0.0</td>\n",
              "      <td>0.0</td>\n",
              "      <td>0.0</td>\n",
              "      <td>0.0</td>\n",
              "      <td>0.0</td>\n",
              "      <td>0.0</td>\n",
              "      <td>0.0</td>\n",
              "      <td>0.0</td>\n",
              "      <td>0.0</td>\n",
              "      <td>0.0</td>\n",
              "      <td>0.0</td>\n",
              "      <td>0.0</td>\n",
              "      <td>0.0</td>\n",
              "      <td>0.0</td>\n",
              "      <td>0.0</td>\n",
              "      <td>0.0</td>\n",
              "      <td>0.0</td>\n",
              "      <td>0.0</td>\n",
              "      <td>0.0</td>\n",
              "      <td>0.0</td>\n",
              "      <td>0.0</td>\n",
              "      <td>0.0</td>\n",
              "      <td>0.0</td>\n",
              "      <td>0.0</td>\n",
              "      <td>0.0</td>\n",
              "      <td>0.0</td>\n",
              "      <td>0.0</td>\n",
              "      <td>0.0</td>\n",
              "      <td>0.0</td>\n",
              "      <td>0.0</td>\n",
              "      <td>0.0</td>\n",
              "      <td>0.0</td>\n",
              "    </tr>\n",
              "    <tr>\n",
              "      <th>SOAACPJ12A81C21360</th>\n",
              "      <td>0.0</td>\n",
              "      <td>0.0</td>\n",
              "      <td>0.0</td>\n",
              "      <td>0.0</td>\n",
              "      <td>0.0</td>\n",
              "      <td>0.0</td>\n",
              "      <td>0.0</td>\n",
              "      <td>0.0</td>\n",
              "      <td>0.0</td>\n",
              "      <td>0.0</td>\n",
              "      <td>0.0</td>\n",
              "      <td>0.0</td>\n",
              "      <td>0.0</td>\n",
              "      <td>0.0</td>\n",
              "      <td>0.0</td>\n",
              "      <td>0.0</td>\n",
              "      <td>0.0</td>\n",
              "      <td>0.0</td>\n",
              "      <td>0.0</td>\n",
              "      <td>0.0</td>\n",
              "      <td>0.0</td>\n",
              "      <td>0.0</td>\n",
              "      <td>0.0</td>\n",
              "      <td>0.0</td>\n",
              "      <td>0.0</td>\n",
              "      <td>0.0</td>\n",
              "      <td>0.0</td>\n",
              "      <td>0.0</td>\n",
              "      <td>0.0</td>\n",
              "      <td>0.0</td>\n",
              "      <td>0.0</td>\n",
              "      <td>0.0</td>\n",
              "      <td>0.0</td>\n",
              "      <td>0.0</td>\n",
              "      <td>0.0</td>\n",
              "      <td>0.0</td>\n",
              "      <td>0.0</td>\n",
              "      <td>0.0</td>\n",
              "      <td>0.0</td>\n",
              "      <td>0.0</td>\n",
              "      <td>...</td>\n",
              "      <td>0.0</td>\n",
              "      <td>0.0</td>\n",
              "      <td>0.0</td>\n",
              "      <td>0.0</td>\n",
              "      <td>0.0</td>\n",
              "      <td>0.0</td>\n",
              "      <td>0.0</td>\n",
              "      <td>0.0</td>\n",
              "      <td>0.0</td>\n",
              "      <td>0.0</td>\n",
              "      <td>0.0</td>\n",
              "      <td>0.0</td>\n",
              "      <td>0.0</td>\n",
              "      <td>0.0</td>\n",
              "      <td>0.0</td>\n",
              "      <td>0.0</td>\n",
              "      <td>0.0</td>\n",
              "      <td>0.0</td>\n",
              "      <td>0.0</td>\n",
              "      <td>0.0</td>\n",
              "      <td>0.0</td>\n",
              "      <td>0.0</td>\n",
              "      <td>0.0</td>\n",
              "      <td>0.0</td>\n",
              "      <td>0.0</td>\n",
              "      <td>0.0</td>\n",
              "      <td>0.0</td>\n",
              "      <td>0.0</td>\n",
              "      <td>0.0</td>\n",
              "      <td>0.0</td>\n",
              "      <td>0.0</td>\n",
              "      <td>0.0</td>\n",
              "      <td>0.0</td>\n",
              "      <td>0.0</td>\n",
              "      <td>0.0</td>\n",
              "      <td>0.0</td>\n",
              "      <td>0.0</td>\n",
              "      <td>0.0</td>\n",
              "      <td>0.0</td>\n",
              "      <td>0.0</td>\n",
              "    </tr>\n",
              "    <tr>\n",
              "      <th>SOAACSG12AB018DC80</th>\n",
              "      <td>0.0</td>\n",
              "      <td>0.0</td>\n",
              "      <td>0.0</td>\n",
              "      <td>0.0</td>\n",
              "      <td>0.0</td>\n",
              "      <td>0.0</td>\n",
              "      <td>0.0</td>\n",
              "      <td>0.0</td>\n",
              "      <td>0.0</td>\n",
              "      <td>0.0</td>\n",
              "      <td>0.0</td>\n",
              "      <td>0.0</td>\n",
              "      <td>0.0</td>\n",
              "      <td>0.0</td>\n",
              "      <td>0.0</td>\n",
              "      <td>0.0</td>\n",
              "      <td>0.0</td>\n",
              "      <td>0.0</td>\n",
              "      <td>0.0</td>\n",
              "      <td>0.0</td>\n",
              "      <td>0.0</td>\n",
              "      <td>0.0</td>\n",
              "      <td>0.0</td>\n",
              "      <td>0.0</td>\n",
              "      <td>0.0</td>\n",
              "      <td>0.0</td>\n",
              "      <td>0.0</td>\n",
              "      <td>0.0</td>\n",
              "      <td>0.0</td>\n",
              "      <td>0.0</td>\n",
              "      <td>0.0</td>\n",
              "      <td>0.0</td>\n",
              "      <td>0.0</td>\n",
              "      <td>0.0</td>\n",
              "      <td>0.0</td>\n",
              "      <td>0.0</td>\n",
              "      <td>0.0</td>\n",
              "      <td>0.0</td>\n",
              "      <td>0.0</td>\n",
              "      <td>0.0</td>\n",
              "      <td>...</td>\n",
              "      <td>0.0</td>\n",
              "      <td>0.0</td>\n",
              "      <td>0.0</td>\n",
              "      <td>0.0</td>\n",
              "      <td>0.0</td>\n",
              "      <td>0.0</td>\n",
              "      <td>0.0</td>\n",
              "      <td>0.0</td>\n",
              "      <td>0.0</td>\n",
              "      <td>0.0</td>\n",
              "      <td>0.0</td>\n",
              "      <td>0.0</td>\n",
              "      <td>0.0</td>\n",
              "      <td>0.0</td>\n",
              "      <td>0.0</td>\n",
              "      <td>0.0</td>\n",
              "      <td>0.0</td>\n",
              "      <td>0.0</td>\n",
              "      <td>0.0</td>\n",
              "      <td>0.0</td>\n",
              "      <td>0.0</td>\n",
              "      <td>0.0</td>\n",
              "      <td>0.0</td>\n",
              "      <td>0.0</td>\n",
              "      <td>0.0</td>\n",
              "      <td>0.0</td>\n",
              "      <td>0.0</td>\n",
              "      <td>0.0</td>\n",
              "      <td>0.0</td>\n",
              "      <td>0.0</td>\n",
              "      <td>0.0</td>\n",
              "      <td>0.0</td>\n",
              "      <td>0.0</td>\n",
              "      <td>0.0</td>\n",
              "      <td>0.0</td>\n",
              "      <td>0.0</td>\n",
              "      <td>0.0</td>\n",
              "      <td>0.0</td>\n",
              "      <td>0.0</td>\n",
              "      <td>0.0</td>\n",
              "    </tr>\n",
              "    <tr>\n",
              "      <th>SOAAEJI12AB0188AB5</th>\n",
              "      <td>0.0</td>\n",
              "      <td>0.0</td>\n",
              "      <td>0.0</td>\n",
              "      <td>0.0</td>\n",
              "      <td>0.0</td>\n",
              "      <td>0.0</td>\n",
              "      <td>0.0</td>\n",
              "      <td>0.0</td>\n",
              "      <td>0.0</td>\n",
              "      <td>0.0</td>\n",
              "      <td>0.0</td>\n",
              "      <td>0.0</td>\n",
              "      <td>0.0</td>\n",
              "      <td>0.0</td>\n",
              "      <td>0.0</td>\n",
              "      <td>0.0</td>\n",
              "      <td>0.0</td>\n",
              "      <td>0.0</td>\n",
              "      <td>0.0</td>\n",
              "      <td>0.0</td>\n",
              "      <td>0.0</td>\n",
              "      <td>0.0</td>\n",
              "      <td>0.0</td>\n",
              "      <td>0.0</td>\n",
              "      <td>0.0</td>\n",
              "      <td>0.0</td>\n",
              "      <td>0.0</td>\n",
              "      <td>0.0</td>\n",
              "      <td>0.0</td>\n",
              "      <td>0.0</td>\n",
              "      <td>0.0</td>\n",
              "      <td>0.0</td>\n",
              "      <td>0.0</td>\n",
              "      <td>0.0</td>\n",
              "      <td>0.0</td>\n",
              "      <td>0.0</td>\n",
              "      <td>0.0</td>\n",
              "      <td>0.0</td>\n",
              "      <td>0.0</td>\n",
              "      <td>0.0</td>\n",
              "      <td>...</td>\n",
              "      <td>0.0</td>\n",
              "      <td>0.0</td>\n",
              "      <td>0.0</td>\n",
              "      <td>0.0</td>\n",
              "      <td>0.0</td>\n",
              "      <td>0.0</td>\n",
              "      <td>0.0</td>\n",
              "      <td>0.0</td>\n",
              "      <td>0.0</td>\n",
              "      <td>0.0</td>\n",
              "      <td>0.0</td>\n",
              "      <td>0.0</td>\n",
              "      <td>0.0</td>\n",
              "      <td>0.0</td>\n",
              "      <td>0.0</td>\n",
              "      <td>0.0</td>\n",
              "      <td>0.0</td>\n",
              "      <td>0.0</td>\n",
              "      <td>1.0</td>\n",
              "      <td>0.0</td>\n",
              "      <td>0.0</td>\n",
              "      <td>0.0</td>\n",
              "      <td>0.0</td>\n",
              "      <td>0.0</td>\n",
              "      <td>0.0</td>\n",
              "      <td>0.0</td>\n",
              "      <td>0.0</td>\n",
              "      <td>0.0</td>\n",
              "      <td>0.0</td>\n",
              "      <td>0.0</td>\n",
              "      <td>0.0</td>\n",
              "      <td>0.0</td>\n",
              "      <td>0.0</td>\n",
              "      <td>0.0</td>\n",
              "      <td>0.0</td>\n",
              "      <td>0.0</td>\n",
              "      <td>0.0</td>\n",
              "      <td>0.0</td>\n",
              "      <td>0.0</td>\n",
              "      <td>0.0</td>\n",
              "    </tr>\n",
              "    <tr>\n",
              "      <th>SOAAFAC12A67ADF7EB</th>\n",
              "      <td>0.0</td>\n",
              "      <td>0.0</td>\n",
              "      <td>0.0</td>\n",
              "      <td>0.0</td>\n",
              "      <td>0.0</td>\n",
              "      <td>0.0</td>\n",
              "      <td>0.0</td>\n",
              "      <td>0.0</td>\n",
              "      <td>0.0</td>\n",
              "      <td>0.0</td>\n",
              "      <td>0.0</td>\n",
              "      <td>0.0</td>\n",
              "      <td>0.0</td>\n",
              "      <td>0.0</td>\n",
              "      <td>0.0</td>\n",
              "      <td>0.0</td>\n",
              "      <td>0.0</td>\n",
              "      <td>0.0</td>\n",
              "      <td>0.0</td>\n",
              "      <td>0.0</td>\n",
              "      <td>0.0</td>\n",
              "      <td>0.0</td>\n",
              "      <td>0.0</td>\n",
              "      <td>0.0</td>\n",
              "      <td>0.0</td>\n",
              "      <td>0.0</td>\n",
              "      <td>0.0</td>\n",
              "      <td>0.0</td>\n",
              "      <td>0.0</td>\n",
              "      <td>0.0</td>\n",
              "      <td>0.0</td>\n",
              "      <td>0.0</td>\n",
              "      <td>0.0</td>\n",
              "      <td>0.0</td>\n",
              "      <td>0.0</td>\n",
              "      <td>0.0</td>\n",
              "      <td>0.0</td>\n",
              "      <td>0.0</td>\n",
              "      <td>0.0</td>\n",
              "      <td>0.0</td>\n",
              "      <td>...</td>\n",
              "      <td>0.0</td>\n",
              "      <td>0.0</td>\n",
              "      <td>0.0</td>\n",
              "      <td>0.0</td>\n",
              "      <td>0.0</td>\n",
              "      <td>0.0</td>\n",
              "      <td>0.0</td>\n",
              "      <td>0.0</td>\n",
              "      <td>0.0</td>\n",
              "      <td>0.0</td>\n",
              "      <td>0.0</td>\n",
              "      <td>0.0</td>\n",
              "      <td>0.0</td>\n",
              "      <td>0.0</td>\n",
              "      <td>0.0</td>\n",
              "      <td>1.0</td>\n",
              "      <td>0.0</td>\n",
              "      <td>0.0</td>\n",
              "      <td>0.0</td>\n",
              "      <td>0.0</td>\n",
              "      <td>0.0</td>\n",
              "      <td>0.0</td>\n",
              "      <td>0.0</td>\n",
              "      <td>0.0</td>\n",
              "      <td>0.0</td>\n",
              "      <td>0.0</td>\n",
              "      <td>0.0</td>\n",
              "      <td>0.0</td>\n",
              "      <td>0.0</td>\n",
              "      <td>0.0</td>\n",
              "      <td>0.0</td>\n",
              "      <td>0.0</td>\n",
              "      <td>0.0</td>\n",
              "      <td>0.0</td>\n",
              "      <td>0.0</td>\n",
              "      <td>0.0</td>\n",
              "      <td>0.0</td>\n",
              "      <td>0.0</td>\n",
              "      <td>0.0</td>\n",
              "      <td>0.0</td>\n",
              "    </tr>\n",
              "  </tbody>\n",
              "</table>\n",
              "<p>5 rows × 36561 columns</p>\n",
              "</div>"
            ],
            "text/plain": [
              "user_id             000e2c2a8c7870ff9121f212b35c8b3a20cc0e67  ...  fffea3d509760c984e7d40789804c0e5e289cc86\n",
              "song_id                                                       ...                                          \n",
              "SOAAAGQ12A8C1420C8                                       0.0  ...                                       0.0\n",
              "SOAACPJ12A81C21360                                       0.0  ...                                       0.0\n",
              "SOAACSG12AB018DC80                                       0.0  ...                                       0.0\n",
              "SOAAEJI12AB0188AB5                                       0.0  ...                                       0.0\n",
              "SOAAFAC12A67ADF7EB                                       0.0  ...                                       0.0\n",
              "\n",
              "[5 rows x 36561 columns]"
            ]
          },
          "metadata": {
            "tags": []
          },
          "execution_count": 38
        }
      ]
    },
    {
      "cell_type": "code",
      "metadata": {
        "colab": {
          "base_uri": "https://localhost:8080/"
        },
        "id": "FEgod_Ng4Lrp",
        "outputId": "306a472a-b4b3-4e26-cd7d-cd84dc13a480"
      },
      "source": [
        "user_song.values"
      ],
      "execution_count": 39,
      "outputs": [
        {
          "output_type": "execute_result",
          "data": {
            "text/plain": [
              "array([[0., 0., 0., ..., 0., 0., 0.],\n",
              "       [0., 0., 0., ..., 0., 0., 0.],\n",
              "       [0., 0., 0., ..., 0., 0., 0.],\n",
              "       ...,\n",
              "       [0., 0., 0., ..., 0., 0., 0.],\n",
              "       [0., 0., 0., ..., 0., 0., 0.],\n",
              "       [0., 0., 0., ..., 0., 0., 0.]])"
            ]
          },
          "metadata": {
            "tags": []
          },
          "execution_count": 39
        }
      ]
    },
    {
      "cell_type": "code",
      "metadata": {
        "id": "JMuMu5uo4Rtp"
      },
      "source": [
        "user_song_sparse = csr_matrix(user_song.values)"
      ],
      "execution_count": 40,
      "outputs": []
    },
    {
      "cell_type": "code",
      "metadata": {
        "id": "Ohgwt4aS792-",
        "colab": {
          "base_uri": "https://localhost:8080/"
        },
        "outputId": "ccba104b-f677-4f26-c9db-2184b6cb2231"
      },
      "source": [
        "user_song_sparse"
      ],
      "execution_count": 41,
      "outputs": [
        {
          "output_type": "execute_result",
          "data": {
            "text/plain": [
              "<10000x36561 sparse matrix of type '<class 'numpy.float64'>'\n",
              "\twith 1635302 stored elements in Compressed Sparse Row format>"
            ]
          },
          "metadata": {
            "tags": []
          },
          "execution_count": 41
        }
      ]
    },
    {
      "cell_type": "code",
      "metadata": {
        "id": "CPLyqaqM7-tK"
      },
      "source": [
        "df_unique_songs = merge_df.drop_duplicates(subset=['song_id']).reset_index(drop=True)[['song_id', 'title']]"
      ],
      "execution_count": 42,
      "outputs": []
    },
    {
      "cell_type": "code",
      "metadata": {
        "id": "Ee2o-M_0I4Oz"
      },
      "source": [
        "decode_id_song = {\n",
        "    song: i for i, song in \n",
        "    enumerate(list(df_unique_songs.set_index('song_id').loc[user_song.index].title))\n",
        "}"
      ],
      "execution_count": 43,
      "outputs": []
    },
    {
      "cell_type": "code",
      "metadata": {
        "id": "1YG2LV_GI_Gs"
      },
      "source": [
        "from sklearn.neighbors import NearestNeighbors"
      ],
      "execution_count": 44,
      "outputs": []
    },
    {
      "cell_type": "code",
      "metadata": {
        "id": "vBz2y2penA-u"
      },
      "source": [
        " k_neighbor = NearestNeighbors(metric=\"cosine\", algorithm=\"brute\", n_neighbors=20, n_jobs=-1).fit(user_song_sparse)"
      ],
      "execution_count": 45,
      "outputs": []
    },
    {
      "cell_type": "code",
      "metadata": {
        "colab": {
          "base_uri": "https://localhost:8080/",
          "height": 206
        },
        "id": "7oZqdhjxnWVH",
        "outputId": "935a3fb8-8f14-4c07-8362-8da8b279d37e"
      },
      "source": [
        "text_df.head()"
      ],
      "execution_count": 46,
      "outputs": [
        {
          "output_type": "execute_result",
          "data": {
            "text/html": [
              "<div>\n",
              "<style scoped>\n",
              "    .dataframe tbody tr th:only-of-type {\n",
              "        vertical-align: middle;\n",
              "    }\n",
              "\n",
              "    .dataframe tbody tr th {\n",
              "        vertical-align: top;\n",
              "    }\n",
              "\n",
              "    .dataframe thead th {\n",
              "        text-align: right;\n",
              "    }\n",
              "</style>\n",
              "<table border=\"1\" class=\"dataframe\">\n",
              "  <thead>\n",
              "    <tr style=\"text-align: right;\">\n",
              "      <th></th>\n",
              "      <th>user_id</th>\n",
              "      <th>song_id</th>\n",
              "      <th>count</th>\n",
              "    </tr>\n",
              "  </thead>\n",
              "  <tbody>\n",
              "    <tr>\n",
              "      <th>0</th>\n",
              "      <td>b80344d063b5ccb3212f76538f3d9e43d87dca9e</td>\n",
              "      <td>SOAKIMP12A8C130995</td>\n",
              "      <td>1</td>\n",
              "    </tr>\n",
              "    <tr>\n",
              "      <th>1</th>\n",
              "      <td>b80344d063b5ccb3212f76538f3d9e43d87dca9e</td>\n",
              "      <td>SOBBMDR12A8C13253B</td>\n",
              "      <td>2</td>\n",
              "    </tr>\n",
              "    <tr>\n",
              "      <th>2</th>\n",
              "      <td>b80344d063b5ccb3212f76538f3d9e43d87dca9e</td>\n",
              "      <td>SOBXHDL12A81C204C0</td>\n",
              "      <td>1</td>\n",
              "    </tr>\n",
              "    <tr>\n",
              "      <th>3</th>\n",
              "      <td>b80344d063b5ccb3212f76538f3d9e43d87dca9e</td>\n",
              "      <td>SOBYHAJ12A6701BF1D</td>\n",
              "      <td>1</td>\n",
              "    </tr>\n",
              "    <tr>\n",
              "      <th>4</th>\n",
              "      <td>b80344d063b5ccb3212f76538f3d9e43d87dca9e</td>\n",
              "      <td>SODACBL12A8C13C273</td>\n",
              "      <td>1</td>\n",
              "    </tr>\n",
              "  </tbody>\n",
              "</table>\n",
              "</div>"
            ],
            "text/plain": [
              "                                    user_id             song_id  count\n",
              "0  b80344d063b5ccb3212f76538f3d9e43d87dca9e  SOAKIMP12A8C130995      1\n",
              "1  b80344d063b5ccb3212f76538f3d9e43d87dca9e  SOBBMDR12A8C13253B      2\n",
              "2  b80344d063b5ccb3212f76538f3d9e43d87dca9e  SOBXHDL12A81C204C0      1\n",
              "3  b80344d063b5ccb3212f76538f3d9e43d87dca9e  SOBYHAJ12A6701BF1D      1\n",
              "4  b80344d063b5ccb3212f76538f3d9e43d87dca9e  SODACBL12A8C13C273      1"
            ]
          },
          "metadata": {
            "tags": []
          },
          "execution_count": 46
        }
      ]
    },
    {
      "cell_type": "code",
      "metadata": {
        "id": "cJUNA1hcSnM0"
      },
      "source": [
        "# def to_rating(count):\n",
        "#   if count<=1:\n",
        "#     return 1\n",
        "#   elif count>1 and count<=2:\n",
        "#     return 2\n",
        "#   elif count>2 and count<=3:\n",
        "#     return 3\n",
        "#   elif count>3 and count<=4:\n",
        "#     return 4\n",
        "#   elif count>5:\n",
        "#     return 5"
      ],
      "execution_count": 47,
      "outputs": []
    },
    {
      "cell_type": "code",
      "metadata": {
        "id": "QIkBvFAES7OM"
      },
      "source": [
        "# text_df[\"rating\"] = text_df[\"count\"].apply(lambda x: to_rating(int(x)))"
      ],
      "execution_count": 48,
      "outputs": []
    },
    {
      "cell_type": "code",
      "metadata": {
        "id": "U-1SM4AoUNJT"
      },
      "source": [
        "# text_df = text_df.drop(\"count\",axis=1)\n",
        "# text_df.head()"
      ],
      "execution_count": 49,
      "outputs": []
    },
    {
      "cell_type": "code",
      "metadata": {
        "colab": {
          "base_uri": "https://localhost:8080/",
          "height": 206
        },
        "id": "4AhZD_3mVAoX",
        "outputId": "9fe57488-afae-440c-b1e3-cff12cb4de77"
      },
      "source": [
        "text_df_temp = text_df.head(10000)\n",
        "text_df_temp.columns = ['userID', 'itemID', 'rating']\n",
        "# text_df_temp = text_df_temp[name = names]\n",
        "text_df_temp.head()"
      ],
      "execution_count": 60,
      "outputs": [
        {
          "output_type": "execute_result",
          "data": {
            "text/html": [
              "<div>\n",
              "<style scoped>\n",
              "    .dataframe tbody tr th:only-of-type {\n",
              "        vertical-align: middle;\n",
              "    }\n",
              "\n",
              "    .dataframe tbody tr th {\n",
              "        vertical-align: top;\n",
              "    }\n",
              "\n",
              "    .dataframe thead th {\n",
              "        text-align: right;\n",
              "    }\n",
              "</style>\n",
              "<table border=\"1\" class=\"dataframe\">\n",
              "  <thead>\n",
              "    <tr style=\"text-align: right;\">\n",
              "      <th></th>\n",
              "      <th>userID</th>\n",
              "      <th>itemID</th>\n",
              "      <th>rating</th>\n",
              "    </tr>\n",
              "  </thead>\n",
              "  <tbody>\n",
              "    <tr>\n",
              "      <th>0</th>\n",
              "      <td>b80344d063b5ccb3212f76538f3d9e43d87dca9e</td>\n",
              "      <td>SOAKIMP12A8C130995</td>\n",
              "      <td>1</td>\n",
              "    </tr>\n",
              "    <tr>\n",
              "      <th>1</th>\n",
              "      <td>b80344d063b5ccb3212f76538f3d9e43d87dca9e</td>\n",
              "      <td>SOBBMDR12A8C13253B</td>\n",
              "      <td>2</td>\n",
              "    </tr>\n",
              "    <tr>\n",
              "      <th>2</th>\n",
              "      <td>b80344d063b5ccb3212f76538f3d9e43d87dca9e</td>\n",
              "      <td>SOBXHDL12A81C204C0</td>\n",
              "      <td>1</td>\n",
              "    </tr>\n",
              "    <tr>\n",
              "      <th>3</th>\n",
              "      <td>b80344d063b5ccb3212f76538f3d9e43d87dca9e</td>\n",
              "      <td>SOBYHAJ12A6701BF1D</td>\n",
              "      <td>1</td>\n",
              "    </tr>\n",
              "    <tr>\n",
              "      <th>4</th>\n",
              "      <td>b80344d063b5ccb3212f76538f3d9e43d87dca9e</td>\n",
              "      <td>SODACBL12A8C13C273</td>\n",
              "      <td>1</td>\n",
              "    </tr>\n",
              "  </tbody>\n",
              "</table>\n",
              "</div>"
            ],
            "text/plain": [
              "                                     userID              itemID  rating\n",
              "0  b80344d063b5ccb3212f76538f3d9e43d87dca9e  SOAKIMP12A8C130995       1\n",
              "1  b80344d063b5ccb3212f76538f3d9e43d87dca9e  SOBBMDR12A8C13253B       2\n",
              "2  b80344d063b5ccb3212f76538f3d9e43d87dca9e  SOBXHDL12A81C204C0       1\n",
              "3  b80344d063b5ccb3212f76538f3d9e43d87dca9e  SOBYHAJ12A6701BF1D       1\n",
              "4  b80344d063b5ccb3212f76538f3d9e43d87dca9e  SODACBL12A8C13C273       1"
            ]
          },
          "metadata": {
            "tags": []
          },
          "execution_count": 60
        }
      ]
    },
    {
      "cell_type": "code",
      "metadata": {
        "colab": {
          "base_uri": "https://localhost:8080/",
          "height": 206
        },
        "id": "Uo0GX2CmM6EY",
        "outputId": "50b82591-0346-4ecc-c83c-57d3563429f5"
      },
      "source": [
        "text_df.columns = ['userID', 'itemID', 'rating']\n",
        "text_df.head()"
      ],
      "execution_count": 61,
      "outputs": [
        {
          "output_type": "execute_result",
          "data": {
            "text/html": [
              "<div>\n",
              "<style scoped>\n",
              "    .dataframe tbody tr th:only-of-type {\n",
              "        vertical-align: middle;\n",
              "    }\n",
              "\n",
              "    .dataframe tbody tr th {\n",
              "        vertical-align: top;\n",
              "    }\n",
              "\n",
              "    .dataframe thead th {\n",
              "        text-align: right;\n",
              "    }\n",
              "</style>\n",
              "<table border=\"1\" class=\"dataframe\">\n",
              "  <thead>\n",
              "    <tr style=\"text-align: right;\">\n",
              "      <th></th>\n",
              "      <th>userID</th>\n",
              "      <th>itemID</th>\n",
              "      <th>rating</th>\n",
              "    </tr>\n",
              "  </thead>\n",
              "  <tbody>\n",
              "    <tr>\n",
              "      <th>0</th>\n",
              "      <td>b80344d063b5ccb3212f76538f3d9e43d87dca9e</td>\n",
              "      <td>SOAKIMP12A8C130995</td>\n",
              "      <td>1</td>\n",
              "    </tr>\n",
              "    <tr>\n",
              "      <th>1</th>\n",
              "      <td>b80344d063b5ccb3212f76538f3d9e43d87dca9e</td>\n",
              "      <td>SOBBMDR12A8C13253B</td>\n",
              "      <td>2</td>\n",
              "    </tr>\n",
              "    <tr>\n",
              "      <th>2</th>\n",
              "      <td>b80344d063b5ccb3212f76538f3d9e43d87dca9e</td>\n",
              "      <td>SOBXHDL12A81C204C0</td>\n",
              "      <td>1</td>\n",
              "    </tr>\n",
              "    <tr>\n",
              "      <th>3</th>\n",
              "      <td>b80344d063b5ccb3212f76538f3d9e43d87dca9e</td>\n",
              "      <td>SOBYHAJ12A6701BF1D</td>\n",
              "      <td>1</td>\n",
              "    </tr>\n",
              "    <tr>\n",
              "      <th>4</th>\n",
              "      <td>b80344d063b5ccb3212f76538f3d9e43d87dca9e</td>\n",
              "      <td>SODACBL12A8C13C273</td>\n",
              "      <td>1</td>\n",
              "    </tr>\n",
              "  </tbody>\n",
              "</table>\n",
              "</div>"
            ],
            "text/plain": [
              "                                     userID              itemID  rating\n",
              "0  b80344d063b5ccb3212f76538f3d9e43d87dca9e  SOAKIMP12A8C130995       1\n",
              "1  b80344d063b5ccb3212f76538f3d9e43d87dca9e  SOBBMDR12A8C13253B       2\n",
              "2  b80344d063b5ccb3212f76538f3d9e43d87dca9e  SOBXHDL12A81C204C0       1\n",
              "3  b80344d063b5ccb3212f76538f3d9e43d87dca9e  SOBYHAJ12A6701BF1D       1\n",
              "4  b80344d063b5ccb3212f76538f3d9e43d87dca9e  SODACBL12A8C13C273       1"
            ]
          },
          "metadata": {
            "tags": []
          },
          "execution_count": 61
        }
      ]
    },
    {
      "cell_type": "markdown",
      "metadata": {
        "id": "Z3bfzAtXHhAt"
      },
      "source": [
        "#Surprise Package"
      ]
    },
    {
      "cell_type": "code",
      "metadata": {
        "colab": {
          "base_uri": "https://localhost:8080/"
        },
        "id": "qw0pzJwZHisX",
        "outputId": "fe796ce1-1c50-4a69-ce29-fab7b5a4a954"
      },
      "source": [
        "!pip3 install surprise"
      ],
      "execution_count": 52,
      "outputs": [
        {
          "output_type": "stream",
          "text": [
            "Collecting surprise\n",
            "  Downloading surprise-0.1-py2.py3-none-any.whl (1.8 kB)\n",
            "Collecting scikit-surprise\n",
            "  Downloading scikit-surprise-1.1.1.tar.gz (11.8 MB)\n",
            "\u001b[K     |████████████████████████████████| 11.8 MB 48 kB/s \n",
            "\u001b[?25hRequirement already satisfied: joblib>=0.11 in /usr/local/lib/python3.7/dist-packages (from scikit-surprise->surprise) (1.0.1)\n",
            "Requirement already satisfied: numpy>=1.11.2 in /usr/local/lib/python3.7/dist-packages (from scikit-surprise->surprise) (1.19.5)\n",
            "Requirement already satisfied: scipy>=1.0.0 in /usr/local/lib/python3.7/dist-packages (from scikit-surprise->surprise) (1.4.1)\n",
            "Requirement already satisfied: six>=1.10.0 in /usr/local/lib/python3.7/dist-packages (from scikit-surprise->surprise) (1.15.0)\n",
            "Building wheels for collected packages: scikit-surprise\n",
            "  Building wheel for scikit-surprise (setup.py) ... \u001b[?25l\u001b[?25hdone\n",
            "  Created wheel for scikit-surprise: filename=scikit_surprise-1.1.1-cp37-cp37m-linux_x86_64.whl size=1617769 sha256=3da0ac1bf7f3f070362b2c07da61d39f9ed761d2a8b9b11fa1e155a6df21b478\n",
            "  Stored in directory: /root/.cache/pip/wheels/76/44/74/b498c42be47b2406bd27994e16c5188e337c657025ab400c1c\n",
            "Successfully built scikit-surprise\n",
            "Installing collected packages: scikit-surprise, surprise\n",
            "Successfully installed scikit-surprise-1.1.1 surprise-0.1\n"
          ],
          "name": "stdout"
        }
      ]
    },
    {
      "cell_type": "code",
      "metadata": {
        "id": "Ec4GyCGfopUF"
      },
      "source": [
        "from surprise import Reader,Dataset"
      ],
      "execution_count": 53,
      "outputs": []
    },
    {
      "cell_type": "code",
      "metadata": {
        "id": "3pxH7uHyHoUU"
      },
      "source": [
        "data = Dataset.load_from_df(text_df,Reader(rating_scale=(1,5)))\n",
        "# data.split(n_folds=5)"
      ],
      "execution_count": 62,
      "outputs": []
    },
    {
      "cell_type": "code",
      "metadata": {
        "id": "7zk56HtxImsx"
      },
      "source": [
        "from surprise import SVD\n",
        "from surprise.model_selection import cross_validate\n",
        "from surprise.model_selection import GridSearchCV\n",
        "from surprise import NormalPredictor\n",
        "from surprise import KNNBasic\n",
        "from surprise import KNNWithMeans\n",
        "from surprise import KNNWithZScore\n",
        "from surprise import KNNBaseline\n",
        "from surprise import SVD\n",
        "from surprise import BaselineOnly\n",
        "from surprise import SVDpp\n",
        "from surprise import NMF\n",
        "from surprise import SlopeOne\n",
        "from surprise import CoClustering\n",
        "from surprise.accuracy import rmse\n",
        "from surprise import accuracy\n",
        "from surprise.model_selection import train_test_split"
      ],
      "execution_count": 63,
      "outputs": []
    },
    {
      "cell_type": "code",
      "metadata": {
        "id": "c0p1DvcIIorp"
      },
      "source": [
        "# param_grid = {'lr_all':[0.002,0.05],'reg_all':[0.4,0.6]}\n",
        "# grid_search = GridSearchCV(SVD,param_grid,measures=[\"RMSE\",\"MAE\"],cv=5)\n",
        "# grid_search.fit(data)"
      ],
      "execution_count": 56,
      "outputs": []
    },
    {
      "cell_type": "code",
      "metadata": {
        "id": "rAa2uO-nKN22"
      },
      "source": [
        "# algo = SVD()\n",
        "\n",
        "# # Run 5-fold cross-validation and then print results\n",
        "# cross_validate(algo, data, measures=['RMSE', 'MAE'], cv=5, verbose=True)\n"
      ],
      "execution_count": 57,
      "outputs": []
    },
    {
      "cell_type": "code",
      "metadata": {
        "colab": {
          "base_uri": "https://localhost:8080/"
        },
        "id": "sGCPM4cSMGNT",
        "outputId": "210ae71b-090d-456d-af04-374a3df833d3"
      },
      "source": [
        "# reader = Reader(rating_scale=(1, 5))\n",
        "# data = Dataset.load_from_df(text_df_temp[['userID', 'itemID', 'rating']], reader)\n",
        "# trainSet, testSet = train_test_split(data, test_size=.25, random_state=0)\n",
        "# algo = SVD(random_state=0)\n",
        "# algo.fit(trainSet)\n",
        "# predictions = algo.test(testSet)\n",
        "\n",
        "# def MAE(predictions):\n",
        "#         return accuracy.mae(predictions, verbose=False)\n",
        "# def RMSE(predictions):\n",
        "#         return accuracy.rmse(predictions, verbose=False)\n",
        "    \n",
        "# print(\"RMSE: \", RMSE(predictions))\n",
        "# print(\"MAE: \", MAE(predictions))"
      ],
      "execution_count": 94,
      "outputs": [
        {
          "output_type": "stream",
          "text": [
            "RMSE:  4.515332672976171\n",
            "MAE:  2.093177970861536\n"
          ],
          "name": "stdout"
        }
      ]
    },
    {
      "cell_type": "code",
      "metadata": {
        "id": "ay_qSDscBrtn"
      },
      "source": [
        "benchmark = []\n",
        "# for algorithm in [SVD(), NMF(), KNNBaseline(), KNNBasic(), KNNWithZScore(), BaselineOnly()]:\n",
        "# print(\"ALGO name\", algorithm )\n",
        "# results = cross_validate(algorithm, data, measures=['RMSE','MAE'], cv=5, verbose=True)\n",
        "# tmp = pd.DataFrame.from_dict(results).mean(axis=0)\n",
        "# tmp = tmp.append(pd.Series([str(algorithm).split(' ')[0].split('.')[-1]], index=['Algorithm']))\n",
        "# benchmark.append(tmp)"
      ],
      "execution_count": 58,
      "outputs": []
    },
    {
      "cell_type": "code",
      "metadata": {
        "colab": {
          "base_uri": "https://localhost:8080/"
        },
        "id": "mnKB1FNUTkDT",
        "outputId": "765fa32f-60e3-403e-c904-33a26c57bb34"
      },
      "source": [
        "results = cross_validate(SVD(), data, measures=['RMSE','MAE'], cv=5, verbose=True)\n",
        "tmp = pd.DataFrame.from_dict(results).mean(axis=0)\n",
        "tmp = tmp.append(pd.Series([str(SVD()).split(' ')[0].split('.')[-1]], index=['Algorithm']))\n",
        "benchmark.append(tmp)"
      ],
      "execution_count": 59,
      "outputs": [
        {
          "output_type": "stream",
          "text": [
            "Evaluating RMSE, MAE of algorithm SVD on 5 split(s).\n",
            "\n",
            "                  Fold 1  Fold 2  Fold 3  Fold 4  Fold 5  Mean    Std     \n",
            "RMSE (testset)    6.5621  7.0425  6.7582  7.4152  6.4998  6.8556  0.3377  \n",
            "MAE (testset)     3.9135  3.9214  3.9017  3.9116  3.8858  3.9068  0.0122  \n",
            "Fit time          112.71  112.17  113.47  112.77  116.26  113.48  1.45    \n",
            "Test time         8.92    8.93    8.83    8.64    8.96    8.85    0.12    \n"
          ],
          "name": "stdout"
        }
      ]
    },
    {
      "cell_type": "code",
      "metadata": {
        "colab": {
          "base_uri": "https://localhost:8080/"
        },
        "id": "PG_74XTcTkqZ",
        "outputId": "03987b26-b790-481c-a030-2c580b92cace"
      },
      "source": [
        "results = cross_validate(NMF(), data, measures=['RMSE','MAE'], cv=5, verbose=True)\n",
        "tmp = pd.DataFrame.from_dict(results).mean(axis=0)\n",
        "tmp = tmp.append(pd.Series([str(NMF()).split(' ')[0].split('.')[-1]], index=['Algorithm']))\n",
        "benchmark.append(tmp)"
      ],
      "execution_count": 60,
      "outputs": [
        {
          "output_type": "stream",
          "text": [
            "Evaluating RMSE, MAE of algorithm NMF on 5 split(s).\n",
            "\n",
            "                  Fold 1  Fold 2  Fold 3  Fold 4  Fold 5  Mean    Std     \n",
            "RMSE (testset)    6.2926  6.4524  6.2688  7.0815  6.0599  6.4311  0.3484  \n",
            "MAE (testset)     2.1567  2.1611  2.1619  2.1709  2.1627  2.1627  0.0046  \n",
            "Fit time          154.86  155.83  157.56  155.73  158.80  156.55  1.43    \n",
            "Test time         8.21    8.14    8.08    8.08    8.08    8.11    0.05    \n"
          ],
          "name": "stdout"
        }
      ]
    },
    {
      "cell_type": "code",
      "metadata": {
        "colab": {
          "base_uri": "https://localhost:8080/"
        },
        "id": "tf_qZYxXTkvE",
        "outputId": "d98d988d-59b3-49fd-862e-55f3ae700967"
      },
      "source": [
        "results = cross_validate(BaselineOnly(), data, measures=['RMSE','MAE'], cv=5, verbose=True)\n",
        "tmp = pd.DataFrame.from_dict(results).mean(axis=0)\n",
        "tmp = tmp.append(pd.Series([str(BaselineOnly()).split(' ')[0].split('.')[-1]], index=['Algorithm']))\n",
        "benchmark.append(tmp)"
      ],
      "execution_count": 61,
      "outputs": [
        {
          "output_type": "stream",
          "text": [
            "Estimating biases using als...\n",
            "Estimating biases using als...\n",
            "Estimating biases using als...\n",
            "Estimating biases using als...\n",
            "Estimating biases using als...\n",
            "Evaluating RMSE, MAE of algorithm BaselineOnly on 5 split(s).\n",
            "\n",
            "                  Fold 1  Fold 2  Fold 3  Fold 4  Fold 5  Mean    Std     \n",
            "RMSE (testset)    5.9845  6.5261  7.0628  6.0801  6.0431  6.3393  0.4097  \n",
            "MAE (testset)     2.2772  2.2841  2.2777  2.2709  2.2634  2.2747  0.0070  \n",
            "Fit time          17.01   18.27   18.67   18.36   18.79   18.22   0.63    \n",
            "Test time         7.68    7.25    7.40    7.18    7.23    7.35    0.18    \n"
          ],
          "name": "stdout"
        }
      ]
    },
    {
      "cell_type": "code",
      "metadata": {
        "colab": {
          "base_uri": "https://localhost:8080/"
        },
        "id": "nSKX7YP3Byqt",
        "outputId": "89ed8a2e-3d32-4ab1-ad2e-5cd2f045deaf"
      },
      "source": [
        "benchmark"
      ],
      "execution_count": 62,
      "outputs": [
        {
          "output_type": "execute_result",
          "data": {
            "text/plain": [
              "[test_rmse    6.85557\n",
              " test_mae     3.90678\n",
              " fit_time     113.477\n",
              " test_time    8.85473\n",
              " Algorithm        SVD\n",
              " dtype: object, test_rmse    6.43105\n",
              " test_mae     2.16266\n",
              " fit_time     156.555\n",
              " test_time    8.11486\n",
              " Algorithm        NMF\n",
              " dtype: object, test_rmse         6.33932\n",
              " test_mae          2.27469\n",
              " fit_time          18.2201\n",
              " test_time         7.34989\n",
              " Algorithm    BaselineOnly\n",
              " dtype: object]"
            ]
          },
          "metadata": {
            "tags": []
          },
          "execution_count": 62
        }
      ]
    },
    {
      "cell_type": "code",
      "metadata": {
        "id": "c98cgAI0C3Mn"
      },
      "source": [
        "algo_Results = pd.DataFrame(benchmark).set_index(\"Algorithm\").sort_values(\"test_rmse\")"
      ],
      "execution_count": 63,
      "outputs": []
    },
    {
      "cell_type": "code",
      "metadata": {
        "id": "YlPCJ4eVEakj"
      },
      "source": [
        "algo_Results.to_csv(\"/content/drive/MyDrive/algo_result.csv\")"
      ],
      "execution_count": 65,
      "outputs": []
    },
    {
      "cell_type": "code",
      "metadata": {
        "id": "rm-uV_ZFV4e9"
      },
      "source": [
        "algo_Results = pd.read_csv(\"/content/drive/MyDrive/algo_result.csv\")"
      ],
      "execution_count": 56,
      "outputs": []
    },
    {
      "cell_type": "code",
      "metadata": {
        "colab": {
          "base_uri": "https://localhost:8080/",
          "height": 143
        },
        "id": "6Nea-pMGEeMT",
        "outputId": "9487d072-17c0-49f6-be81-6a0d7c9931c2"
      },
      "source": [
        "algo_Results.head()"
      ],
      "execution_count": 57,
      "outputs": [
        {
          "output_type": "execute_result",
          "data": {
            "text/html": [
              "<div>\n",
              "<style scoped>\n",
              "    .dataframe tbody tr th:only-of-type {\n",
              "        vertical-align: middle;\n",
              "    }\n",
              "\n",
              "    .dataframe tbody tr th {\n",
              "        vertical-align: top;\n",
              "    }\n",
              "\n",
              "    .dataframe thead th {\n",
              "        text-align: right;\n",
              "    }\n",
              "</style>\n",
              "<table border=\"1\" class=\"dataframe\">\n",
              "  <thead>\n",
              "    <tr style=\"text-align: right;\">\n",
              "      <th></th>\n",
              "      <th>Algorithm</th>\n",
              "      <th>test_rmse</th>\n",
              "      <th>test_mae</th>\n",
              "      <th>fit_time</th>\n",
              "      <th>test_time</th>\n",
              "    </tr>\n",
              "  </thead>\n",
              "  <tbody>\n",
              "    <tr>\n",
              "      <th>0</th>\n",
              "      <td>BaselineOnly</td>\n",
              "      <td>6.339318</td>\n",
              "      <td>2.274690</td>\n",
              "      <td>18.220139</td>\n",
              "      <td>7.349895</td>\n",
              "    </tr>\n",
              "    <tr>\n",
              "      <th>1</th>\n",
              "      <td>NMF</td>\n",
              "      <td>6.431054</td>\n",
              "      <td>2.162662</td>\n",
              "      <td>156.554848</td>\n",
              "      <td>8.114863</td>\n",
              "    </tr>\n",
              "    <tr>\n",
              "      <th>2</th>\n",
              "      <td>SVD</td>\n",
              "      <td>6.855565</td>\n",
              "      <td>3.906780</td>\n",
              "      <td>113.476743</td>\n",
              "      <td>8.854725</td>\n",
              "    </tr>\n",
              "  </tbody>\n",
              "</table>\n",
              "</div>"
            ],
            "text/plain": [
              "      Algorithm  test_rmse  test_mae    fit_time  test_time\n",
              "0  BaselineOnly   6.339318  2.274690   18.220139   7.349895\n",
              "1           NMF   6.431054  2.162662  156.554848   8.114863\n",
              "2           SVD   6.855565  3.906780  113.476743   8.854725"
            ]
          },
          "metadata": {
            "tags": []
          },
          "execution_count": 57
        }
      ]
    },
    {
      "cell_type": "code",
      "metadata": {
        "colab": {
          "base_uri": "https://localhost:8080/"
        },
        "id": "ADkaVHbPuS0O",
        "outputId": "4f2347be-0e9a-4dd2-eefc-b8ff5c45800d"
      },
      "source": [
        "#Baseline is the best model that can be used to predict from the goven data\n",
        "bsl_options = {'method':'als', 'n_epochs':10,'reg_u':12,'reg_i':5}\n",
        "\n",
        "Baseline_model = BaselineOnly(bsl_options=bsl_options)\n",
        "cross_validate(Baseline_model,data,measures=[\"RMSE\",\"MAE\"],cv=8,verbose=False)"
      ],
      "execution_count": 72,
      "outputs": [
        {
          "output_type": "stream",
          "text": [
            "Estimating biases using als...\n",
            "Estimating biases using als...\n",
            "Estimating biases using als...\n",
            "Estimating biases using als...\n",
            "Estimating biases using als...\n",
            "Estimating biases using als...\n",
            "Estimating biases using als...\n",
            "Estimating biases using als...\n"
          ],
          "name": "stdout"
        },
        {
          "output_type": "execute_result",
          "data": {
            "text/plain": [
              "{'fit_time': (17.482353687286377,\n",
              "  19.275850296020508,\n",
              "  19.43355965614319,\n",
              "  19.476083755493164,\n",
              "  19.174111127853394,\n",
              "  18.969635486602783,\n",
              "  19.383749961853027,\n",
              "  19.441040515899658),\n",
              " 'test_mae': array([2.232801  , 2.25912339, 2.25268783, 2.23991069, 2.26288627,\n",
              "        2.25891531, 2.25582528, 2.24834953]),\n",
              " 'test_rmse': array([6.18300749, 6.15719847, 6.12244618, 5.72245975, 6.33073142,\n",
              "        6.76285824, 7.30368122, 6.06858977]),\n",
              " 'test_time': (5.059303522109985,\n",
              "  3.904162645339966,\n",
              "  4.032511234283447,\n",
              "  5.030643939971924,\n",
              "  4.000767230987549,\n",
              "  3.959017753601074,\n",
              "  3.9950034618377686,\n",
              "  5.0114710330963135)}"
            ]
          },
          "metadata": {
            "tags": []
          },
          "execution_count": 72
        }
      ]
    },
    {
      "cell_type": "code",
      "metadata": {
        "id": "eWIzhu1H2PIa"
      },
      "source": [
        "# train,test = train_test_split(data,test_size=0.2)\n",
        "# bsl_options = {'method':'als', 'n_epochs':10,'reg_u':12,'reg_i':5}\n",
        "\n",
        "# Baseline_model = BaselineOnly(bsl_options=bsl_options)\n",
        "# pred  =Baseline_model.fit(train).test(test)\n",
        "# accuracy.mae(pred)"
      ],
      "execution_count": 124,
      "outputs": []
    },
    {
      "cell_type": "code",
      "metadata": {
        "id": "_2C4NrR7Wkyj"
      },
      "source": [
        "from collections import defaultdict"
      ],
      "execution_count": 59,
      "outputs": []
    },
    {
      "cell_type": "code",
      "metadata": {
        "id": "0H2NFLvr8Iid"
      },
      "source": [
        "def get_top_n(predictions, n=10):\n",
        "    top_n = defaultdict(list)\n",
        "    for uid, iid, true_r, est, _ in predictions:\n",
        "        top_n[uid].append((iid, est))\n",
        "\n",
        "    for uid, user_ratings in top_n.items():\n",
        "        user_ratings.sort(key=lambda x: x[1], reverse=True)\n",
        "        top_n[uid] = user_ratings[:n]\n",
        "\n",
        "    return top_n"
      ],
      "execution_count": 123,
      "outputs": []
    },
    {
      "cell_type": "code",
      "metadata": {
        "colab": {
          "base_uri": "https://localhost:8080/"
        },
        "id": "66e_-oJMVepC",
        "outputId": "96374c48-bc07-4501-fda8-a169679a3529"
      },
      "source": [
        "train,test = train_test_split(data,test_size=0.2)\n",
        "bsl_options = {'method':'als', 'n_epochs':10,'reg_u':12,'reg_i':5}\n",
        "\n",
        "Baseline_model = BaselineOnly(bsl_options=bsl_options)\n",
        "Baseline_model.fit(train)\n",
        "pred = Baseline_model.test(test)\n",
        "accuracy.mae(pred)"
      ],
      "execution_count": 64,
      "outputs": [
        {
          "output_type": "stream",
          "text": [
            "Estimating biases using als...\n",
            "MAE:  2.2547\n"
          ],
          "name": "stdout"
        },
        {
          "output_type": "execute_result",
          "data": {
            "text/plain": [
              "2.2547106685535105"
            ]
          },
          "metadata": {
            "tags": []
          },
          "execution_count": 64
        }
      ]
    },
    {
      "cell_type": "code",
      "metadata": {
        "id": "omo_KN8GXXZw"
      },
      "source": [
        "top_n = get_top_n(pred, n=10)"
      ],
      "execution_count": 66,
      "outputs": []
    },
    {
      "cell_type": "code",
      "metadata": {
        "id": "jSihIYIfXxF_"
      },
      "source": [
        "uid_list = []\n",
        "for uid, user_ratings in top_n.items():\n",
        "  # print(uid, [iid for (iid, _) in user_ratings])\n",
        "  uid_list.append(uid)"
      ],
      "execution_count": 83,
      "outputs": []
    },
    {
      "cell_type": "code",
      "metadata": {
        "id": "4uah6KCRYiSg"
      },
      "source": [
        "#Enter user id:\n",
        "input_user_id = \"398f9bff0c6aa86ea0683542dcc1f813c5e9f9fd\""
      ],
      "execution_count": 84,
      "outputs": []
    },
    {
      "cell_type": "code",
      "metadata": {
        "colab": {
          "base_uri": "https://localhost:8080/"
        },
        "id": "Mj6quZj-du_f",
        "outputId": "46f99cc6-e3ba-48bc-aced-41af6d92741d"
      },
      "source": [
        "print(\"Song recommended for given user is/are: with predicted rating\")\n",
        "for (iid, rating) in top_n[input_user_id]:\n",
        "  print(\"{}\\t{}\".format(user_df_threshold[user_df_threshold[\"song_id\"]==iid][\"title\"].tolist()[0],rating))\n",
        "  # print(iid)"
      ],
      "execution_count": 122,
      "outputs": [
        {
          "output_type": "stream",
          "text": [
            "Song recommended for given user is/are: with predicted rating\n",
            "Fast Car (LP Version)\t3.9142941040332135\n",
            "Sehr kosmisch\t2.7605862852308127\n",
            "Lucky (Album Version)\t2.3445626719963597\n",
            "Dirty Little Secret\t1.9010532796083153\n",
            "The Fear\t1.6893418771845161\n",
            "Gives You Hell\t1.6025036139774862\n",
            "One And Only\t1.486861490650283\n",
            "Just Missed The Train\t1.3141057178875655\n",
            "You Are Mine\t1.225900913269017\n",
            "One Kiss From You\t1.0221668262291417\n"
          ],
          "name": "stdout"
        }
      ]
    },
    {
      "cell_type": "code",
      "metadata": {
        "id": "e_ptCIXxefWe"
      },
      "source": [
        ""
      ],
      "execution_count": null,
      "outputs": []
    }
  ]
}